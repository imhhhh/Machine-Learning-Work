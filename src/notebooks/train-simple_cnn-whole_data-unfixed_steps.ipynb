{
 "cells": [
  {
   "cell_type": "code",
   "execution_count": 1,
   "metadata": {},
   "outputs": [
    {
     "name": "stdout",
     "output_type": "stream",
     "text": [
      "True\n",
      "True\n",
      "/home/rangulov/cropped_aligned\n"
     ]
    }
   ],
   "source": [
    "import tensorflow as tf\n",
    "import os,sys\n",
    "import warnings\n",
    "warnings.filterwarnings('ignore')\n",
    "import logging\n",
    "logging.getLogger('tensorflow').disabled = True\n",
    "# gpu_devices = tf.config.experimental.list_physical_devices('GPU')\n",
    "# tf.config.experimental.set_memory_growth(gpu_devices[0], True)\n",
    "\n",
    "print(tf.test.is_gpu_available())\n",
    "print(tf.test.is_built_with_cuda())\n",
    "\n",
    "os.chdir(\"/home/rangulov/EmotionRecognition\")\n",
    "ROOT_DIR = os.path.abspath(\".\")\n",
    "sys.path.append(ROOT_DIR)\n",
    "import src.config\n",
    "print(src.config.PROCESSED_FRAMES_DATA_DIR)"
   ]
  },
  {
   "cell_type": "code",
   "execution_count": null,
   "metadata": {},
   "outputs": [
    {
     "name": "stdout",
     "output_type": "stream",
     "text": [
      "Loading Simple CNN by Khorrami with CCC loss\n",
      "Model: \"sequential\"\n",
      "_________________________________________________________________\n",
      "Layer (type)                 Output Shape              Param #   \n",
      "=================================================================\n",
      "batch_normalization (BatchNo (None, 96, 96, 1)         4         \n",
      "_________________________________________________________________\n",
      "conv2d (Conv2D)              (None, 96, 96, 64)        1600      \n",
      "_________________________________________________________________\n",
      "max_pooling2d (MaxPooling2D) (None, 48, 48, 64)        0         \n",
      "_________________________________________________________________\n",
      "conv2d_1 (Conv2D)            (None, 44, 44, 128)       204800    \n",
      "_________________________________________________________________\n",
      "max_pooling2d_1 (MaxPooling2 (None, 22, 22, 128)       0         \n",
      "_________________________________________________________________\n",
      "conv2d_2 (Conv2D)            (None, 18, 18, 256)       819200    \n",
      "_________________________________________________________________\n",
      "average_pooling2d (AveragePo (None, 2, 2, 256)         0         \n",
      "_________________________________________________________________\n",
      "flatten (Flatten)            (None, 1024)              0         \n",
      "_________________________________________________________________\n",
      "dense (Dense)                (None, 300)               307500    \n",
      "_________________________________________________________________\n",
      "dropout (Dropout)            (None, 300)               0         \n",
      "_________________________________________________________________\n",
      "dense_1 (Dense)              (None, 2)                 602       \n",
      "=================================================================\n",
      "Total params: 1,333,706\n",
      "Trainable params: 1,333,704\n",
      "Non-trainable params: 2\n",
      "_________________________________________________________________\n",
      "None\n",
      "Epoch 1/100\n",
      "12451/12451 [==============================] - ETA: 0s - loss: 0.2490 - rmse: 0.2400 - rmse_v: 0.2724 - rmse_a: 0.2077 - cc_v: 0.7611 - cc_a: 0.7541 - ccc_v: 0.7547 - ccc_a: 0.7472\n",
      "Epoch 00001: val_loss improved from inf to 0.84871, saving model to /home/rangulov/EmotionRecognition/data/checkpoints/simple_cnn_ccc_loss.0001-0.8487.hdf5\n",
      "12451/12451 [==============================] - 2272s 182ms/step - loss: 0.2490 - rmse: 0.2400 - rmse_v: 0.2724 - rmse_a: 0.2077 - cc_v: 0.7611 - cc_a: 0.7541 - ccc_v: 0.7547 - ccc_a: 0.7472 - val_loss: 0.8487 - val_rmse: 0.3703 - val_rmse_v: 0.4474 - val_rmse_a: 0.2933 - val_cc_v: 0.1349 - val_cc_a: 0.2331 - val_ccc_v: 0.0944 - val_ccc_a: 0.2082\n",
      "Epoch 2/100\n",
      "12451/12451 [==============================] - ETA: 0s - loss: 0.1256 - rmse: 0.1736 - rmse_v: 0.1945 - rmse_a: 0.1527 - cc_v: 0.8853 - cc_a: 0.8706 - ccc_v: 0.8820 - ccc_a: 0.8668\n",
      "Epoch 00002: val_loss improved from 0.84871 to 0.84196, saving model to /home/rangulov/EmotionRecognition/data/checkpoints/simple_cnn_ccc_loss.0002-0.8420.hdf5\n",
      "12451/12451 [==============================] - 2281s 183ms/step - loss: 0.1256 - rmse: 0.1736 - rmse_v: 0.1945 - rmse_a: 0.1527 - cc_v: 0.8853 - cc_a: 0.8706 - ccc_v: 0.8820 - ccc_a: 0.8668 - val_loss: 0.8420 - val_rmse: 0.3672 - val_rmse_v: 0.4455 - val_rmse_a: 0.2888 - val_cc_v: 0.1540 - val_cc_a: 0.2250 - val_ccc_v: 0.1117 - val_ccc_a: 0.2044\n",
      "Epoch 3/100\n",
      "12451/12451 [==============================] - ETA: 0s - loss: 0.0986 - rmse: 0.1537 - rmse_v: 0.1717 - rmse_a: 0.1358 - cc_v: 0.9106 - cc_a: 0.8976 - ccc_v: 0.9081 - ccc_a: 0.8947\n",
      "Epoch 00003: val_loss did not improve from 0.84196\n",
      "12451/12451 [==============================] - 2279s 183ms/step - loss: 0.0986 - rmse: 0.1537 - rmse_v: 0.1717 - rmse_a: 0.1358 - cc_v: 0.9106 - cc_a: 0.8976 - ccc_v: 0.9081 - ccc_a: 0.8947 - val_loss: 0.8736 - val_rmse: 0.3696 - val_rmse_v: 0.4435 - val_rmse_a: 0.2958 - val_cc_v: 0.1070 - val_cc_a: 0.1993 - val_ccc_v: 0.0802 - val_ccc_a: 0.1726\n",
      "Epoch 4/100\n",
      "12451/12451 [==============================] - ETA: 0s - loss: 0.0841 - rmse: 0.1419 - rmse_v: 0.1583 - rmse_a: 0.1256 - cc_v: 0.9240 - cc_a: 0.9124 - ccc_v: 0.9218 - ccc_a: 0.9099\n",
      "Epoch 00004: val_loss did not improve from 0.84196\n",
      "12451/12451 [==============================] - 2282s 183ms/step - loss: 0.0841 - rmse: 0.1419 - rmse_v: 0.1583 - rmse_a: 0.1256 - cc_v: 0.9240 - cc_a: 0.9124 - ccc_v: 0.9218 - ccc_a: 0.9099 - val_loss: 0.8872 - val_rmse: 0.3719 - val_rmse_v: 0.4553 - val_rmse_a: 0.2885 - val_cc_v: 0.0657 - val_cc_a: 0.1999 - val_ccc_v: 0.0497 - val_ccc_a: 0.1758\n",
      "Epoch 5/100\n",
      "12451/12451 [==============================] - ETA: 0s - loss: 0.0748 - rmse: 0.1338 - rmse_v: 0.1493 - rmse_a: 0.1184 - cc_v: 0.9324 - cc_a: 0.9221 - ccc_v: 0.9305 - ccc_a: 0.9199\n",
      "Epoch 00005: val_loss did not improve from 0.84196\n",
      "12451/12451 [==============================] - 2283s 183ms/step - loss: 0.0748 - rmse: 0.1338 - rmse_v: 0.1493 - rmse_a: 0.1184 - cc_v: 0.9324 - cc_a: 0.9221 - ccc_v: 0.9305 - ccc_a: 0.9199 - val_loss: 0.8828 - val_rmse: 0.3686 - val_rmse_v: 0.4484 - val_rmse_a: 0.2888 - val_cc_v: 0.0907 - val_cc_a: 0.1880 - val_ccc_v: 0.0666 - val_ccc_a: 0.1678\n",
      "Epoch 6/100\n",
      "12451/12451 [==============================] - ETA: 0s - loss: 0.0683 - rmse: 0.1279 - rmse_v: 0.1427 - rmse_a: 0.1131 - cc_v: 0.9382 - cc_a: 0.9289 - ccc_v: 0.9365 - ccc_a: 0.9269\n",
      "Epoch 00006: val_loss did not improve from 0.84196\n",
      "12451/12451 [==============================] - 2279s 183ms/step - loss: 0.0683 - rmse: 0.1279 - rmse_v: 0.1427 - rmse_a: 0.1131 - cc_v: 0.9382 - cc_a: 0.9289 - ccc_v: 0.9365 - ccc_a: 0.9269 - val_loss: 0.8681 - val_rmse: 0.3674 - val_rmse_v: 0.4456 - val_rmse_a: 0.2892 - val_cc_v: 0.1186 - val_cc_a: 0.1967 - val_ccc_v: 0.0896 - val_ccc_a: 0.1742\n",
      "Epoch 7/100\n",
      " 7629/12451 [=================>............] - ETA: 13:39 - loss: 0.0635 - rmse: 0.1232 - rmse_v: 0.1374 - rmse_a: 0.1090 - cc_v: 0.9426 - cc_a: 0.9339 - ccc_v: 0.9410 - ccc_a: 0.9320"
     ]
    }
   ],
   "source": [
    "%run src/train_cnn.py"
   ]
  },
  {
   "cell_type": "code",
   "execution_count": null,
   "metadata": {},
   "outputs": [],
   "source": []
  },
  {
   "cell_type": "code",
   "execution_count": null,
   "metadata": {},
   "outputs": [],
   "source": []
  }
 ],
 "metadata": {
  "kernelspec": {
   "display_name": "Python 3",
   "language": "python",
   "name": "python3"
  },
  "language_info": {
   "codemirror_mode": {
    "name": "ipython",
    "version": 3
   },
   "file_extension": ".py",
   "mimetype": "text/x-python",
   "name": "python",
   "nbconvert_exporter": "python",
   "pygments_lexer": "ipython3",
   "version": "3.7.6"
  }
 },
 "nbformat": 4,
 "nbformat_minor": 4
}
