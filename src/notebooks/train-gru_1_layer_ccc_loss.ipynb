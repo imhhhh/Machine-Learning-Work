{
 "cells": [
  {
   "cell_type": "code",
   "execution_count": 1,
   "metadata": {},
   "outputs": [
    {
     "name": "stdout",
     "output_type": "stream",
     "text": [
      "True\n",
      "True\n",
      "/home/rangulov/cropped_aligned\n"
     ]
    }
   ],
   "source": [
    "import tensorflow as tf\n",
    "import os,sys\n",
    "import warnings\n",
    "warnings.filterwarnings('ignore')\n",
    "import logging\n",
    "logging.getLogger('tensorflow').disabled = True\n",
    "# gpu_devices = tf.config.experimental.list_physical_devices('GPU')\n",
    "# tf.config.experimental.set_memory_growth(gpu_devices[0], True)\n",
    "\n",
    "print(tf.test.is_gpu_available())\n",
    "print(tf.test.is_built_with_cuda())\n",
    "\n",
    "os.chdir(\"/home/rangulov/EmotionRecognition\")\n",
    "ROOT_DIR = os.path.abspath(\".\")\n",
    "sys.path.append(ROOT_DIR)\n",
    "import src.config\n",
    "print(src.config.PROCESSED_FRAMES_DATA_DIR)"
   ]
  },
  {
   "cell_type": "code",
   "execution_count": 2,
   "metadata": {},
   "outputs": [
    {
     "name": "stdout",
     "output_type": "stream",
     "text": [
      "Loading 1 layer GRU model.\n",
      "Model: \"sequential\"\n",
      "_________________________________________________________________\n",
      "Layer (type)                 Output Shape              Param #   \n",
      "=================================================================\n",
      "gru (GRU)                    (None, None, 100)         120600    \n",
      "_________________________________________________________________\n",
      "time_distributed (TimeDistri (None, None, 2)           202       \n",
      "=================================================================\n",
      "Total params: 120,802\n",
      "Trainable params: 120,802\n",
      "Non-trainable params: 0\n",
      "_________________________________________________________________\n",
      "None\n",
      "Number of sequences for train generator: 1496928\n",
      "Number of sequences for test generator: 319122\n",
      "Epoch 1/100\n",
      "5845/5847 [============================>.] - ETA: 0s - loss: 0.5649 - rmse: 0.3396 - rmse_v: 0.3635 - rmse_a: 0.3536 - cc_v: 0.5035 - cc_a: 0.5054 - ccc_v: 0.4326 - ccc_a: 0.4377\n",
      "Epoch 00001: val_loss improved from inf to 0.81461, saving model to /home/rangulov/EmotionRecognition/data/checkpoints/gru_1_layer_ccc_loss-epoch:01-loss:0.8146-ccc_v:0.1799-ccc_a:0.1909.hdf5\n",
      "5847/5847 [==============================] - 177s 30ms/step - loss: 0.5649 - rmse: 0.3395 - rmse_v: 0.3635 - rmse_a: 0.3536 - cc_v: 0.5035 - cc_a: 0.5054 - ccc_v: 0.4326 - ccc_a: 0.4377 - val_loss: 0.8146 - val_rmse: 0.3511 - val_rmse_v: 0.3507 - val_rmse_a: 0.3441 - val_cc_v: 0.2124 - val_cc_a: 0.2164 - val_ccc_v: 0.1799 - val_ccc_a: 0.1909\n",
      "Epoch 2/100\n",
      "5846/5847 [============================>.] - ETA: 0s - loss: 0.5007 - rmse: 0.4891 - rmse_v: 0.3149 - rmse_a: 0.3449 - cc_v: 0.5193 - cc_a: 0.5210 - ccc_v: 0.4884 - ccc_a: 0.5101\n",
      "Epoch 00002: val_loss improved from 0.81461 to 0.78617, saving model to /home/rangulov/EmotionRecognition/data/checkpoints/gru_1_layer_ccc_loss-epoch:02-loss:0.7862-ccc_v:0.2180-ccc_a:0.2097.hdf5\n",
      "5847/5847 [==============================] - 160s 27ms/step - loss: 0.5007 - rmse: 0.4891 - rmse_v: 0.3149 - rmse_a: 0.3449 - cc_v: 0.5193 - cc_a: 0.5210 - ccc_v: 0.4884 - ccc_a: 0.5101 - val_loss: 0.7862 - val_rmse: 0.5338 - val_rmse_v: 0.3719 - val_rmse_a: 0.4419 - val_cc_v: 0.2250 - val_cc_a: 0.2127 - val_ccc_v: 0.2180 - val_ccc_a: 0.2097\n",
      "Epoch 3/100\n",
      "5847/5847 [==============================] - ETA: 0s - loss: 0.4646 - rmse: 0.3916 - rmse_v: 0.3117 - rmse_a: 0.3468 - cc_v: 0.5409 - cc_a: 0.5446 - ccc_v: 0.5311 - ccc_a: 0.5397\n",
      "Epoch 00003: val_loss improved from 0.78617 to 0.77898, saving model to /home/rangulov/EmotionRecognition/data/checkpoints/gru_1_layer_ccc_loss-epoch:03-loss:0.7790-ccc_v:0.2263-ccc_a:0.2157.hdf5\n",
      "5847/5847 [==============================] - 146s 25ms/step - loss: 0.4646 - rmse: 0.3916 - rmse_v: 0.3117 - rmse_a: 0.3468 - cc_v: 0.5409 - cc_a: 0.5446 - ccc_v: 0.5311 - ccc_a: 0.5397 - val_loss: 0.7790 - val_rmse: 0.4773 - val_rmse_v: 0.3854 - val_rmse_a: 0.4239 - val_cc_v: 0.2309 - val_cc_a: 0.2199 - val_ccc_v: 0.2263 - val_ccc_a: 0.2157\n",
      "Epoch 4/100\n",
      "5847/5847 [==============================] - ETA: 0s - loss: 0.4346 - rmse: 0.4052 - rmse_v: 0.3097 - rmse_a: 0.3294 - cc_v: 0.5680 - cc_a: 0.5739 - ccc_v: 0.5617 - ccc_a: 0.5690\n",
      "Epoch 00004: val_loss improved from 0.77898 to 0.76575, saving model to /home/rangulov/EmotionRecognition/data/checkpoints/gru_1_layer_ccc_loss-epoch:04-loss:0.7658-ccc_v:0.2347-ccc_a:0.2338.hdf5\n",
      "5847/5847 [==============================] - 143s 24ms/step - loss: 0.4346 - rmse: 0.4052 - rmse_v: 0.3097 - rmse_a: 0.3294 - cc_v: 0.5680 - cc_a: 0.5739 - ccc_v: 0.5617 - ccc_a: 0.5690 - val_loss: 0.7658 - val_rmse: 0.5293 - val_rmse_v: 0.3867 - val_rmse_a: 0.4094 - val_cc_v: 0.2387 - val_cc_a: 0.2368 - val_ccc_v: 0.2347 - val_ccc_a: 0.2338\n",
      "Epoch 5/100\n",
      "5845/5847 [============================>.] - ETA: 0s - loss: 0.4073 - rmse: 0.4659 - rmse_v: 0.3037 - rmse_a: 0.3161 - cc_v: 0.5941 - cc_a: 0.6020 - ccc_v: 0.5887 - ccc_a: 0.5967\n",
      "Epoch 00005: val_loss improved from 0.76575 to 0.75129, saving model to /home/rangulov/EmotionRecognition/data/checkpoints/gru_1_layer_ccc_loss-epoch:05-loss:0.7513-ccc_v:0.2471-ccc_a:0.2503.hdf5\n",
      "5847/5847 [==============================] - 144s 25ms/step - loss: 0.4073 - rmse: 0.4659 - rmse_v: 0.3037 - rmse_a: 0.3161 - cc_v: 0.5941 - cc_a: 0.6019 - ccc_v: 0.5887 - ccc_a: 0.5967 - val_loss: 0.7513 - val_rmse: 0.5643 - val_rmse_v: 0.3811 - val_rmse_a: 0.3957 - val_cc_v: 0.2501 - val_cc_a: 0.2521 - val_ccc_v: 0.2471 - val_ccc_a: 0.2503\n",
      "Epoch 6/100\n",
      "5845/5847 [============================>.] - ETA: 0s - loss: 0.3857 - rmse: 0.5115 - rmse_v: 0.2976 - rmse_a: 0.3067 - cc_v: 0.6150 - cc_a: 0.6238 - ccc_v: 0.6100 - ccc_a: 0.6186\n",
      "Epoch 00006: val_loss did not improve from 0.75129\n",
      "5847/5847 [==============================] - 137s 23ms/step - loss: 0.3857 - rmse: 0.5115 - rmse_v: 0.2976 - rmse_a: 0.3067 - cc_v: 0.6150 - cc_a: 0.6238 - ccc_v: 0.6100 - ccc_a: 0.6186 - val_loss: 0.7639 - val_rmse: 0.6284 - val_rmse_v: 0.3858 - val_rmse_a: 0.3977 - val_cc_v: 0.2412 - val_cc_a: 0.2406 - val_ccc_v: 0.2360 - val_ccc_a: 0.2362\n",
      "Epoch 7/100\n",
      "5845/5847 [============================>.] - ETA: 0s - loss: 0.3692 - rmse: 0.5529 - rmse_v: 0.2924 - rmse_a: 0.2997 - cc_v: 0.6313 - cc_a: 0.6405 - ccc_v: 0.6264 - ccc_a: 0.6352\n",
      "Epoch 00007: val_loss did not improve from 0.75129\n",
      "5847/5847 [==============================] - 141s 24ms/step - loss: 0.3692 - rmse: 0.5529 - rmse_v: 0.2924 - rmse_a: 0.2997 - cc_v: 0.6313 - cc_a: 0.6406 - ccc_v: 0.6264 - ccc_a: 0.6352 - val_loss: 0.7554 - val_rmse: 0.6215 - val_rmse_v: 0.3801 - val_rmse_a: 0.3897 - val_cc_v: 0.2484 - val_cc_a: 0.2456 - val_ccc_v: 0.2453 - val_ccc_a: 0.2439\n",
      "Epoch 8/100\n",
      "5846/5847 [============================>.] - ETA: 0s - loss: 0.3564 - rmse: 0.5911 - rmse_v: 0.2881 - rmse_a: 0.2941 - cc_v: 0.6441 - cc_a: 0.6536 - ccc_v: 0.6392 - ccc_a: 0.6480\n",
      "Epoch 00008: val_loss did not improve from 0.75129\n",
      "5847/5847 [==============================] - 131s 22ms/step - loss: 0.3564 - rmse: 0.5911 - rmse_v: 0.2881 - rmse_a: 0.2941 - cc_v: 0.6441 - cc_a: 0.6536 - ccc_v: 0.6392 - ccc_a: 0.6480 - val_loss: 0.7645 - val_rmse: 0.6837 - val_rmse_v: 0.3861 - val_rmse_a: 0.3963 - val_cc_v: 0.2436 - val_cc_a: 0.2385 - val_ccc_v: 0.2379 - val_ccc_a: 0.2331\n",
      "Epoch 9/100\n",
      "5845/5847 [============================>.] - ETA: 0s - loss: 0.3456 - rmse: 0.6232 - rmse_v: 0.2842 - rmse_a: 0.2890 - cc_v: 0.6544 - cc_a: 0.6642 - ccc_v: 0.6499 - ccc_a: 0.6589 ETA: 3s - loss: 0.3458 - rmse: \n",
      "Epoch 00009: val_loss did not improve from 0.75129\n",
      "5847/5847 [==============================] - 132s 23ms/step - loss: 0.3456 - rmse: 0.6233 - rmse_v: 0.2842 - rmse_a: 0.2890 - cc_v: 0.6544 - cc_a: 0.6642 - ccc_v: 0.6499 - ccc_a: 0.6590 - val_loss: 0.7575 - val_rmse: 0.7221 - val_rmse_v: 0.3870 - val_rmse_a: 0.3953 - val_cc_v: 0.2483 - val_cc_a: 0.2456 - val_ccc_v: 0.2434 - val_ccc_a: 0.2417\n",
      "Epoch 10/100\n",
      "5846/5847 [============================>.] - ETA: 0s - loss: 0.3367 - rmse: 0.6543 - rmse_v: 0.2811 - rmse_a: 0.2851 - cc_v: 0.6633 - cc_a: 0.6733 - ccc_v: 0.6587 - ccc_a: 0.6678\n",
      "Epoch 00010: val_loss did not improve from 0.75129\n",
      "5847/5847 [==============================] - 124s 21ms/step - loss: 0.3367 - rmse: 0.6543 - rmse_v: 0.2811 - rmse_a: 0.2851 - cc_v: 0.6633 - cc_a: 0.6733 - ccc_v: 0.6587 - ccc_a: 0.6678 - val_loss: 0.7649 - val_rmse: 0.6916 - val_rmse_v: 0.3860 - val_rmse_a: 0.3934 - val_cc_v: 0.2398 - val_cc_a: 0.2368 - val_ccc_v: 0.2360 - val_ccc_a: 0.2342\n",
      "Epoch 11/100\n",
      "5847/5847 [==============================] - ETA: 0s - loss: 0.3292 - rmse: 0.6645 - rmse_v: 0.2783 - rmse_a: 0.2817 - cc_v: 0.6707 - cc_a: 0.6809 - ccc_v: 0.6662 - ccc_a: 0.6754\n",
      "Epoch 00011: val_loss did not improve from 0.75129\n",
      "5847/5847 [==============================] - 134s 23ms/step - loss: 0.3292 - rmse: 0.6645 - rmse_v: 0.2783 - rmse_a: 0.2817 - cc_v: 0.6707 - cc_a: 0.6809 - ccc_v: 0.6662 - ccc_a: 0.6754 - val_loss: 0.7623 - val_rmse: 0.7398 - val_rmse_v: 0.3848 - val_rmse_a: 0.3907 - val_cc_v: 0.2430 - val_cc_a: 0.2406 - val_ccc_v: 0.2387 - val_ccc_a: 0.2368\n",
      "Epoch 12/100\n",
      "5845/5847 [============================>.] - ETA: 0s - loss: 0.3226 - rmse: 0.6650 - rmse_v: 0.2758 - rmse_a: 0.2788 - cc_v: 0.6773 - cc_a: 0.6875 - ccc_v: 0.6728 - ccc_a: 0.6821\n",
      "Epoch 00012: val_loss did not improve from 0.75129\n",
      "5847/5847 [==============================] - 133s 23ms/step - loss: 0.3225 - rmse: 0.6650 - rmse_v: 0.2757 - rmse_a: 0.2788 - cc_v: 0.6773 - cc_a: 0.6875 - ccc_v: 0.6729 - ccc_a: 0.6821 - val_loss: 0.7582 - val_rmse: 0.7106 - val_rmse_v: 0.3853 - val_rmse_a: 0.3912 - val_cc_v: 0.2480 - val_cc_a: 0.2471 - val_ccc_v: 0.2421 - val_ccc_a: 0.2416\n",
      "Epoch 13/100\n",
      "5846/5847 [============================>.] - ETA: 0s - loss: 0.3170 - rmse: 0.6562 - rmse_v: 0.2737 - rmse_a: 0.2765 - cc_v: 0.6828 - cc_a: 0.6931 - ccc_v: 0.6784 - ccc_a: 0.6876\n",
      "Epoch 00013: val_loss did not improve from 0.75129\n",
      "5847/5847 [==============================] - 140s 24ms/step - loss: 0.3170 - rmse: 0.6562 - rmse_v: 0.2736 - rmse_a: 0.2765 - cc_v: 0.6828 - cc_a: 0.6931 - ccc_v: 0.6784 - ccc_a: 0.6876 - val_loss: 0.7696 - val_rmse: 0.7067 - val_rmse_v: 0.3898 - val_rmse_a: 0.3950 - val_cc_v: 0.2367 - val_cc_a: 0.2339 - val_ccc_v: 0.2313 - val_ccc_a: 0.2294\n",
      "Epoch 14/100\n",
      "5844/5847 [============================>.] - ETA: 0s - loss: 0.3116 - rmse: 0.6350 - rmse_v: 0.2715 - rmse_a: 0.2740 - cc_v: 0.6878 - cc_a: 0.6981 - ccc_v: 0.6837 - ccc_a: 0.6930\n",
      "Epoch 00014: val_loss did not improve from 0.75129\n",
      "5847/5847 [==============================] - 133s 23ms/step - loss: 0.3116 - rmse: 0.6350 - rmse_v: 0.2715 - rmse_a: 0.2740 - cc_v: 0.6877 - cc_a: 0.6981 - ccc_v: 0.6837 - ccc_a: 0.6930 - val_loss: 0.7612 - val_rmse: 0.6673 - val_rmse_v: 0.3851 - val_rmse_a: 0.3900 - val_cc_v: 0.2413 - val_cc_a: 0.2403 - val_ccc_v: 0.2389 - val_ccc_a: 0.2387\n",
      "Epoch 15/100\n",
      "5844/5847 [============================>.] - ETA: 0s - loss: 0.3074 - rmse: 0.6294 - rmse_v: 0.2698 - rmse_a: 0.2722 - cc_v: 0.6920 - cc_a: 0.7024 - ccc_v: 0.6879 - ccc_a: 0.6972\n",
      "Epoch 00015: val_loss did not improve from 0.75129\n",
      "5847/5847 [==============================] - 139s 24ms/step - loss: 0.3074 - rmse: 0.6294 - rmse_v: 0.2698 - rmse_a: 0.2722 - cc_v: 0.6920 - cc_a: 0.7024 - ccc_v: 0.6879 - ccc_a: 0.6972 - val_loss: 0.7623 - val_rmse: 0.6642 - val_rmse_v: 0.3826 - val_rmse_a: 0.3863 - val_cc_v: 0.2406 - val_cc_a: 0.2391 - val_ccc_v: 0.2381 - val_ccc_a: 0.2374\n",
      "Epoch 16/100\n",
      "5846/5847 [============================>.] - ETA: 0s - loss: 0.3038 - rmse: 0.6180 - rmse_v: 0.2684 - rmse_a: 0.2707 - cc_v: 0.6959 - cc_a: 0.7061 - ccc_v: 0.6917 - ccc_a: 0.7007\n",
      "Epoch 00016: val_loss did not improve from 0.75129\n",
      "5847/5847 [==============================] - 135s 23ms/step - loss: 0.3038 - rmse: 0.6180 - rmse_v: 0.2684 - rmse_a: 0.2707 - cc_v: 0.6959 - cc_a: 0.7061 - ccc_v: 0.6917 - ccc_a: 0.7007 - val_loss: 0.7592 - val_rmse: 0.6291 - val_rmse_v: 0.3813 - val_rmse_a: 0.3842 - val_cc_v: 0.2443 - val_cc_a: 0.2431 - val_ccc_v: 0.2411 - val_ccc_a: 0.2405\n",
      "Epoch 17/100\n",
      "5847/5847 [==============================] - ETA: 0s - loss: 0.3001 - rmse: 0.6041 - rmse_v: 0.2669 - rmse_a: 0.2690 - cc_v: 0.6994 - cc_a: 0.7096 - ccc_v: 0.6954 - ccc_a: 0.7045\n",
      "Epoch 00017: val_loss did not improve from 0.75129\n",
      "5847/5847 [==============================] - 140s 24ms/step - loss: 0.3001 - rmse: 0.6041 - rmse_v: 0.2669 - rmse_a: 0.2690 - cc_v: 0.6994 - cc_a: 0.7096 - ccc_v: 0.6954 - ccc_a: 0.7045 - val_loss: 0.7606 - val_rmse: 0.6068 - val_rmse_v: 0.3814 - val_rmse_a: 0.3850 - val_cc_v: 0.2428 - val_cc_a: 0.2417 - val_ccc_v: 0.2399 - val_ccc_a: 0.2389\n",
      "Epoch 18/100\n",
      "5847/5847 [==============================] - ETA: 0s - loss: 0.2969 - rmse: 0.6012 - rmse_v: 0.2656 - rmse_a: 0.2676 - cc_v: 0.7027 - cc_a: 0.7129 - ccc_v: 0.6986 - ccc_a: 0.7075\n",
      "Epoch 00018: val_loss did not improve from 0.75129\n",
      "5847/5847 [==============================] - 135s 23ms/step - loss: 0.2969 - rmse: 0.6012 - rmse_v: 0.2656 - rmse_a: 0.2676 - cc_v: 0.7027 - cc_a: 0.7129 - ccc_v: 0.6986 - ccc_a: 0.7075 - val_loss: 0.7639 - val_rmse: 0.6000 - val_rmse_v: 0.3838 - val_rmse_a: 0.3881 - val_cc_v: 0.2395 - val_cc_a: 0.2386 - val_ccc_v: 0.2367 - val_ccc_a: 0.2355\n",
      "Epoch 19/100\n",
      "5844/5847 [============================>.] - ETA: 0s - loss: 0.2939 - rmse: 0.5924 - rmse_v: 0.2644 - rmse_a: 0.2662 - cc_v: 0.7056 - cc_a: 0.7157 - ccc_v: 0.7016 - ccc_a: 0.7106\n",
      "Epoch 00019: val_loss did not improve from 0.75129\n",
      "5847/5847 [==============================] - 137s 23ms/step - loss: 0.2939 - rmse: 0.5924 - rmse_v: 0.2644 - rmse_a: 0.2662 - cc_v: 0.7056 - cc_a: 0.7157 - ccc_v: 0.7016 - ccc_a: 0.7105 - val_loss: 0.7620 - val_rmse: 0.6279 - val_rmse_v: 0.3847 - val_rmse_a: 0.3886 - val_cc_v: 0.2414 - val_cc_a: 0.2417 - val_ccc_v: 0.2378 - val_ccc_a: 0.2381\n",
      "Epoch 20/100\n",
      "5845/5847 [============================>.] - ETA: 0s - loss: 0.2912 - rmse: 0.5937 - rmse_v: 0.2633 - rmse_a: 0.2650 - cc_v: 0.7083 - cc_a: 0.7183 - ccc_v: 0.7043 - ccc_a: 0.7132\n",
      "Epoch 00020: val_loss did not improve from 0.75129\n",
      "5847/5847 [==============================] - 126s 21ms/step - loss: 0.2912 - rmse: 0.5937 - rmse_v: 0.2633 - rmse_a: 0.2650 - cc_v: 0.7083 - cc_a: 0.7183 - ccc_v: 0.7043 - ccc_a: 0.7132 - val_loss: 0.7565 - val_rmse: 0.6432 - val_rmse_v: 0.3817 - val_rmse_a: 0.3848 - val_cc_v: 0.2460 - val_cc_a: 0.2462 - val_ccc_v: 0.2431 - val_ccc_a: 0.2439\n",
      "Epoch 21/100\n",
      "5847/5847 [==============================] - ETA: 0s - loss: 0.2885 - rmse: 0.5946 - rmse_v: 0.2621 - rmse_a: 0.2638 - cc_v: 0.7108 - cc_a: 0.7208 - ccc_v: 0.7071 - ccc_a: 0.7160\n",
      "Epoch 00021: val_loss did not improve from 0.75129\n",
      "5847/5847 [==============================] - 130s 22ms/step - loss: 0.2885 - rmse: 0.5946 - rmse_v: 0.2621 - rmse_a: 0.2638 - cc_v: 0.7108 - cc_a: 0.7208 - ccc_v: 0.7071 - ccc_a: 0.7160 - val_loss: 0.7633 - val_rmse: 0.6339 - val_rmse_v: 0.3870 - val_rmse_a: 0.3924 - val_cc_v: 0.2471 - val_cc_a: 0.2462 - val_ccc_v: 0.2379 - val_ccc_a: 0.2354\n",
      "Epoch 22/100\n",
      "5846/5847 [============================>.] - ETA: 0s - loss: 0.2864 - rmse: 0.5864 - rmse_v: 0.2613 - rmse_a: 0.2628 - cc_v: 0.7130 - cc_a: 0.7230 - ccc_v: 0.7092 - ccc_a: 0.7180\n",
      "Epoch 00022: val_loss did not improve from 0.75129\n",
      "5847/5847 [==============================] - 146s 25ms/step - loss: 0.2864 - rmse: 0.5864 - rmse_v: 0.2613 - rmse_a: 0.2629 - cc_v: 0.7130 - cc_a: 0.7230 - ccc_v: 0.7092 - ccc_a: 0.7180 - val_loss: 0.7636 - val_rmse: 0.6266 - val_rmse_v: 0.3848 - val_rmse_a: 0.3897 - val_cc_v: 0.2427 - val_cc_a: 0.2413 - val_ccc_v: 0.2374 - val_ccc_a: 0.2355\n",
      "Epoch 23/100\n",
      "5847/5847 [==============================] - ETA: 0s - loss: 0.2842 - rmse: 0.5943 - rmse_v: 0.2604 - rmse_a: 0.2619 - cc_v: 0.7152 - cc_a: 0.7251 - ccc_v: 0.7114 - ccc_a: 0.7201\n",
      "Epoch 00023: val_loss did not improve from 0.75129\n",
      "5847/5847 [==============================] - 138s 24ms/step - loss: 0.2842 - rmse: 0.5943 - rmse_v: 0.2604 - rmse_a: 0.2619 - cc_v: 0.7152 - cc_a: 0.7251 - ccc_v: 0.7114 - ccc_a: 0.7201 - val_loss: 0.7584 - val_rmse: 0.6549 - val_rmse_v: 0.3832 - val_rmse_a: 0.3867 - val_cc_v: 0.2471 - val_cc_a: 0.2461 - val_ccc_v: 0.2420 - val_ccc_a: 0.2411\n",
      "Epoch 24/100\n",
      "5847/5847 [==============================] - ETA: 0s - loss: 0.2822 - rmse: 0.5984 - rmse_v: 0.2595 - rmse_a: 0.2608 - cc_v: 0.7172 - cc_a: 0.7271 - ccc_v: 0.7134 - ccc_a: 0.7222\n",
      "Epoch 00024: val_loss did not improve from 0.75129\n",
      "5847/5847 [==============================] - 144s 25ms/step - loss: 0.2822 - rmse: 0.5984 - rmse_v: 0.2595 - rmse_a: 0.2608 - cc_v: 0.7172 - cc_a: 0.7271 - ccc_v: 0.7134 - ccc_a: 0.7222 - val_loss: 0.7566 - val_rmse: 0.6302 - val_rmse_v: 0.3813 - val_rmse_a: 0.3832 - val_cc_v: 0.2468 - val_cc_a: 0.2471 - val_ccc_v: 0.2427 - val_ccc_a: 0.2440\n",
      "Epoch 25/100\n",
      "5845/5847 [============================>.] - ETA: 0s - loss: 0.2801 - rmse: 0.5993 - rmse_v: 0.2587 - rmse_a: 0.2598 - cc_v: 0.7191 - cc_a: 0.7290 - ccc_v: 0.7154 - ccc_a: 0.7243\n",
      "Epoch 00025: val_loss did not improve from 0.75129\n",
      "5847/5847 [==============================] - 134s 23ms/step - loss: 0.2801 - rmse: 0.5993 - rmse_v: 0.2587 - rmse_a: 0.2598 - cc_v: 0.7191 - cc_a: 0.7290 - ccc_v: 0.7154 - ccc_a: 0.7243 - val_loss: 0.7526 - val_rmse: 0.6429 - val_rmse_v: 0.3788 - val_rmse_a: 0.3814 - val_cc_v: 0.2503 - val_cc_a: 0.2497 - val_ccc_v: 0.2474 - val_ccc_a: 0.2474\n",
      "Epoch 26/100\n",
      "5847/5847 [==============================] - ETA: 0s - loss: 0.2783 - rmse: 0.6060 - rmse_v: 0.2579 - rmse_a: 0.2590 - cc_v: 0.7208 - cc_a: 0.7307 - ccc_v: 0.7172 - ccc_a: 0.7261\n",
      "Epoch 00026: val_loss did not improve from 0.75129\n",
      "5847/5847 [==============================] - 145s 25ms/step - loss: 0.2783 - rmse: 0.6060 - rmse_v: 0.2579 - rmse_a: 0.2590 - cc_v: 0.7208 - cc_a: 0.7307 - ccc_v: 0.7172 - ccc_a: 0.7261 - val_loss: 0.7548 - val_rmse: 0.6224 - val_rmse_v: 0.3796 - val_rmse_a: 0.3817 - val_cc_v: 0.2487 - val_cc_a: 0.2483 - val_ccc_v: 0.2453 - val_ccc_a: 0.2452\n",
      "Epoch 27/100\n",
      "5845/5847 [============================>.] - ETA: 0s - loss: 0.2766 - rmse: 0.6113 - rmse_v: 0.2572 - rmse_a: 0.2583 - cc_v: 0.7226 - cc_a: 0.7324 - ccc_v: 0.7190 - ccc_a: 0.7278\n",
      "Epoch 00027: val_loss did not improve from 0.75129\n",
      "5847/5847 [==============================] - 140s 24ms/step - loss: 0.2766 - rmse: 0.6113 - rmse_v: 0.2572 - rmse_a: 0.2583 - cc_v: 0.7225 - cc_a: 0.7324 - ccc_v: 0.7190 - ccc_a: 0.7278 - val_loss: 0.7552 - val_rmse: 0.6584 - val_rmse_v: 0.3803 - val_rmse_a: 0.3822 - val_cc_v: 0.2490 - val_cc_a: 0.2495 - val_ccc_v: 0.2443 - val_ccc_a: 0.2453\n",
      "Epoch 28/100\n",
      "5844/5847 [============================>.] - ETA: 0s - loss: 0.2751 - rmse: 0.6182 - rmse_v: 0.2565 - rmse_a: 0.2575 - cc_v: 0.7241 - cc_a: 0.7340 - ccc_v: 0.7205 - ccc_a: 0.7293\n",
      "Epoch 00028: val_loss did not improve from 0.75129\n",
      "5847/5847 [==============================] - 144s 25ms/step - loss: 0.2751 - rmse: 0.6182 - rmse_v: 0.2565 - rmse_a: 0.2575 - cc_v: 0.7241 - cc_a: 0.7340 - ccc_v: 0.7205 - ccc_a: 0.7293 - val_loss: 0.7608 - val_rmse: 0.6326 - val_rmse_v: 0.3793 - val_rmse_a: 0.3823 - val_cc_v: 0.2441 - val_cc_a: 0.2427 - val_ccc_v: 0.2398 - val_ccc_a: 0.2386\n",
      "Epoch 29/100\n",
      "5847/5847 [==============================] - ETA: 0s - loss: 0.2735 - rmse: 0.6262 - rmse_v: 0.2558 - rmse_a: 0.2567 - cc_v: 0.7256 - cc_a: 0.7354 - ccc_v: 0.7221 - ccc_a: 0.7309\n",
      "Epoch 00029: val_loss did not improve from 0.75129\n",
      "5847/5847 [==============================] - 136s 23ms/step - loss: 0.2735 - rmse: 0.6262 - rmse_v: 0.2558 - rmse_a: 0.2567 - cc_v: 0.7256 - cc_a: 0.7354 - ccc_v: 0.7221 - ccc_a: 0.7309 - val_loss: 0.7558 - val_rmse: 0.6442 - val_rmse_v: 0.3776 - val_rmse_a: 0.3811 - val_cc_v: 0.2476 - val_cc_a: 0.2465 - val_ccc_v: 0.2448 - val_ccc_a: 0.2437\n",
      "Epoch 30/100\n",
      "5847/5847 [==============================] - ETA: 0s - loss: 0.2719 - rmse: 0.6315 - rmse_v: 0.2552 - rmse_a: 0.2559 - cc_v: 0.7270 - cc_a: 0.7369 - ccc_v: 0.7236 - ccc_a: 0.7326\n",
      "Epoch 00030: val_loss did not improve from 0.75129\n",
      "5847/5847 [==============================] - 146s 25ms/step - loss: 0.2719 - rmse: 0.6315 - rmse_v: 0.2552 - rmse_a: 0.2559 - cc_v: 0.7270 - cc_a: 0.7369 - ccc_v: 0.7236 - ccc_a: 0.7326 - val_loss: 0.7580 - val_rmse: 0.6420 - val_rmse_v: 0.3795 - val_rmse_a: 0.3816 - val_cc_v: 0.2457 - val_cc_a: 0.2454 - val_ccc_v: 0.2419 - val_ccc_a: 0.2421\n",
      "Epoch 31/100\n",
      "5847/5847 [==============================] - ETA: 0s - loss: 0.2706 - rmse: 0.6392 - rmse_v: 0.2546 - rmse_a: 0.2553 - cc_v: 0.7283 - cc_a: 0.7382 - ccc_v: 0.7249 - ccc_a: 0.7338\n",
      "Epoch 00031: val_loss did not improve from 0.75129\n",
      "5847/5847 [==============================] - 137s 23ms/step - loss: 0.2706 - rmse: 0.6392 - rmse_v: 0.2546 - rmse_a: 0.2553 - cc_v: 0.7283 - cc_a: 0.7382 - ccc_v: 0.7249 - ccc_a: 0.7338 - val_loss: 0.7575 - val_rmse: 0.6304 - val_rmse_v: 0.3790 - val_rmse_a: 0.3826 - val_cc_v: 0.2483 - val_cc_a: 0.2469 - val_ccc_v: 0.2436 - val_ccc_a: 0.2413\n",
      "Epoch 32/100\n",
      "5846/5847 [============================>.] - ETA: 0s - loss: 0.2681 - rmse: 0.6565 - rmse_v: 0.2535 - rmse_a: 0.2541 - cc_v: 0.7308 - cc_a: 0.7407 - ccc_v: 0.7275 - ccc_a: 0.7364\n",
      "Epoch 00033: val_loss did not improve from 0.75129\n",
      "5847/5847 [==============================] - 135s 23ms/step - loss: 0.2681 - rmse: 0.6565 - rmse_v: 0.2535 - rmse_a: 0.2541 - cc_v: 0.7308 - cc_a: 0.7407 - ccc_v: 0.7275 - ccc_a: 0.7364 - val_loss: 0.7608 - val_rmse: 0.6608 - val_rmse_v: 0.3794 - val_rmse_a: 0.3823 - val_cc_v: 0.2443 - val_cc_a: 0.2423 - val_ccc_v: 0.2400 - val_ccc_a: 0.2384\n",
      "Epoch 34/100\n",
      "5847/5847 [==============================] - ETA: 0s - loss: 0.2657 - rmse: 0.6744 - rmse_v: 0.2525 - rmse_a: 0.2529 - cc_v: 0.7331 - cc_a: 0.7429 - ccc_v: 0.7298 - ccc_a: 0.7387\n",
      "Epoch 00035: val_loss did not improve from 0.75129\n",
      "5847/5847 [==============================] - 133s 23ms/step - loss: 0.2657 - rmse: 0.6744 - rmse_v: 0.2525 - rmse_a: 0.2529 - cc_v: 0.7331 - cc_a: 0.7429 - ccc_v: 0.7298 - ccc_a: 0.7387 - val_loss: 0.7628 - val_rmse: 0.6915 - val_rmse_v: 0.3812 - val_rmse_a: 0.3841 - val_cc_v: 0.2444 - val_cc_a: 0.2432 - val_ccc_v: 0.2379 - val_ccc_a: 0.2365\n",
      "Epoch 36/100\n",
      "5847/5847 [==============================] - ETA: 0s - loss: 0.2646 - rmse: 0.6785 - rmse_v: 0.2520 - rmse_a: 0.2524 - cc_v: 0.7342 - cc_a: 0.7441 - ccc_v: 0.7310 - ccc_a: 0.7399\n",
      "Epoch 00036: val_loss improved from 0.75129 to 0.75103, saving model to /home/rangulov/EmotionRecognition/data/checkpoints/gru_1_layer_ccc_loss-epoch:36-loss:0.7510-ccc_v:0.2489-ccc_a:0.2490.hdf5\n",
      "5847/5847 [==============================] - 139s 24ms/step - loss: 0.2646 - rmse: 0.6785 - rmse_v: 0.2520 - rmse_a: 0.2524 - cc_v: 0.7342 - cc_a: 0.7441 - ccc_v: 0.7310 - ccc_a: 0.7399 - val_loss: 0.7510 - val_rmse: 0.6796 - val_rmse_v: 0.3786 - val_rmse_a: 0.3813 - val_cc_v: 0.2524 - val_cc_a: 0.2519 - val_ccc_v: 0.2489 - val_ccc_a: 0.2490\n",
      "Epoch 37/100\n",
      " 433/5847 [=>............................] - ETA: 1:42 - loss: 0.2633 - rmse: 0.6809 - rmse_v: 0.2519 - rmse_a: 0.2524 - cc_v: 0.7358 - cc_a: 0.7452 - ccc_v: 0.7324 - ccc_a: 0.7410"
     ]
    },
    {
     "name": "stderr",
     "output_type": "stream",
     "text": [
      "IOPub data rate exceeded.\n",
      "The notebook server will temporarily stop sending output\n",
      "to the client in order to avoid crashing it.\n",
      "To change this limit, set the config variable\n",
      "`--NotebookApp.iopub_data_rate_limit`.\n",
      "\n",
      "Current values:\n",
      "NotebookApp.iopub_data_rate_limit=1000000.0 (bytes/sec)\n",
      "NotebookApp.rate_limit_window=3.0 (secs)\n",
      "\n"
     ]
    },
    {
     "name": "stdout",
     "output_type": "stream",
     "text": [
      "5844/5847 [============================>.] - ETA: 0s - loss: 0.2625 - rmse: 0.6951 - rmse_v: 0.2511 - rmse_a: 0.2514 - cc_v: 0.7362 - cc_a: 0.7461 - ccc_v: 0.7330 - ccc_a: 0.7420\n",
      "Epoch 00038: val_loss did not improve from 0.75103\n",
      "5847/5847 [==============================] - 138s 24ms/step - loss: 0.2625 - rmse: 0.6951 - rmse_v: 0.2511 - rmse_a: 0.2514 - cc_v: 0.7362 - cc_a: 0.7461 - ccc_v: 0.7330 - ccc_a: 0.7420 - val_loss: 0.7519 - val_rmse: 0.7076 - val_rmse_v: 0.3774 - val_rmse_a: 0.3798 - val_cc_v: 0.2510 - val_cc_a: 0.2500 - val_ccc_v: 0.2484 - val_ccc_a: 0.2479\n",
      "Epoch 39/100\n",
      "5845/5847 [============================>.] - ETA: 0s - loss: 0.2613 - rmse: 0.7007 - rmse_v: 0.2506 - rmse_a: 0.2508 - cc_v: 0.7372 - cc_a: 0.7471 - ccc_v: 0.7341 - ccc_a: 0.7432\n",
      "Epoch 00039: val_loss did not improve from 0.75103\n",
      "5847/5847 [==============================] - 133s 23ms/step - loss: 0.2613 - rmse: 0.7007 - rmse_v: 0.2506 - rmse_a: 0.2508 - cc_v: 0.7372 - cc_a: 0.7471 - ccc_v: 0.7341 - ccc_a: 0.7432 - val_loss: 0.7576 - val_rmse: 0.6870 - val_rmse_v: 0.3802 - val_rmse_a: 0.3836 - val_cc_v: 0.2489 - val_cc_a: 0.2470 - val_ccc_v: 0.2433 - val_ccc_a: 0.2415\n",
      "Epoch 40/100\n",
      "2743/5847 [=============>................] - ETA: 1:00 - loss: 0.2610 - rmse: 0.7087 - rmse_v: 0.2502 - rmse_a: 0.2504 - cc_v: 0.7378 - cc_a: 0.7475 - ccc_v: 0.7346 - ccc_a: 0.7434"
     ]
    },
    {
     "name": "stderr",
     "output_type": "stream",
     "text": [
      "IOPub data rate exceeded.\n",
      "The notebook server will temporarily stop sending output\n",
      "to the client in order to avoid crashing it.\n",
      "To change this limit, set the config variable\n",
      "`--NotebookApp.iopub_data_rate_limit`.\n",
      "\n",
      "Current values:\n",
      "NotebookApp.iopub_data_rate_limit=1000000.0 (bytes/sec)\n",
      "NotebookApp.rate_limit_window=3.0 (secs)\n",
      "\n"
     ]
    },
    {
     "name": "stdout",
     "output_type": "stream",
     "text": [
      "5845/5847 [============================>.] - ETA: 0s - loss: 0.2589 - rmse: 0.7190 - rmse_v: 0.2495 - rmse_a: 0.2496 - cc_v: 0.7397 - cc_a: 0.7496 - ccc_v: 0.7366 - ccc_a: 0.7456\n",
      "Epoch 00042: val_loss did not improve from 0.75103\n",
      "5847/5847 [==============================] - 143s 24ms/step - loss: 0.2589 - rmse: 0.7190 - rmse_v: 0.2495 - rmse_a: 0.2496 - cc_v: 0.7397 - cc_a: 0.7496 - ccc_v: 0.7365 - ccc_a: 0.7456 - val_loss: 0.7593 - val_rmse: 0.6919 - val_rmse_v: 0.3762 - val_rmse_a: 0.3791 - val_cc_v: 0.2455 - val_cc_a: 0.2424 - val_ccc_v: 0.2422 - val_ccc_a: 0.2392\n",
      "Epoch 43/100\n",
      "5845/5847 [============================>.] - ETA: 0s - loss: 0.2581 - rmse: 0.7212 - rmse_v: 0.2492 - rmse_a: 0.2492 - cc_v: 0.7406 - cc_a: 0.7504 - ccc_v: 0.7374 - ccc_a: 0.7464\n",
      "Epoch 00043: val_loss did not improve from 0.75103\n",
      "5847/5847 [==============================] - 135s 23ms/step - loss: 0.2581 - rmse: 0.7212 - rmse_v: 0.2492 - rmse_a: 0.2492 - cc_v: 0.7406 - cc_a: 0.7505 - ccc_v: 0.7374 - ccc_a: 0.7464 - val_loss: 0.7622 - val_rmse: 0.7089 - val_rmse_v: 0.3783 - val_rmse_a: 0.3804 - val_cc_v: 0.2422 - val_cc_a: 0.2402 - val_ccc_v: 0.2386 - val_ccc_a: 0.2369\n",
      "Epoch 44/100\n",
      "1898/5847 [========>.....................] - ETA: 1:19 - loss: 0.2571 - rmse: 0.7224 - rmse_v: 0.2488 - rmse_a: 0.2487 - cc_v: 0.7415 - cc_a: 0.7515 - ccc_v: 0.7383 - ccc_a: 0.7475"
     ]
    },
    {
     "name": "stderr",
     "output_type": "stream",
     "text": [
      "IOPub data rate exceeded.\n",
      "The notebook server will temporarily stop sending output\n",
      "to the client in order to avoid crashing it.\n",
      "To change this limit, set the config variable\n",
      "`--NotebookApp.iopub_data_rate_limit`.\n",
      "\n",
      "Current values:\n",
      "NotebookApp.iopub_data_rate_limit=1000000.0 (bytes/sec)\n",
      "NotebookApp.rate_limit_window=3.0 (secs)\n",
      "\n"
     ]
    },
    {
     "name": "stdout",
     "output_type": "stream",
     "text": [
      "5846/5847 [============================>.] - ETA: 0s - loss: 0.2557 - rmse: 0.7334 - rmse_v: 0.2481 - rmse_a: 0.2480 - cc_v: 0.7428 - cc_a: 0.7527 - ccc_v: 0.7398 - ccc_a: 0.7489\n",
      "Epoch 00046: val_loss did not improve from 0.75103\n",
      "5847/5847 [==============================] - 137s 23ms/step - loss: 0.2557 - rmse: 0.7334 - rmse_v: 0.2481 - rmse_a: 0.2480 - cc_v: 0.7428 - cc_a: 0.7527 - ccc_v: 0.7398 - ccc_a: 0.7489 - val_loss: 0.7571 - val_rmse: 0.7062 - val_rmse_v: 0.3774 - val_rmse_a: 0.3800 - val_cc_v: 0.2481 - val_cc_a: 0.2464 - val_ccc_v: 0.2436 - val_ccc_a: 0.2423\n",
      "Epoch 47/100\n",
      "5846/5847 [============================>.] - ETA: 0s - loss: 0.2550 - rmse: 0.7357 - rmse_v: 0.2478 - rmse_a: 0.2477 - cc_v: 0.7435 - cc_a: 0.7534 - ccc_v: 0.7405 - ccc_a: 0.7495\n",
      "Epoch 00047: val_loss did not improve from 0.75103\n",
      "5847/5847 [==============================] - 135s 23ms/step - loss: 0.2550 - rmse: 0.7357 - rmse_v: 0.2478 - rmse_a: 0.2477 - cc_v: 0.7435 - cc_a: 0.7534 - ccc_v: 0.7405 - ccc_a: 0.7495 - val_loss: 0.7601 - val_rmse: 0.7019 - val_rmse_v: 0.3770 - val_rmse_a: 0.3798 - val_cc_v: 0.2442 - val_cc_a: 0.2409 - val_ccc_v: 0.2414 - val_ccc_a: 0.2384\n",
      "Epoch 48/100\n",
      " 194/5847 [..............................] - ETA: 1:46 - loss: 0.2530 - rmse: 0.7367 - rmse_v: 0.2468 - rmse_a: 0.2468 - cc_v: 0.7457 - cc_a: 0.7550 - ccc_v: 0.7427 - ccc_a: 0.7513"
     ]
    },
    {
     "name": "stderr",
     "output_type": "stream",
     "text": [
      "IOPub data rate exceeded.\n",
      "The notebook server will temporarily stop sending output\n",
      "to the client in order to avoid crashing it.\n",
      "To change this limit, set the config variable\n",
      "`--NotebookApp.iopub_data_rate_limit`.\n",
      "\n",
      "Current values:\n",
      "NotebookApp.iopub_data_rate_limit=1000000.0 (bytes/sec)\n",
      "NotebookApp.rate_limit_window=3.0 (secs)\n",
      "\n"
     ]
    },
    {
     "name": "stdout",
     "output_type": "stream",
     "text": [
      "5846/5847 [============================>.] - ETA: 0s - loss: 0.2530 - rmse: 0.7417 - rmse_v: 0.2469 - rmse_a: 0.2466 - cc_v: 0.7454 - cc_a: 0.7554 - ccc_v: 0.7425 - ccc_a: 0.7516\n",
      "Epoch 00050: val_loss did not improve from 0.75103\n",
      "5847/5847 [==============================] - 139s 24ms/step - loss: 0.2530 - rmse: 0.7417 - rmse_v: 0.2469 - rmse_a: 0.2466 - cc_v: 0.7454 - cc_a: 0.7554 - ccc_v: 0.7425 - ccc_a: 0.7516 - val_loss: 0.7601 - val_rmse: 0.7362 - val_rmse_v: 0.3779 - val_rmse_a: 0.3807 - val_cc_v: 0.2446 - val_cc_a: 0.2418 - val_ccc_v: 0.2411 - val_ccc_a: 0.2388\n",
      "Epoch 51/100\n",
      "5844/5847 [============================>.] - ETA: 0s - loss: 0.2519 - rmse: 0.7449 - rmse_v: 0.2464 - rmse_a: 0.2460 - cc_v: 0.7461 - cc_a: 0.7561 - ccc_v: 0.7434 - ccc_a: 0.7527\n",
      "Epoch 00051: val_loss did not improve from 0.75103\n",
      "5847/5847 [==============================] - 134s 23ms/step - loss: 0.2519 - rmse: 0.7449 - rmse_v: 0.2464 - rmse_a: 0.2460 - cc_v: 0.7461 - cc_a: 0.7561 - ccc_v: 0.7434 - ccc_a: 0.7527 - val_loss: 0.7668 - val_rmse: 0.7288 - val_rmse_v: 0.3813 - val_rmse_a: 0.3850 - val_cc_v: 0.2400 - val_cc_a: 0.2367 - val_ccc_v: 0.2348 - val_ccc_a: 0.2317\n",
      "Epoch 52/100\n",
      " 829/5847 [===>..........................] - ETA: 1:34 - loss: 0.2516 - rmse: 0.7447 - rmse_v: 0.2461 - rmse_a: 0.2459 - cc_v: 0.7470 - cc_a: 0.7570 - ccc_v: 0.7439 - ccc_a: 0.7530"
     ]
    },
    {
     "name": "stderr",
     "output_type": "stream",
     "text": [
      "IOPub data rate exceeded.\n",
      "The notebook server will temporarily stop sending output\n",
      "to the client in order to avoid crashing it.\n",
      "To change this limit, set the config variable\n",
      "`--NotebookApp.iopub_data_rate_limit`.\n",
      "\n",
      "Current values:\n",
      "NotebookApp.iopub_data_rate_limit=1000000.0 (bytes/sec)\n",
      "NotebookApp.rate_limit_window=3.0 (secs)\n",
      "\n"
     ]
    },
    {
     "name": "stdout",
     "output_type": "stream",
     "text": [
      "5845/5847 [============================>.] - ETA: 0s - loss: 0.2505 - rmse: 0.7513 - rmse_v: 0.2458 - rmse_a: 0.2455 - cc_v: 0.7479 - cc_a: 0.7579 - ccc_v: 0.7449 - ccc_a: 0.7541\n",
      "Epoch 00054: val_loss did not improve from 0.75103\n",
      "5847/5847 [==============================] - 136s 23ms/step - loss: 0.2505 - rmse: 0.7513 - rmse_v: 0.2458 - rmse_a: 0.2455 - cc_v: 0.7479 - cc_a: 0.7579 - ccc_v: 0.7449 - ccc_a: 0.7541 - val_loss: 0.7615 - val_rmse: 0.6981 - val_rmse_v: 0.3815 - val_rmse_a: 0.3863 - val_cc_v: 0.2451 - val_cc_a: 0.2436 - val_ccc_v: 0.2395 - val_ccc_a: 0.2375\n",
      "Epoch 55/100\n",
      "5097/5847 [=========================>....] - ETA: 14s - loss: 0.2497 - rmse: 0.7491 - rmse_v: 0.2455 - rmse_a: 0.2450 - cc_v: 0.7485 - cc_a: 0.7585 - ccc_v: 0.7457 - ccc_a: 0.7550"
     ]
    },
    {
     "name": "stderr",
     "output_type": "stream",
     "text": [
      "IOPub data rate exceeded.\n",
      "The notebook server will temporarily stop sending output\n",
      "to the client in order to avoid crashing it.\n",
      "To change this limit, set the config variable\n",
      "`--NotebookApp.iopub_data_rate_limit`.\n",
      "\n",
      "Current values:\n",
      "NotebookApp.iopub_data_rate_limit=1000000.0 (bytes/sec)\n",
      "NotebookApp.rate_limit_window=3.0 (secs)\n",
      "\n"
     ]
    },
    {
     "name": "stdout",
     "output_type": "stream",
     "text": [
      "5845/5847 [============================>.] - ETA: 0s - loss: 0.2482 - rmse: 0.7539 - rmse_v: 0.2448 - rmse_a: 0.2442 - cc_v: 0.7500 - cc_a: 0.7600 - ccc_v: 0.7472 - ccc_a: 0.7565\n",
      "Epoch 00058: val_loss did not improve from 0.75103\n",
      "5847/5847 [==============================] - 141s 24ms/step - loss: 0.2482 - rmse: 0.7540 - rmse_v: 0.2448 - rmse_a: 0.2442 - cc_v: 0.7500 - cc_a: 0.7600 - ccc_v: 0.7472 - ccc_a: 0.7565 - val_loss: 0.7656 - val_rmse: 0.6956 - val_rmse_v: 0.3793 - val_rmse_a: 0.3825 - val_cc_v: 0.2403 - val_cc_a: 0.2358 - val_ccc_v: 0.2363 - val_ccc_a: 0.2324\n",
      "Epoch 59/100\n",
      "5680/5847 [============================>.] - ETA: 3s - loss: 0.2475 - rmse: 0.7579 - rmse_v: 0.2445 - rmse_a: 0.2438 - cc_v: 0.7505 - cc_a: 0.7605 - ccc_v: 0.7478 - ccc_a: 0.7572"
     ]
    },
    {
     "name": "stderr",
     "output_type": "stream",
     "text": [
      "IOPub data rate exceeded.\n",
      "The notebook server will temporarily stop sending output\n",
      "to the client in order to avoid crashing it.\n",
      "To change this limit, set the config variable\n",
      "`--NotebookApp.iopub_data_rate_limit`.\n",
      "\n",
      "Current values:\n",
      "NotebookApp.iopub_data_rate_limit=1000000.0 (bytes/sec)\n",
      "NotebookApp.rate_limit_window=3.0 (secs)\n",
      "\n"
     ]
    },
    {
     "name": "stdout",
     "output_type": "stream",
     "text": [
      "5845/5847 [============================>.] - ETA: 0s - loss: 0.2461 - rmse: 0.7570 - rmse_v: 0.2438 - rmse_a: 0.2431 - cc_v: 0.7518 - cc_a: 0.7619 - ccc_v: 0.7492 - ccc_a: 0.7586\n",
      "Epoch 00062: val_loss did not improve from 0.75103\n",
      "5847/5847 [==============================] - 141s 24ms/step - loss: 0.2461 - rmse: 0.7570 - rmse_v: 0.2438 - rmse_a: 0.2431 - cc_v: 0.7518 - cc_a: 0.7620 - ccc_v: 0.7492 - ccc_a: 0.7586 - val_loss: 0.7704 - val_rmse: 0.7026 - val_rmse_v: 0.3795 - val_rmse_a: 0.3833 - val_cc_v: 0.2353 - val_cc_a: 0.2295 - val_ccc_v: 0.2321 - val_ccc_a: 0.2271\n",
      "Epoch 63/100\n",
      "5768/5847 [============================>.] - ETA: 1s - loss: 0.2456 - rmse: 0.7591 - rmse_v: 0.2436 - rmse_a: 0.2428 - cc_v: 0.7524 - cc_a: 0.7625 - ccc_v: 0.7497 - ccc_a: 0.7592"
     ]
    },
    {
     "name": "stderr",
     "output_type": "stream",
     "text": [
      "IOPub data rate exceeded.\n",
      "The notebook server will temporarily stop sending output\n",
      "to the client in order to avoid crashing it.\n",
      "To change this limit, set the config variable\n",
      "`--NotebookApp.iopub_data_rate_limit`.\n",
      "\n",
      "Current values:\n",
      "NotebookApp.iopub_data_rate_limit=1000000.0 (bytes/sec)\n",
      "NotebookApp.rate_limit_window=3.0 (secs)\n",
      "\n"
     ]
    },
    {
     "name": "stdout",
     "output_type": "stream",
     "text": [
      "5844/5847 [============================>.] - ETA: 0s - loss: 0.2444 - rmse: 0.7647 - rmse_v: 0.2431 - rmse_a: 0.2423 - cc_v: 0.7536 - cc_a: 0.7638 - ccc_v: 0.7509 - ccc_a: 0.7603\n",
      "Epoch 00066: val_loss did not improve from 0.75103\n",
      "5847/5847 [==============================] - 124s 21ms/step - loss: 0.2444 - rmse: 0.7647 - rmse_v: 0.2431 - rmse_a: 0.2423 - cc_v: 0.7536 - cc_a: 0.7637 - ccc_v: 0.7509 - ccc_a: 0.7603 - val_loss: 0.7718 - val_rmse: 0.6992 - val_rmse_v: 0.3787 - val_rmse_a: 0.3826 - val_cc_v: 0.2337 - val_cc_a: 0.2277 - val_ccc_v: 0.2309 - val_ccc_a: 0.2254\n",
      "Epoch 67/100\n",
      "5846/5847 [============================>.] - ETA: 0s - loss: 0.2440 - rmse: 0.7651 - rmse_v: 0.2429 - rmse_a: 0.2421 - cc_v: 0.7540 - cc_a: 0.7641 - ccc_v: 0.7512 - ccc_a: 0.7607\n",
      "Epoch 00067: val_loss did not improve from 0.75103\n",
      "5847/5847 [==============================] - 123s 21ms/step - loss: 0.2440 - rmse: 0.7651 - rmse_v: 0.2429 - rmse_a: 0.2421 - cc_v: 0.7540 - cc_a: 0.7641 - ccc_v: 0.7512 - ccc_a: 0.7607 - val_loss: 0.7730 - val_rmse: 0.6836 - val_rmse_v: 0.3796 - val_rmse_a: 0.3836 - val_cc_v: 0.2347 - val_cc_a: 0.2296 - val_ccc_v: 0.2296 - val_ccc_a: 0.2244\n",
      "Epoch 68/100\n",
      " 367/5847 [>.............................] - ETA: 1:37 - loss: 0.2441 - rmse: 0.7655 - rmse_v: 0.2434 - rmse_a: 0.2424 - cc_v: 0.7537 - cc_a: 0.7637 - ccc_v: 0.7512 - ccc_a: 0.7606"
     ]
    },
    {
     "name": "stderr",
     "output_type": "stream",
     "text": [
      "IOPub data rate exceeded.\n",
      "The notebook server will temporarily stop sending output\n",
      "to the client in order to avoid crashing it.\n",
      "To change this limit, set the config variable\n",
      "`--NotebookApp.iopub_data_rate_limit`.\n",
      "\n",
      "Current values:\n",
      "NotebookApp.iopub_data_rate_limit=1000000.0 (bytes/sec)\n",
      "NotebookApp.rate_limit_window=3.0 (secs)\n",
      "\n"
     ]
    },
    {
     "name": "stdout",
     "output_type": "stream",
     "text": [
      "5846/5847 [============================>.] - ETA: 0s - loss: 0.2428 - rmse: 0.7690 - rmse_v: 0.2424 - rmse_a: 0.2415 - cc_v: 0.7552 - cc_a: 0.7654 - ccc_v: 0.7525 - ccc_a: 0.7619\n",
      "Epoch 00070: val_loss did not improve from 0.75103\n",
      "5847/5847 [==============================] - 124s 21ms/step - loss: 0.2428 - rmse: 0.7690 - rmse_v: 0.2424 - rmse_a: 0.2415 - cc_v: 0.7552 - cc_a: 0.7654 - ccc_v: 0.7525 - ccc_a: 0.7619 - val_loss: 0.7731 - val_rmse: 0.6908 - val_rmse_v: 0.3829 - val_rmse_a: 0.3873 - val_cc_v: 0.2352 - val_cc_a: 0.2305 - val_ccc_v: 0.2293 - val_ccc_a: 0.2245\n",
      "Epoch 71/100\n",
      "5846/5847 [============================>.] - ETA: 0s - loss: 0.2423 - rmse: 0.7713 - rmse_v: 0.2421 - rmse_a: 0.2412 - cc_v: 0.7555 - cc_a: 0.7657 - ccc_v: 0.7529 - ccc_a: 0.7625\n",
      "Epoch 00071: val_loss did not improve from 0.75103\n",
      "5847/5847 [==============================] - 125s 21ms/step - loss: 0.2423 - rmse: 0.7713 - rmse_v: 0.2421 - rmse_a: 0.2412 - cc_v: 0.7555 - cc_a: 0.7657 - ccc_v: 0.7529 - ccc_a: 0.7625 - val_loss: 0.7764 - val_rmse: 0.6867 - val_rmse_v: 0.3799 - val_rmse_a: 0.3836 - val_cc_v: 0.2311 - val_cc_a: 0.2232 - val_ccc_v: 0.2273 - val_ccc_a: 0.2199\n",
      "Epoch 72/100\n",
      "2155/5847 [==========>...................] - ETA: 1:04 - loss: 0.2422 - rmse: 0.7683 - rmse_v: 0.2418 - rmse_a: 0.2407 - cc_v: 0.7556 - cc_a: 0.7658 - ccc_v: 0.7530 - ccc_a: 0.7626"
     ]
    },
    {
     "name": "stderr",
     "output_type": "stream",
     "text": [
      "IOPub data rate exceeded.\n",
      "The notebook server will temporarily stop sending output\n",
      "to the client in order to avoid crashing it.\n",
      "To change this limit, set the config variable\n",
      "`--NotebookApp.iopub_data_rate_limit`.\n",
      "\n",
      "Current values:\n",
      "NotebookApp.iopub_data_rate_limit=1000000.0 (bytes/sec)\n",
      "NotebookApp.rate_limit_window=3.0 (secs)\n",
      "\n"
     ]
    },
    {
     "name": "stdout",
     "output_type": "stream",
     "text": [
      "5844/5847 [============================>.] - ETA: 0s - loss: 0.2407 - rmse: 0.7756 - rmse_v: 0.2414 - rmse_a: 0.2403 - cc_v: 0.7570 - cc_a: 0.7672 - ccc_v: 0.7544 - ccc_a: 0.7641\n",
      "Epoch 00075: val_loss did not improve from 0.75103\n",
      "5847/5847 [==============================] - 123s 21ms/step - loss: 0.2407 - rmse: 0.7755 - rmse_v: 0.2414 - rmse_a: 0.2403 - cc_v: 0.7569 - cc_a: 0.7672 - ccc_v: 0.7544 - ccc_a: 0.7641 - val_loss: 0.7790 - val_rmse: 0.6896 - val_rmse_v: 0.3828 - val_rmse_a: 0.3877 - val_cc_v: 0.2308 - val_cc_a: 0.2231 - val_ccc_v: 0.2249 - val_ccc_a: 0.2172\n",
      "Epoch 76/100\n",
      "4057/5847 [===================>..........] - ETA: 31s - loss: 0.2407 - rmse: 0.7774 - rmse_v: 0.2413 - rmse_a: 0.2403 - cc_v: 0.7570 - cc_a: 0.7673 - ccc_v: 0.7545 - ccc_a: 0.7642"
     ]
    },
    {
     "name": "stderr",
     "output_type": "stream",
     "text": [
      "IOPub data rate exceeded.\n",
      "The notebook server will temporarily stop sending output\n",
      "to the client in order to avoid crashing it.\n",
      "To change this limit, set the config variable\n",
      "`--NotebookApp.iopub_data_rate_limit`.\n",
      "\n",
      "Current values:\n",
      "NotebookApp.iopub_data_rate_limit=1000000.0 (bytes/sec)\n",
      "NotebookApp.rate_limit_window=3.0 (secs)\n",
      "\n"
     ]
    },
    {
     "name": "stdout",
     "output_type": "stream",
     "text": [
      "5847/5847 [==============================] - ETA: 0s - loss: 0.2393 - rmse: 0.7815 - rmse_v: 0.2408 - rmse_a: 0.2396 - cc_v: 0.7583 - cc_a: 0.7686 - ccc_v: 0.7559 - ccc_a: 0.7656\n",
      "Epoch 00079: val_loss did not improve from 0.75103\n",
      "5847/5847 [==============================] - 124s 21ms/step - loss: 0.2393 - rmse: 0.7815 - rmse_v: 0.2408 - rmse_a: 0.2396 - cc_v: 0.7583 - cc_a: 0.7686 - ccc_v: 0.7559 - ccc_a: 0.7656 - val_loss: 0.7725 - val_rmse: 0.7307 - val_rmse_v: 0.3818 - val_rmse_a: 0.3863 - val_cc_v: 0.2348 - val_cc_a: 0.2311 - val_ccc_v: 0.2294 - val_ccc_a: 0.2257\n",
      "Epoch 80/100\n",
      "3742/5847 [==================>...........] - ETA: 37s - loss: 0.2389 - rmse: 0.7832 - rmse_v: 0.2406 - rmse_a: 0.2394 - cc_v: 0.7585 - cc_a: 0.7690 - ccc_v: 0.7561 - ccc_a: 0.7660"
     ]
    },
    {
     "name": "stderr",
     "output_type": "stream",
     "text": [
      "IOPub data rate exceeded.\n",
      "The notebook server will temporarily stop sending output\n",
      "to the client in order to avoid crashing it.\n",
      "To change this limit, set the config variable\n",
      "`--NotebookApp.iopub_data_rate_limit`.\n",
      "\n",
      "Current values:\n",
      "NotebookApp.iopub_data_rate_limit=1000000.0 (bytes/sec)\n",
      "NotebookApp.rate_limit_window=3.0 (secs)\n",
      "\n"
     ]
    },
    {
     "name": "stdout",
     "output_type": "stream",
     "text": [
      "5846/5847 [============================>.] - ETA: 0s - loss: 0.2381 - rmse: 0.7884 - rmse_v: 0.2402 - rmse_a: 0.2389 - cc_v: 0.7595 - cc_a: 0.7699 - ccc_v: 0.7570 - ccc_a: 0.7668\n",
      "Epoch 00083: val_loss did not improve from 0.75103\n",
      "5847/5847 [==============================] - 122s 21ms/step - loss: 0.2381 - rmse: 0.7884 - rmse_v: 0.2402 - rmse_a: 0.2389 - cc_v: 0.7595 - cc_a: 0.7699 - ccc_v: 0.7570 - ccc_a: 0.7668 - val_loss: 0.7741 - val_rmse: 0.6851 - val_rmse_v: 0.3826 - val_rmse_a: 0.3880 - val_cc_v: 0.2347 - val_cc_a: 0.2289 - val_ccc_v: 0.2289 - val_ccc_a: 0.2229\n",
      "Epoch 84/100\n",
      "5733/5847 [============================>.] - ETA: 2s - loss: 0.2377 - rmse: 0.7903 - rmse_v: 0.2401 - rmse_a: 0.2387 - cc_v: 0.7598 - cc_a: 0.7702 - ccc_v: 0.7574 - ccc_a: 0.7673"
     ]
    },
    {
     "name": "stderr",
     "output_type": "stream",
     "text": [
      "IOPub data rate exceeded.\n",
      "The notebook server will temporarily stop sending output\n",
      "to the client in order to avoid crashing it.\n",
      "To change this limit, set the config variable\n",
      "`--NotebookApp.iopub_data_rate_limit`.\n",
      "\n",
      "Current values:\n",
      "NotebookApp.iopub_data_rate_limit=1000000.0 (bytes/sec)\n",
      "NotebookApp.rate_limit_window=3.0 (secs)\n",
      "\n"
     ]
    },
    {
     "name": "stdout",
     "output_type": "stream",
     "text": [
      "5845/5847 [============================>.] - ETA: 0s - loss: 0.2370 - rmse: 0.7950 - rmse_v: 0.2397 - rmse_a: 0.2384 - cc_v: 0.7606 - cc_a: 0.7710 - ccc_v: 0.7581 - ccc_a: 0.7679\n",
      "Epoch 00087: val_loss did not improve from 0.75103\n",
      "5847/5847 [==============================] - 125s 21ms/step - loss: 0.2370 - rmse: 0.7950 - rmse_v: 0.2397 - rmse_a: 0.2384 - cc_v: 0.7606 - cc_a: 0.7710 - ccc_v: 0.7581 - ccc_a: 0.7679 - val_loss: 0.7711 - val_rmse: 0.7101 - val_rmse_v: 0.3812 - val_rmse_a: 0.3853 - val_cc_v: 0.2354 - val_cc_a: 0.2303 - val_ccc_v: 0.2312 - val_ccc_a: 0.2266\n",
      "Epoch 88/100\n",
      "5844/5847 [============================>.] - ETA: 0s - loss: 0.2365 - rmse: 0.7929 - rmse_v: 0.2396 - rmse_a: 0.2382 - cc_v: 0.7610 - cc_a: 0.7714 - ccc_v: 0.7585 - ccc_a: 0.7684\n",
      "Epoch 00088: val_loss did not improve from 0.75103\n",
      "5847/5847 [==============================] - 123s 21ms/step - loss: 0.2365 - rmse: 0.7929 - rmse_v: 0.2396 - rmse_a: 0.2382 - cc_v: 0.7610 - cc_a: 0.7714 - ccc_v: 0.7585 - ccc_a: 0.7684 - val_loss: 0.7807 - val_rmse: 0.7049 - val_rmse_v: 0.3826 - val_rmse_a: 0.3884 - val_cc_v: 0.2275 - val_cc_a: 0.2207 - val_ccc_v: 0.2228 - val_ccc_a: 0.2158\n",
      "Epoch 89/100\n",
      "1506/5847 [======>.......................] - ETA: 1:15 - loss: 0.2377 - rmse: 0.7966 - rmse_v: 0.2398 - rmse_a: 0.2383 - cc_v: 0.7596 - cc_a: 0.7702 - ccc_v: 0.7572 - ccc_a: 0.7673"
     ]
    },
    {
     "name": "stderr",
     "output_type": "stream",
     "text": [
      "IOPub data rate exceeded.\n",
      "The notebook server will temporarily stop sending output\n",
      "to the client in order to avoid crashing it.\n",
      "To change this limit, set the config variable\n",
      "`--NotebookApp.iopub_data_rate_limit`.\n",
      "\n",
      "Current values:\n",
      "NotebookApp.iopub_data_rate_limit=1000000.0 (bytes/sec)\n",
      "NotebookApp.rate_limit_window=3.0 (secs)\n",
      "\n"
     ]
    },
    {
     "name": "stdout",
     "output_type": "stream",
     "text": [
      "5845/5847 [============================>.] - ETA: 0s - loss: 0.2361 - rmse: 0.7960 - rmse_v: 0.2393 - rmse_a: 0.2379 - cc_v: 0.7614 - cc_a: 0.7719 - ccc_v: 0.7590 - ccc_a: 0.7688\n",
      "Epoch 00090: val_loss did not improve from 0.75103\n",
      "5847/5847 [==============================] - 129s 22ms/step - loss: 0.2361 - rmse: 0.7960 - rmse_v: 0.2393 - rmse_a: 0.2379 - cc_v: 0.7614 - cc_a: 0.7719 - ccc_v: 0.7590 - ccc_a: 0.7688 - val_loss: 0.7767 - val_rmse: 0.7104 - val_rmse_v: 0.3814 - val_rmse_a: 0.3856 - val_cc_v: 0.2304 - val_cc_a: 0.2246 - val_ccc_v: 0.2260 - val_ccc_a: 0.2207\n",
      "Epoch 91/100\n",
      "5846/5847 [============================>.] - ETA: 0s - loss: 0.2356 - rmse: 0.7967 - rmse_v: 0.2391 - rmse_a: 0.2376 - cc_v: 0.7618 - cc_a: 0.7722 - ccc_v: 0.7594 - ccc_a: 0.7693\n",
      "Epoch 00091: val_loss did not improve from 0.75103\n",
      "5847/5847 [==============================] - 126s 21ms/step - loss: 0.2356 - rmse: 0.7967 - rmse_v: 0.2391 - rmse_a: 0.2376 - cc_v: 0.7618 - cc_a: 0.7722 - ccc_v: 0.7594 - ccc_a: 0.7693 - val_loss: 0.7795 - val_rmse: 0.7211 - val_rmse_v: 0.3818 - val_rmse_a: 0.3868 - val_cc_v: 0.2297 - val_cc_a: 0.2223 - val_ccc_v: 0.2242 - val_ccc_a: 0.2169\n",
      "Epoch 92/100\n",
      "5847/5847 [==============================] - ETA: 0s - loss: 0.2354 - rmse: 0.8001 - rmse_v: 0.2390 - rmse_a: 0.2376 - cc_v: 0.7620 - cc_a: 0.7725 - ccc_v: 0.7596 - ccc_a: 0.7695\n",
      "Epoch 00092: val_loss did not improve from 0.75103\n",
      "5847/5847 [==============================] - 128s 22ms/step - loss: 0.2354 - rmse: 0.8001 - rmse_v: 0.2390 - rmse_a: 0.2376 - cc_v: 0.7620 - cc_a: 0.7725 - ccc_v: 0.7596 - ccc_a: 0.7695 - val_loss: 0.7815 - val_rmse: 0.7104 - val_rmse_v: 0.3823 - val_rmse_a: 0.3867 - val_cc_v: 0.2257 - val_cc_a: 0.2179 - val_ccc_v: 0.2221 - val_ccc_a: 0.2149\n",
      "Epoch 93/100\n",
      "5844/5847 [============================>.] - ETA: 0s - loss: 0.2351 - rmse: 0.8018 - rmse_v: 0.2388 - rmse_a: 0.2373 - cc_v: 0.7622 - cc_a: 0.7728 - ccc_v: 0.7599 - ccc_a: 0.7699\n",
      "Epoch 00093: val_loss did not improve from 0.75103\n",
      "5847/5847 [==============================] - 123s 21ms/step - loss: 0.2351 - rmse: 0.8018 - rmse_v: 0.2388 - rmse_a: 0.2373 - cc_v: 0.7623 - cc_a: 0.7728 - ccc_v: 0.7599 - ccc_a: 0.7699 - val_loss: 0.7786 - val_rmse: 0.7109 - val_rmse_v: 0.3797 - val_rmse_a: 0.3837 - val_cc_v: 0.2282 - val_cc_a: 0.2210 - val_ccc_v: 0.2247 - val_ccc_a: 0.2182\n",
      "Epoch 94/100\n",
      "5845/5847 [============================>.] - ETA: 0s - loss: 0.2351 - rmse: 0.8025 - rmse_v: 0.2388 - rmse_a: 0.2373 - cc_v: 0.7624 - cc_a: 0.7729 - ccc_v: 0.7600 - ccc_a: 0.7699\n",
      "Epoch 00094: val_loss did not improve from 0.75103\n",
      "5847/5847 [==============================] - 124s 21ms/step - loss: 0.2351 - rmse: 0.8026 - rmse_v: 0.2388 - rmse_a: 0.2373 - cc_v: 0.7624 - cc_a: 0.7729 - ccc_v: 0.7600 - ccc_a: 0.7699 - val_loss: 0.7785 - val_rmse: 0.7381 - val_rmse_v: 0.3836 - val_rmse_a: 0.3890 - val_cc_v: 0.2307 - val_cc_a: 0.2246 - val_ccc_v: 0.2247 - val_ccc_a: 0.2183\n",
      "Epoch 95/100\n",
      "5846/5847 [============================>.] - ETA: 0s - loss: 0.2346 - rmse: 0.8067 - rmse_v: 0.2386 - rmse_a: 0.2371 - cc_v: 0.7627 - cc_a: 0.7733 - ccc_v: 0.7604 - ccc_a: 0.7704\n",
      "Epoch 00095: val_loss did not improve from 0.75103\n",
      "5847/5847 [==============================] - 122s 21ms/step - loss: 0.2346 - rmse: 0.8067 - rmse_v: 0.2386 - rmse_a: 0.2371 - cc_v: 0.7627 - cc_a: 0.7733 - ccc_v: 0.7604 - ccc_a: 0.7704 - val_loss: 0.7850 - val_rmse: 0.6815 - val_rmse_v: 0.3808 - val_rmse_a: 0.3857 - val_cc_v: 0.2235 - val_cc_a: 0.2154 - val_ccc_v: 0.2189 - val_ccc_a: 0.2111\n",
      "Epoch 96/100\n",
      "5846/5847 [============================>.] - ETA: 0s - loss: 0.2343 - rmse: 0.8063 - rmse_v: 0.2385 - rmse_a: 0.2369 - cc_v: 0.7630 - cc_a: 0.7735 - ccc_v: 0.7607 - ccc_a: 0.7707\n",
      "Epoch 00096: val_loss did not improve from 0.75103\n",
      "5847/5847 [==============================] - 124s 21ms/step - loss: 0.2343 - rmse: 0.8063 - rmse_v: 0.2385 - rmse_a: 0.2369 - cc_v: 0.7630 - cc_a: 0.7735 - ccc_v: 0.7607 - ccc_a: 0.7707 - val_loss: 0.7753 - val_rmse: 0.7415 - val_rmse_v: 0.3804 - val_rmse_a: 0.3844 - val_cc_v: 0.2316 - val_cc_a: 0.2270 - val_ccc_v: 0.2268 - val_ccc_a: 0.2226\n",
      "Epoch 97/100\n",
      "5846/5847 [============================>.] - ETA: 0s - loss: 0.2341 - rmse: 0.8085 - rmse_v: 0.2384 - rmse_a: 0.2368 - cc_v: 0.7632 - cc_a: 0.7738 - ccc_v: 0.7609 - ccc_a: 0.7710\n",
      "Epoch 00097: val_loss did not improve from 0.75103\n",
      "5847/5847 [==============================] - 123s 21ms/step - loss: 0.2341 - rmse: 0.8085 - rmse_v: 0.2384 - rmse_a: 0.2368 - cc_v: 0.7632 - cc_a: 0.7738 - ccc_v: 0.7609 - ccc_a: 0.7710 - val_loss: 0.7844 - val_rmse: 0.7073 - val_rmse_v: 0.3815 - val_rmse_a: 0.3859 - val_cc_v: 0.2237 - val_cc_a: 0.2147 - val_ccc_v: 0.2197 - val_ccc_a: 0.2116\n",
      "Epoch 98/100\n",
      "5846/5847 [============================>.] - ETA: 0s - loss: 0.2337 - rmse: 0.8093 - rmse_v: 0.2382 - rmse_a: 0.2366 - cc_v: 0.7635 - cc_a: 0.7740 - ccc_v: 0.7612 - ccc_a: 0.7713\n",
      "Epoch 00098: val_loss did not improve from 0.75103\n",
      "5847/5847 [==============================] - 123s 21ms/step - loss: 0.2337 - rmse: 0.8093 - rmse_v: 0.2382 - rmse_a: 0.2366 - cc_v: 0.7635 - cc_a: 0.7740 - ccc_v: 0.7612 - ccc_a: 0.7713 - val_loss: 0.7799 - val_rmse: 0.7230 - val_rmse_v: 0.3804 - val_rmse_a: 0.3849 - val_cc_v: 0.2268 - val_cc_a: 0.2193 - val_ccc_v: 0.2235 - val_ccc_a: 0.2168\n",
      "Epoch 99/100\n",
      "5845/5847 [============================>.] - ETA: 0s - loss: 0.2336 - rmse: 0.8102 - rmse_v: 0.2382 - rmse_a: 0.2365 - cc_v: 0.7637 - cc_a: 0.7743 - ccc_v: 0.7614 - ccc_a: 0.7715\n",
      "Epoch 00099: val_loss did not improve from 0.75103\n",
      "5847/5847 [==============================] - 126s 22ms/step - loss: 0.2336 - rmse: 0.8102 - rmse_v: 0.2382 - rmse_a: 0.2365 - cc_v: 0.7637 - cc_a: 0.7743 - ccc_v: 0.7614 - ccc_a: 0.7715 - val_loss: 0.7799 - val_rmse: 0.7212 - val_rmse_v: 0.3815 - val_rmse_a: 0.3860 - val_cc_v: 0.2284 - val_cc_a: 0.2221 - val_ccc_v: 0.2232 - val_ccc_a: 0.2171\n",
      "Epoch 100/100\n",
      "5846/5847 [============================>.] - ETA: 0s - loss: 0.2334 - rmse: 0.8141 - rmse_v: 0.2381 - rmse_a: 0.2365 - cc_v: 0.7639 - cc_a: 0.7745 - ccc_v: 0.7616 - ccc_a: 0.7716\n",
      "Epoch 00100: val_loss did not improve from 0.75103\n",
      "5847/5847 [==============================] - 125s 21ms/step - loss: 0.2334 - rmse: 0.8141 - rmse_v: 0.2381 - rmse_a: 0.2365 - cc_v: 0.7639 - cc_a: 0.7745 - ccc_v: 0.7616 - ccc_a: 0.7716 - val_loss: 0.7834 - val_rmse: 0.6972 - val_rmse_v: 0.3818 - val_rmse_a: 0.3864 - val_cc_v: 0.2241 - val_cc_a: 0.2169 - val_ccc_v: 0.2200 - val_ccc_a: 0.2132\n"
     ]
    }
   ],
   "source": [
    "%run src/train_rnn.py"
   ]
  },
  {
   "cell_type": "code",
   "execution_count": null,
   "metadata": {},
   "outputs": [],
   "source": []
  },
  {
   "cell_type": "code",
   "execution_count": null,
   "metadata": {},
   "outputs": [],
   "source": []
  }
 ],
 "metadata": {
  "kernelspec": {
   "display_name": "Python 3",
   "language": "python",
   "name": "python3"
  },
  "language_info": {
   "codemirror_mode": {
    "name": "ipython",
    "version": 3
   },
   "file_extension": ".py",
   "mimetype": "text/x-python",
   "name": "python",
   "nbconvert_exporter": "python",
   "pygments_lexer": "ipython3",
   "version": "3.7.6"
  }
 },
 "nbformat": 4,
 "nbformat_minor": 4
}
