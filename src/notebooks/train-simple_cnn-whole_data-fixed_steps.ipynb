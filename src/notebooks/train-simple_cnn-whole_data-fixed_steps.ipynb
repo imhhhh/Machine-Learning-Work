{
 "cells": [
  {
   "cell_type": "code",
   "execution_count": 1,
   "metadata": {},
   "outputs": [
    {
     "name": "stdout",
     "output_type": "stream",
     "text": [
      "True\n",
      "True\n",
      "/home/rangulov/cropped_aligned\n"
     ]
    }
   ],
   "source": [
    "import tensorflow as tf\n",
    "import os,sys\n",
    "import warnings\n",
    "warnings.filterwarnings('ignore')\n",
    "import logging\n",
    "logging.getLogger('tensorflow').disabled = True\n",
    "# gpu_devices = tf.config.experimental.list_physical_devices('GPU')\n",
    "# tf.config.experimental.set_memory_growth(gpu_devices[0], True)\n",
    "\n",
    "print(tf.test.is_gpu_available())\n",
    "print(tf.test.is_built_with_cuda())\n",
    "\n",
    "os.chdir(\"/home/rangulov/EmotionRecognition\")\n",
    "ROOT_DIR = os.path.abspath(\".\")\n",
    "sys.path.append(ROOT_DIR)\n",
    "import src.config\n",
    "print(src.config.PROCESSED_FRAMES_DATA_DIR)"
   ]
  },
  {
   "cell_type": "code",
   "execution_count": 2,
   "metadata": {},
   "outputs": [
    {
     "name": "stdout",
     "output_type": "stream",
     "text": [
      "Loading Simple CNN by Khorrami with CCC loss\n",
      "Model: \"sequential\"\n",
      "_________________________________________________________________\n",
      "Layer (type)                 Output Shape              Param #   \n",
      "=================================================================\n",
      "batch_normalization (BatchNo (None, 96, 96, 1)         4         \n",
      "_________________________________________________________________\n",
      "conv2d (Conv2D)              (None, 96, 96, 64)        1600      \n",
      "_________________________________________________________________\n",
      "max_pooling2d (MaxPooling2D) (None, 48, 48, 64)        0         \n",
      "_________________________________________________________________\n",
      "conv2d_1 (Conv2D)            (None, 44, 44, 128)       204800    \n",
      "_________________________________________________________________\n",
      "max_pooling2d_1 (MaxPooling2 (None, 22, 22, 128)       0         \n",
      "_________________________________________________________________\n",
      "conv2d_2 (Conv2D)            (None, 18, 18, 256)       819200    \n",
      "_________________________________________________________________\n",
      "average_pooling2d (AveragePo (None, 2, 2, 256)         0         \n",
      "_________________________________________________________________\n",
      "flatten (Flatten)            (None, 1024)              0         \n",
      "_________________________________________________________________\n",
      "dense (Dense)                (None, 300)               307500    \n",
      "_________________________________________________________________\n",
      "dropout (Dropout)            (None, 300)               0         \n",
      "_________________________________________________________________\n",
      "dense_1 (Dense)              (None, 2)                 602       \n",
      "=================================================================\n",
      "Total params: 1,333,706\n",
      "Trainable params: 1,333,704\n",
      "Non-trainable params: 2\n",
      "_________________________________________________________________\n",
      "None\n",
      "Epoch 1/100\n",
      "1000/1000 [==============================] - ETA: 0s - loss: 0.6465 - rmse: 0.4018 - rmse_v: 0.4572 - rmse_a: 0.3464 - cc_v: 0.3434 - cc_a: 0.3874 - ccc_v: 0.3329 - ccc_a: 0.3740\n",
      "Epoch 00001: val_loss improved from inf to 0.78946, saving model to /home/rangulov/EmotionRecognition/data/checkpoints/simple_cnn_ccc_loss.0001-0.7895.hdf5\n",
      "1000/1000 [==============================] - 325s 325ms/step - loss: 0.6465 - rmse: 0.4018 - rmse_v: 0.4572 - rmse_a: 0.3464 - cc_v: 0.3434 - cc_a: 0.3874 - ccc_v: 0.3329 - ccc_a: 0.3740 - val_loss: 0.7895 - val_rmse: 0.4028 - val_rmse_v: 0.5056 - val_rmse_a: 0.3000 - val_cc_v: 0.2661 - val_cc_a: 0.2545 - val_ccc_v: 0.1798 - val_ccc_a: 0.2412\n",
      "Epoch 2/100\n",
      "1000/1000 [==============================] - ETA: 0s - loss: 0.3611 - rmse: 0.2969 - rmse_v: 0.3419 - rmse_a: 0.2518 - cc_v: 0.6464 - cc_a: 0.6508 - ccc_v: 0.6367 - ccc_a: 0.6410\n",
      "Epoch 00002: val_loss improved from 0.78946 to 0.78343, saving model to /home/rangulov/EmotionRecognition/data/checkpoints/simple_cnn_ccc_loss.0002-0.7834.hdf5\n",
      "1000/1000 [==============================] - 323s 323ms/step - loss: 0.3611 - rmse: 0.2969 - rmse_v: 0.3419 - rmse_a: 0.2518 - cc_v: 0.6464 - cc_a: 0.6508 - ccc_v: 0.6367 - ccc_a: 0.6410 - val_loss: 0.7834 - val_rmse: 0.3825 - val_rmse_v: 0.4653 - val_rmse_a: 0.2997 - val_cc_v: 0.2365 - val_cc_a: 0.2852 - val_ccc_v: 0.1997 - val_ccc_a: 0.2334\n",
      "Epoch 3/100\n",
      "1000/1000 [==============================] - ETA: 0s - loss: 0.2875 - rmse: 0.2643 - rmse_v: 0.3027 - rmse_a: 0.2259 - cc_v: 0.7239 - cc_a: 0.7177 - ccc_v: 0.7157 - ccc_a: 0.7093\n",
      "Epoch 00003: val_loss did not improve from 0.78343\n",
      "1000/1000 [==============================] - 323s 323ms/step - loss: 0.2875 - rmse: 0.2643 - rmse_v: 0.3027 - rmse_a: 0.2259 - cc_v: 0.7239 - cc_a: 0.7177 - ccc_v: 0.7157 - ccc_a: 0.7093 - val_loss: 0.8277 - val_rmse: 0.3675 - val_rmse_v: 0.4425 - val_rmse_a: 0.2924 - val_cc_v: 0.1494 - val_cc_a: 0.2610 - val_ccc_v: 0.1206 - val_ccc_a: 0.2239\n",
      "Epoch 4/100\n",
      "1000/1000 [==============================] - ETA: 0s - loss: 0.2482 - rmse: 0.2461 - rmse_v: 0.2803 - rmse_a: 0.2119 - cc_v: 0.7649 - cc_a: 0.7537 - ccc_v: 0.7572 - ccc_a: 0.7464\n",
      "Epoch 00004: val_loss did not improve from 0.78343\n",
      "1000/1000 [==============================] - 324s 324ms/step - loss: 0.2482 - rmse: 0.2461 - rmse_v: 0.2803 - rmse_a: 0.2119 - cc_v: 0.7649 - cc_a: 0.7537 - ccc_v: 0.7572 - ccc_a: 0.7464 - val_loss: 0.8202 - val_rmse: 0.3651 - val_rmse_v: 0.4451 - val_rmse_a: 0.2851 - val_cc_v: 0.1561 - val_cc_a: 0.2744 - val_ccc_v: 0.1252 - val_ccc_a: 0.2344\n",
      "Epoch 5/100\n",
      "1000/1000 [==============================] - ETA: 0s - loss: 0.2233 - rmse: 0.2322 - rmse_v: 0.2640 - rmse_a: 0.2004 - cc_v: 0.7880 - cc_a: 0.7774 - ccc_v: 0.7819 - ccc_a: 0.7714\n",
      "Epoch 00005: val_loss did not improve from 0.78343\n",
      "1000/1000 [==============================] - 323s 323ms/step - loss: 0.2233 - rmse: 0.2322 - rmse_v: 0.2640 - rmse_a: 0.2004 - cc_v: 0.7880 - cc_a: 0.7774 - ccc_v: 0.7819 - ccc_a: 0.7714 - val_loss: 0.8541 - val_rmse: 0.3604 - val_rmse_v: 0.4424 - val_rmse_a: 0.2784 - val_cc_v: 0.0918 - val_cc_a: 0.2589 - val_ccc_v: 0.0722 - val_ccc_a: 0.2196\n",
      "Epoch 6/100\n",
      "1000/1000 [==============================] - ETA: 0s - loss: 0.2055 - rmse: 0.2227 - rmse_v: 0.2523 - rmse_a: 0.1932 - cc_v: 0.8072 - cc_a: 0.7933 - ccc_v: 0.8014 - ccc_a: 0.7876\n",
      "Epoch 00006: val_loss did not improve from 0.78343\n",
      "1000/1000 [==============================] - 322s 322ms/step - loss: 0.2055 - rmse: 0.2227 - rmse_v: 0.2523 - rmse_a: 0.1932 - cc_v: 0.8072 - cc_a: 0.7933 - ccc_v: 0.8014 - ccc_a: 0.7876 - val_loss: 0.8380 - val_rmse: 0.3844 - val_rmse_v: 0.4735 - val_rmse_a: 0.2953 - val_cc_v: 0.1427 - val_cc_a: 0.2598 - val_ccc_v: 0.0976 - val_ccc_a: 0.2263\n",
      "Epoch 7/100\n",
      "1000/1000 [==============================] - ETA: 0s - loss: 0.1923 - rmse: 0.2161 - rmse_v: 0.2450 - rmse_a: 0.1871 - cc_v: 0.8199 - cc_a: 0.8066 - ccc_v: 0.8145 - ccc_a: 0.8009\n",
      "Epoch 00007: val_loss did not improve from 0.78343\n",
      "1000/1000 [==============================] - 321s 321ms/step - loss: 0.1923 - rmse: 0.2161 - rmse_v: 0.2450 - rmse_a: 0.1871 - cc_v: 0.8199 - cc_a: 0.8066 - ccc_v: 0.8145 - ccc_a: 0.8009 - val_loss: 0.8549 - val_rmse: 0.3645 - val_rmse_v: 0.4422 - val_rmse_a: 0.2869 - val_cc_v: 0.1124 - val_cc_a: 0.2418 - val_ccc_v: 0.0873 - val_ccc_a: 0.2029\n",
      "Epoch 8/100\n",
      "1000/1000 [==============================] - ETA: 0s - loss: 0.1812 - rmse: 0.2094 - rmse_v: 0.2363 - rmse_a: 0.1824 - cc_v: 0.8315 - cc_a: 0.8161 - ccc_v: 0.8265 - ccc_a: 0.8110\n",
      "Epoch 00008: val_loss did not improve from 0.78343\n",
      "1000/1000 [==============================] - 321s 321ms/step - loss: 0.1812 - rmse: 0.2094 - rmse_v: 0.2363 - rmse_a: 0.1824 - cc_v: 0.8315 - cc_a: 0.8161 - ccc_v: 0.8265 - ccc_a: 0.8110 - val_loss: 0.8424 - val_rmse: 0.3692 - val_rmse_v: 0.4503 - val_rmse_a: 0.2882 - val_cc_v: 0.1286 - val_cc_a: 0.2562 - val_ccc_v: 0.0933 - val_ccc_a: 0.2219\n",
      "Epoch 9/100\n",
      "1000/1000 [==============================] - ETA: 0s - loss: 0.1728 - rmse: 0.2043 - rmse_v: 0.2308 - rmse_a: 0.1777 - cc_v: 0.8393 - cc_a: 0.8252 - ccc_v: 0.8347 - ccc_a: 0.8198\n",
      "Epoch 00009: val_loss did not improve from 0.78343\n",
      "1000/1000 [==============================] - 323s 323ms/step - loss: 0.1728 - rmse: 0.2043 - rmse_v: 0.2308 - rmse_a: 0.1777 - cc_v: 0.8393 - cc_a: 0.8252 - ccc_v: 0.8347 - ccc_a: 0.8198 - val_loss: 0.8902 - val_rmse: 0.3703 - val_rmse_v: 0.4534 - val_rmse_a: 0.2872 - val_cc_v: 0.0725 - val_cc_a: 0.1968 - val_ccc_v: 0.0547 - val_ccc_a: 0.1649\n",
      "Epoch 10/100\n",
      " 621/1000 [=================>............] - ETA: 1:04 - loss: 0.1561 - rmse: 0.1943 - rmse_v: 0.2188 - rmse_a: 0.1698 - cc_v: 0.8553 - cc_a: 0.8415 - ccc_v: 0.8513 - ccc_a: 0.8366\n",
      "Epoch 00017: val_loss did not improve from 0.78343\n",
      "1000/1000 [==============================] - 322s 322ms/step - loss: 0.1272 - rmse: 0.1754 - rmse_v: 0.1972 - rmse_a: 0.1536 - cc_v: 0.8832 - cc_a: 0.8697 - ccc_v: 0.8794 - ccc_a: 0.8662 - val_loss: 0.9045 - val_rmse: 0.3744 - val_rmse_v: 0.4600 - val_rmse_a: 0.2887 - val_cc_v: 0.0357 - val_cc_a: 0.2081 - val_ccc_v: 0.0261 - val_ccc_a: 0.1648\n",
      "Epoch 18/100\n",
      "1000/1000 [==============================] - ETA: 0s - loss: 0.0857 - rmse: 0.1434 - rmse_v: 0.1599 - rmse_a: 0.1268 - cc_v: 0.9224 - cc_a: 0.9112 - ccc_v: 0.9201 - ccc_a: 0.9085\n",
      "Epoch 00040: val_loss did not improve from 0.78343\n",
      "1000/1000 [==============================] - 322s 322ms/step - loss: 0.0857 - rmse: 0.1434 - rmse_v: 0.1599 - rmse_a: 0.1268 - cc_v: 0.9224 - cc_a: 0.9112 - ccc_v: 0.9201 - ccc_a: 0.9085 - val_loss: 0.8795 - val_rmse: 0.3635 - val_rmse_v: 0.4442 - val_rmse_a: 0.2829 - val_cc_v: 0.0586 - val_cc_a: 0.2304 - val_ccc_v: 0.0465 - val_ccc_a: 0.1945\n"
     ]
    },
    {
     "name": "stdout",
     "output_type": "stream",
     "text": [
      "Epoch 41/100\n",
      "1000/1000 [==============================] - ETA: 0s - loss: 0.0839 - rmse: 0.1415 - rmse_v: 0.1581 - rmse_a: 0.1250 - cc_v: 0.9240 - cc_a: 0.9127 - ccc_v: 0.9218 - ccc_a: 0.9104\n",
      "Epoch 00041: val_loss did not improve from 0.78343\n",
      "1000/1000 [==============================] - 324s 324ms/step - loss: 0.0839 - rmse: 0.1415 - rmse_v: 0.1581 - rmse_a: 0.1250 - cc_v: 0.9240 - cc_a: 0.9127 - ccc_v: 0.9218 - ccc_a: 0.9104 - val_loss: 0.9066 - val_rmse: 0.3729 - val_rmse_v: 0.4530 - val_rmse_a: 0.2927 - val_cc_v: 0.0507 - val_cc_a: 0.1840 - val_ccc_v: 0.0382 - val_ccc_a: 0.1485\n",
      "Epoch 42/100\n",
      "1000/1000 [==============================] - ETA: 0s - loss: 0.0834 - rmse: 0.1409 - rmse_v: 0.1573 - rmse_a: 0.1245 - cc_v: 0.9247 - cc_a: 0.9136 - ccc_v: 0.9223 - ccc_a: 0.9109\n",
      "Epoch 00042: val_loss did not improve from 0.78343\n",
      "1000/1000 [==============================] - 326s 326ms/step - loss: 0.0834 - rmse: 0.1409 - rmse_v: 0.1573 - rmse_a: 0.1245 - cc_v: 0.9247 - cc_a: 0.9136 - ccc_v: 0.9223 - ccc_a: 0.9109 - val_loss: 0.8849 - val_rmse: 0.3665 - val_rmse_v: 0.4445 - val_rmse_a: 0.2885 - val_cc_v: 0.0789 - val_cc_a: 0.1939 - val_ccc_v: 0.0612 - val_ccc_a: 0.1690\n",
      "Epoch 43/100\n",
      " 660/1000 [==================>...........] - ETA: 58s - loss: 0.0823 - rmse: 0.1399 - rmse_v: 0.1562 - rmse_a: 0.1235 - cc_v: 0.9254 - cc_a: 0.9145 - ccc_v: 0.9233 - ccc_a: 0.9121"
     ]
    },
    {
     "name": "stderr",
     "output_type": "stream",
     "text": [
      "IOPub data rate exceeded.\n",
      "The notebook server will temporarily stop sending output\n",
      "to the client in order to avoid crashing it.\n",
      "To change this limit, set the config variable\n",
      "`--NotebookApp.iopub_data_rate_limit`.\n",
      "\n",
      "Current values:\n",
      "NotebookApp.iopub_data_rate_limit=1000000.0 (bytes/sec)\n",
      "NotebookApp.rate_limit_window=3.0 (secs)\n",
      "\n"
     ]
    },
    {
     "name": "stdout",
     "output_type": "stream",
     "text": [
      "1000/1000 [==============================] - ETA: 0s - loss: 0.0785 - rmse: 0.1370 - rmse_v: 0.1528 - rmse_a: 0.1211 - cc_v: 0.9288 - cc_a: 0.9184 - ccc_v: 0.9268 - ccc_a: 0.9162\n",
      "Epoch 00048: val_loss did not improve from 0.78343\n",
      "1000/1000 [==============================] - 324s 324ms/step - loss: 0.0785 - rmse: 0.1370 - rmse_v: 0.1528 - rmse_a: 0.1211 - cc_v: 0.9288 - cc_a: 0.9184 - ccc_v: 0.9268 - ccc_a: 0.9162 - val_loss: 0.8897 - val_rmse: 0.3719 - val_rmse_v: 0.4586 - val_rmse_a: 0.2852 - val_cc_v: 0.0688 - val_cc_a: 0.2050 - val_ccc_v: 0.0498 - val_ccc_a: 0.1708\n",
      "Epoch 49/100\n",
      "1000/1000 [==============================] - ETA: 0s - loss: 0.0774 - rmse: 0.1362 - rmse_v: 0.1517 - rmse_a: 0.1206 - cc_v: 0.9301 - cc_a: 0.9194 - ccc_v: 0.9282 - ccc_a: 0.9171\n",
      "Epoch 00049: val_loss did not improve from 0.78343\n",
      "1000/1000 [==============================] - 323s 323ms/step - loss: 0.0774 - rmse: 0.1362 - rmse_v: 0.1517 - rmse_a: 0.1206 - cc_v: 0.9301 - cc_a: 0.9194 - ccc_v: 0.9282 - ccc_a: 0.9171 - val_loss: 0.9097 - val_rmse: 0.3714 - val_rmse_v: 0.4528 - val_rmse_a: 0.2900 - val_cc_v: 0.0271 - val_cc_a: 0.1971 - val_ccc_v: 0.0211 - val_ccc_a: 0.1595\n",
      "Epoch 50/100\n",
      "1000/1000 [==============================] - ETA: 0s - loss: 0.0773 - rmse: 0.1364 - rmse_v: 0.1519 - rmse_a: 0.1208 - cc_v: 0.9303 - cc_a: 0.9195 - ccc_v: 0.9283 - ccc_a: 0.9172\n",
      "Epoch 00050: val_loss did not improve from 0.78343\n",
      "1000/1000 [==============================] - 322s 322ms/step - loss: 0.0773 - rmse: 0.1364 - rmse_v: 0.1519 - rmse_a: 0.1208 - cc_v: 0.9303 - cc_a: 0.9195 - ccc_v: 0.9283 - ccc_a: 0.9172 - val_loss: 0.8976 - val_rmse: 0.3737 - val_rmse_v: 0.4620 - val_rmse_a: 0.2854 - val_cc_v: 0.0558 - val_cc_a: 0.1880 - val_ccc_v: 0.0416 - val_ccc_a: 0.1631\n",
      "Epoch 51/100\n",
      " 413/1000 [===========>..................] - ETA: 1:39 - loss: 0.0771 - rmse: 0.1355 - rmse_v: 0.1515 - rmse_a: 0.1195 - cc_v: 0.9303 - cc_a: 0.9201 - ccc_v: 0.9282 - ccc_a: 0.9177"
     ]
    },
    {
     "name": "stderr",
     "output_type": "stream",
     "text": [
      "IOPub data rate exceeded.\n",
      "The notebook server will temporarily stop sending output\n",
      "to the client in order to avoid crashing it.\n",
      "To change this limit, set the config variable\n",
      "`--NotebookApp.iopub_data_rate_limit`.\n",
      "\n",
      "Current values:\n",
      "NotebookApp.iopub_data_rate_limit=1000000.0 (bytes/sec)\n",
      "NotebookApp.rate_limit_window=3.0 (secs)\n",
      "\n"
     ]
    },
    {
     "name": "stdout",
     "output_type": "stream",
     "text": [
      "1000/1000 [==============================] - ETA: 0s - loss: 0.0735 - rmse: 0.1323 - rmse_v: 0.1480 - rmse_a: 0.1166 - cc_v: 0.9333 - cc_a: 0.9236 - ccc_v: 0.9313 - ccc_a: 0.9216\n",
      "Epoch 00056: val_loss did not improve from 0.78343\n",
      "1000/1000 [==============================] - 324s 324ms/step - loss: 0.0735 - rmse: 0.1323 - rmse_v: 0.1480 - rmse_a: 0.1166 - cc_v: 0.9333 - cc_a: 0.9236 - ccc_v: 0.9313 - ccc_a: 0.9216 - val_loss: 0.9006 - val_rmse: 0.3713 - val_rmse_v: 0.4538 - val_rmse_a: 0.2888 - val_cc_v: 0.0721 - val_cc_a: 0.1673 - val_ccc_v: 0.0553 - val_ccc_a: 0.1435\n",
      "Epoch 57/100\n",
      "1000/1000 [==============================] - ETA: 0s - loss: 0.0725 - rmse: 0.1313 - rmse_v: 0.1466 - rmse_a: 0.1160 - cc_v: 0.9344 - cc_a: 0.9247 - ccc_v: 0.9326 - ccc_a: 0.9225\n",
      "Epoch 00057: val_loss did not improve from 0.78343\n",
      "1000/1000 [==============================] - 324s 324ms/step - loss: 0.0725 - rmse: 0.1313 - rmse_v: 0.1466 - rmse_a: 0.1160 - cc_v: 0.9344 - cc_a: 0.9247 - ccc_v: 0.9326 - ccc_a: 0.9225 - val_loss: 0.9119 - val_rmse: 0.3804 - val_rmse_v: 0.4669 - val_rmse_a: 0.2940 - val_cc_v: 0.0323 - val_cc_a: 0.1878 - val_ccc_v: 0.0239 - val_ccc_a: 0.1523\n",
      "Epoch 58/100\n",
      "1000/1000 [==============================] - ETA: 0s - loss: 0.0710 - rmse: 0.1307 - rmse_v: 0.1457 - rmse_a: 0.1157 - cc_v: 0.9359 - cc_a: 0.9260 - ccc_v: 0.9341 - ccc_a: 0.9239\n",
      "Epoch 00058: val_loss did not improve from 0.78343\n",
      "1000/1000 [==============================] - 323s 323ms/step - loss: 0.0710 - rmse: 0.1307 - rmse_v: 0.1457 - rmse_a: 0.1157 - cc_v: 0.9359 - cc_a: 0.9260 - ccc_v: 0.9341 - ccc_a: 0.9239 - val_loss: 0.9103 - val_rmse: 0.3746 - val_rmse_v: 0.4608 - val_rmse_a: 0.2884 - val_cc_v: 0.0358 - val_cc_a: 0.1774 - val_ccc_v: 0.0290 - val_ccc_a: 0.1504\n",
      "Epoch 59/100\n",
      " 344/1000 [=========>....................] - ETA: 1:51 - loss: 0.0715 - rmse: 0.1312 - rmse_v: 0.1460 - rmse_a: 0.1164 - cc_v: 0.9358 - cc_a: 0.9262 - ccc_v: 0.9339 - ccc_a: 0.9232"
     ]
    },
    {
     "name": "stderr",
     "output_type": "stream",
     "text": [
      "IOPub data rate exceeded.\n",
      "The notebook server will temporarily stop sending output\n",
      "to the client in order to avoid crashing it.\n",
      "To change this limit, set the config variable\n",
      "`--NotebookApp.iopub_data_rate_limit`.\n",
      "\n",
      "Current values:\n",
      "NotebookApp.iopub_data_rate_limit=1000000.0 (bytes/sec)\n",
      "NotebookApp.rate_limit_window=3.0 (secs)\n",
      "\n"
     ]
    },
    {
     "name": "stdout",
     "output_type": "stream",
     "text": [
      "1000/1000 [==============================] - ETA: 0s - loss: 0.0688 - rmse: 0.1283 - rmse_v: 0.1435 - rmse_a: 0.1131 - cc_v: 0.9377 - cc_a: 0.9283 - ccc_v: 0.9360 - ccc_a: 0.9264\n",
      "Epoch 00064: val_loss did not improve from 0.78343\n",
      "1000/1000 [==============================] - 322s 322ms/step - loss: 0.0688 - rmse: 0.1283 - rmse_v: 0.1435 - rmse_a: 0.1131 - cc_v: 0.9377 - cc_a: 0.9283 - ccc_v: 0.9360 - ccc_a: 0.9264 - val_loss: 0.9045 - val_rmse: 0.3774 - val_rmse_v: 0.4647 - val_rmse_a: 0.2901 - val_cc_v: 0.0432 - val_cc_a: 0.1843 - val_ccc_v: 0.0341 - val_ccc_a: 0.1569\n",
      "Epoch 65/100\n",
      "1000/1000 [==============================] - ETA: 0s - loss: 0.0683 - rmse: 0.1280 - rmse_v: 0.1432 - rmse_a: 0.1127 - cc_v: 0.9377 - cc_a: 0.9292 - ccc_v: 0.9360 - ccc_a: 0.9274\n",
      "Epoch 00065: val_loss did not improve from 0.78343\n",
      "1000/1000 [==============================] - 324s 324ms/step - loss: 0.0683 - rmse: 0.1280 - rmse_v: 0.1432 - rmse_a: 0.1127 - cc_v: 0.9377 - cc_a: 0.9292 - ccc_v: 0.9360 - ccc_a: 0.9274 - val_loss: 0.9058 - val_rmse: 0.3715 - val_rmse_v: 0.4528 - val_rmse_a: 0.2901 - val_cc_v: 0.0674 - val_cc_a: 0.1633 - val_ccc_v: 0.0514 - val_ccc_a: 0.1369\n",
      "Epoch 66/100\n",
      "1000/1000 [==============================] - ETA: 0s - loss: 0.0680 - rmse: 0.1272 - rmse_v: 0.1417 - rmse_a: 0.1126 - cc_v: 0.9390 - cc_a: 0.9288 - ccc_v: 0.9372 - ccc_a: 0.9268\n",
      "Epoch 00066: val_loss did not improve from 0.78343\n",
      "1000/1000 [==============================] - 344s 344ms/step - loss: 0.0680 - rmse: 0.1272 - rmse_v: 0.1417 - rmse_a: 0.1126 - cc_v: 0.9390 - cc_a: 0.9288 - ccc_v: 0.9372 - ccc_a: 0.9268 - val_loss: 0.9101 - val_rmse: 0.3731 - val_rmse_v: 0.4523 - val_rmse_a: 0.2938 - val_cc_v: 0.0578 - val_cc_a: 0.1618 - val_ccc_v: 0.0445 - val_ccc_a: 0.1354\n",
      "Epoch 67/100\n",
      "  20/1000 [..............................] - ETA: 2:38 - loss: 0.0648 - rmse: 0.1246 - rmse_v: 0.1387 - rmse_a: 0.1105 - cc_v: 0.9411 - cc_a: 0.9321 - ccc_v: 0.9399 - ccc_a: 0.9304"
     ]
    },
    {
     "name": "stderr",
     "output_type": "stream",
     "text": [
      "IOPub data rate exceeded.\n",
      "The notebook server will temporarily stop sending output\n",
      "to the client in order to avoid crashing it.\n",
      "To change this limit, set the config variable\n",
      "`--NotebookApp.iopub_data_rate_limit`.\n",
      "\n",
      "Current values:\n",
      "NotebookApp.iopub_data_rate_limit=1000000.0 (bytes/sec)\n",
      "NotebookApp.rate_limit_window=3.0 (secs)\n",
      "\n"
     ]
    },
    {
     "name": "stdout",
     "output_type": "stream",
     "text": [
      "1000/1000 [==============================] - ETA: 0s - loss: 0.0656 - rmse: 0.1251 - rmse_v: 0.1401 - rmse_a: 0.1101 - cc_v: 0.9403 - cc_a: 0.9321 - ccc_v: 0.9385 - ccc_a: 0.9303\n",
      "Epoch 00072: val_loss did not improve from 0.78343\n",
      "1000/1000 [==============================] - 321s 321ms/step - loss: 0.0656 - rmse: 0.1251 - rmse_v: 0.1401 - rmse_a: 0.1101 - cc_v: 0.9403 - cc_a: 0.9321 - ccc_v: 0.9385 - ccc_a: 0.9303 - val_loss: 0.9249 - val_rmse: 0.3759 - val_rmse_v: 0.4566 - val_rmse_a: 0.2953 - val_cc_v: 0.0396 - val_cc_a: 0.1439 - val_ccc_v: 0.0303 - val_ccc_a: 0.1200\n",
      "Epoch 73/100\n",
      "1000/1000 [==============================] - ETA: 0s - loss: 0.0649 - rmse: 0.1246 - rmse_v: 0.1393 - rmse_a: 0.1100 - cc_v: 0.9411 - cc_a: 0.9327 - ccc_v: 0.9394 - ccc_a: 0.9309\n",
      "Epoch 00073: val_loss did not improve from 0.78343\n",
      "1000/1000 [==============================] - 322s 322ms/step - loss: 0.0649 - rmse: 0.1246 - rmse_v: 0.1393 - rmse_a: 0.1100 - cc_v: 0.9411 - cc_a: 0.9327 - ccc_v: 0.9394 - ccc_a: 0.9309 - val_loss: 0.9167 - val_rmse: 0.3770 - val_rmse_v: 0.4595 - val_rmse_a: 0.2944 - val_cc_v: 0.0461 - val_cc_a: 0.1632 - val_ccc_v: 0.0339 - val_ccc_a: 0.1326\n",
      "Epoch 74/100\n",
      " 997/1000 [============================>.] - ETA: 0s - loss: 0.0647 - rmse: 0.1244 - rmse_v: 0.1390 - rmse_a: 0.1099 - cc_v: 0.9412 - cc_a: 0.9332 - ccc_v: 0.9394 - ccc_a: 0.9312"
     ]
    },
    {
     "name": "stderr",
     "output_type": "stream",
     "text": [
      "IOPub data rate exceeded.\n",
      "The notebook server will temporarily stop sending output\n",
      "to the client in order to avoid crashing it.\n",
      "To change this limit, set the config variable\n",
      "`--NotebookApp.iopub_data_rate_limit`.\n",
      "\n",
      "Current values:\n",
      "NotebookApp.iopub_data_rate_limit=1000000.0 (bytes/sec)\n",
      "NotebookApp.rate_limit_window=3.0 (secs)\n",
      "\n"
     ]
    },
    {
     "name": "stdout",
     "output_type": "stream",
     "text": [
      "1000/1000 [==============================] - ETA: 0s - loss: 0.0623 - rmse: 0.1220 - rmse_v: 0.1362 - rmse_a: 0.1078 - cc_v: 0.9436 - cc_a: 0.9350 - ccc_v: 0.9420 - ccc_a: 0.9333\n",
      "Epoch 00080: val_loss did not improve from 0.78343\n",
      "1000/1000 [==============================] - 324s 324ms/step - loss: 0.0623 - rmse: 0.1220 - rmse_v: 0.1362 - rmse_a: 0.1078 - cc_v: 0.9436 - cc_a: 0.9350 - ccc_v: 0.9420 - ccc_a: 0.9333 - val_loss: 0.9294 - val_rmse: 0.3768 - val_rmse_v: 0.4612 - val_rmse_a: 0.2925 - val_cc_v: 0.0179 - val_cc_a: 0.1516 - val_ccc_v: 0.0139 - val_ccc_a: 0.1272\n",
      "Epoch 81/100\n",
      "1000/1000 [==============================] - ETA: 0s - loss: 0.0610 - rmse: 0.1210 - rmse_v: 0.1350 - rmse_a: 0.1070 - cc_v: 0.9450 - cc_a: 0.9364 - ccc_v: 0.9434 - ccc_a: 0.9346\n",
      "Epoch 00081: val_loss did not improve from 0.78343\n",
      "1000/1000 [==============================] - 323s 323ms/step - loss: 0.0610 - rmse: 0.1210 - rmse_v: 0.1350 - rmse_a: 0.1070 - cc_v: 0.9450 - cc_a: 0.9364 - ccc_v: 0.9434 - ccc_a: 0.9346 - val_loss: 0.9269 - val_rmse: 0.3774 - val_rmse_v: 0.4591 - val_rmse_a: 0.2957 - val_cc_v: 0.0330 - val_cc_a: 0.1429 - val_ccc_v: 0.0254 - val_ccc_a: 0.1208\n",
      "Epoch 82/100\n",
      " 943/1000 [===========================>..] - ETA: 9s - loss: 0.0609 - rmse: 0.1207 - rmse_v: 0.1352 - rmse_a: 0.1062 - cc_v: 0.9441 - cc_a: 0.9371 - ccc_v: 0.9426 - ccc_a: 0.9355"
     ]
    },
    {
     "name": "stderr",
     "output_type": "stream",
     "text": [
      "IOPub data rate exceeded.\n",
      "The notebook server will temporarily stop sending output\n",
      "to the client in order to avoid crashing it.\n",
      "To change this limit, set the config variable\n",
      "`--NotebookApp.iopub_data_rate_limit`.\n",
      "\n",
      "Current values:\n",
      "NotebookApp.iopub_data_rate_limit=1000000.0 (bytes/sec)\n",
      "NotebookApp.rate_limit_window=3.0 (secs)\n",
      "\n"
     ]
    },
    {
     "name": "stdout",
     "output_type": "stream",
     "text": [
      "1000/1000 [==============================] - ETA: 0s - loss: 0.0606 - rmse: 0.1206 - rmse_v: 0.1350 - rmse_a: 0.1061 - cc_v: 0.9444 - cc_a: 0.9377 - ccc_v: 0.9428 - ccc_a: 0.9359\n",
      "Epoch 00085: val_loss did not improve from 0.78343\n",
      "1000/1000 [==============================] - 324s 324ms/step - loss: 0.0606 - rmse: 0.1206 - rmse_v: 0.1350 - rmse_a: 0.1061 - cc_v: 0.9444 - cc_a: 0.9377 - ccc_v: 0.9428 - ccc_a: 0.9359 - val_loss: 0.9049 - val_rmse: 0.3761 - val_rmse_v: 0.4639 - val_rmse_a: 0.2883 - val_cc_v: 0.0595 - val_cc_a: 0.1747 - val_ccc_v: 0.0443 - val_ccc_a: 0.1459\n",
      "Epoch 86/100\n",
      "1000/1000 [==============================] - ETA: 0s - loss: 0.0601 - rmse: 0.1204 - rmse_v: 0.1342 - rmse_a: 0.1065 - cc_v: 0.9457 - cc_a: 0.9375 - ccc_v: 0.9441 - ccc_a: 0.9358\n",
      "Epoch 00086: val_loss did not improve from 0.78343\n",
      "1000/1000 [==============================] - 324s 324ms/step - loss: 0.0601 - rmse: 0.1204 - rmse_v: 0.1342 - rmse_a: 0.1065 - cc_v: 0.9457 - cc_a: 0.9375 - ccc_v: 0.9441 - ccc_a: 0.9358 - val_loss: 0.9208 - val_rmse: 0.3770 - val_rmse_v: 0.4623 - val_rmse_a: 0.2916 - val_cc_v: 0.0356 - val_cc_a: 0.1566 - val_ccc_v: 0.0270 - val_ccc_a: 0.1313\n",
      "Epoch 87/100\n",
      "1000/1000 [==============================] - ETA: 0s - loss: 0.0601 - rmse: 0.1198 - rmse_v: 0.1336 - rmse_a: 0.1059 - cc_v: 0.9455 - cc_a: 0.9377 - ccc_v: 0.9439 - ccc_a: 0.9359\n",
      "Epoch 00087: val_loss did not improve from 0.78343\n",
      "1000/1000 [==============================] - 322s 322ms/step - loss: 0.0601 - rmse: 0.1198 - rmse_v: 0.1336 - rmse_a: 0.1059 - cc_v: 0.9455 - cc_a: 0.9377 - ccc_v: 0.9439 - ccc_a: 0.9359 - val_loss: 0.9169 - val_rmse: 0.3750 - val_rmse_v: 0.4578 - val_rmse_a: 0.2922 - val_cc_v: 0.0400 - val_cc_a: 0.1643 - val_ccc_v: 0.0307 - val_ccc_a: 0.1355\n",
      "Epoch 88/100\n",
      " 345/1000 [=========>....................] - ETA: 1:50 - loss: 0.0591 - rmse: 0.1188 - rmse_v: 0.1323 - rmse_a: 0.1053 - cc_v: 0.9471 - cc_a: 0.9381 - ccc_v: 0.9454 - ccc_a: 0.9365"
     ]
    },
    {
     "name": "stderr",
     "output_type": "stream",
     "text": [
      "IOPub data rate exceeded.\n",
      "The notebook server will temporarily stop sending output\n",
      "to the client in order to avoid crashing it.\n",
      "To change this limit, set the config variable\n",
      "`--NotebookApp.iopub_data_rate_limit`.\n",
      "\n",
      "Current values:\n",
      "NotebookApp.iopub_data_rate_limit=1000000.0 (bytes/sec)\n",
      "NotebookApp.rate_limit_window=3.0 (secs)\n",
      "\n"
     ]
    },
    {
     "name": "stdout",
     "output_type": "stream",
     "text": [
      "1000/1000 [==============================] - ETA: 0s - loss: 0.0583 - rmse: 0.1182 - rmse_v: 0.1321 - rmse_a: 0.1043 - cc_v: 0.9471 - cc_a: 0.9393 - ccc_v: 0.9458 - ccc_a: 0.9377\n",
      "Epoch 00093: val_loss did not improve from 0.78343\n",
      "1000/1000 [==============================] - 324s 324ms/step - loss: 0.0583 - rmse: 0.1182 - rmse_v: 0.1321 - rmse_a: 0.1043 - cc_v: 0.9471 - cc_a: 0.9393 - ccc_v: 0.9458 - ccc_a: 0.9377 - val_loss: 0.9224 - val_rmse: 0.3773 - val_rmse_v: 0.4670 - val_rmse_a: 0.2877 - val_cc_v: 0.0083 - val_cc_a: 0.1730 - val_ccc_v: 0.0064 - val_ccc_a: 0.1488\n",
      "Epoch 94/100\n",
      "1000/1000 [==============================] - ETA: 0s - loss: 0.0573 - rmse: 0.1171 - rmse_v: 0.1309 - rmse_a: 0.1034 - cc_v: 0.9481 - cc_a: 0.9402 - ccc_v: 0.9467 - ccc_a: 0.9386\n",
      "Epoch 00094: val_loss did not improve from 0.78343\n",
      "1000/1000 [==============================] - 323s 323ms/step - loss: 0.0573 - rmse: 0.1171 - rmse_v: 0.1309 - rmse_a: 0.1034 - cc_v: 0.9481 - cc_a: 0.9402 - ccc_v: 0.9467 - ccc_a: 0.9386 - val_loss: 0.9233 - val_rmse: 0.3803 - val_rmse_v: 0.4640 - val_rmse_a: 0.2967 - val_cc_v: 0.0133 - val_cc_a: 0.1765 - val_ccc_v: 0.0105 - val_ccc_a: 0.1430\n",
      "Epoch 95/100\n",
      "1000/1000 [==============================] - ETA: 0s - loss: 0.0581 - rmse: 0.1176 - rmse_v: 0.1316 - rmse_a: 0.1037 - cc_v: 0.9474 - cc_a: 0.9395 - ccc_v: 0.9459 - ccc_a: 0.9379\n",
      "Epoch 00095: val_loss did not improve from 0.78343\n",
      "1000/1000 [==============================] - 324s 324ms/step - loss: 0.0581 - rmse: 0.1176 - rmse_v: 0.1316 - rmse_a: 0.1037 - cc_v: 0.9474 - cc_a: 0.9395 - ccc_v: 0.9459 - ccc_a: 0.9379 - val_loss: 0.9169 - val_rmse: 0.3767 - val_rmse_v: 0.4606 - val_rmse_a: 0.2928 - val_cc_v: 0.0317 - val_cc_a: 0.1703 - val_ccc_v: 0.0246 - val_ccc_a: 0.1415\n",
      "Epoch 96/100\n",
      " 681/1000 [===================>..........] - ETA: 54s - loss: 0.0571 - rmse: 0.1172 - rmse_v: 0.1310 - rmse_a: 0.1033 - cc_v: 0.9483 - cc_a: 0.9405 - ccc_v: 0.9469 - ccc_a: 0.9389"
     ]
    },
    {
     "name": "stderr",
     "output_type": "stream",
     "text": [
      "IOPub data rate exceeded.\n",
      "The notebook server will temporarily stop sending output\n",
      "to the client in order to avoid crashing it.\n",
      "To change this limit, set the config variable\n",
      "`--NotebookApp.iopub_data_rate_limit`.\n",
      "\n",
      "Current values:\n",
      "NotebookApp.iopub_data_rate_limit=1000000.0 (bytes/sec)\n",
      "NotebookApp.rate_limit_window=3.0 (secs)\n",
      "\n"
     ]
    }
   ],
   "source": [
    "%run src/train_cnn.py"
   ]
  },
  {
   "cell_type": "code",
   "execution_count": null,
   "metadata": {},
   "outputs": [],
   "source": []
  },
  {
   "cell_type": "code",
   "execution_count": null,
   "metadata": {},
   "outputs": [],
   "source": []
  }
 ],
 "metadata": {
  "kernelspec": {
   "display_name": "Python 3",
   "language": "python",
   "name": "python3"
  },
  "language_info": {
   "codemirror_mode": {
    "name": "ipython",
    "version": 3
   },
   "file_extension": ".py",
   "mimetype": "text/x-python",
   "name": "python",
   "nbconvert_exporter": "python",
   "pygments_lexer": "ipython3",
   "version": "3.7.6"
  }
 },
 "nbformat": 4,
 "nbformat_minor": 4
}
