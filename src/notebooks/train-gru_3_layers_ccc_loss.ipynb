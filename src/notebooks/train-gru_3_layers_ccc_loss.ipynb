{
 "cells": [
  {
   "cell_type": "code",
   "execution_count": 1,
   "metadata": {},
   "outputs": [
    {
     "name": "stdout",
     "output_type": "stream",
     "text": [
      "True\n",
      "True\n",
      "/home/rangulov/cropped_aligned\n"
     ]
    }
   ],
   "source": [
    "import tensorflow as tf\n",
    "import os,sys\n",
    "import warnings\n",
    "warnings.filterwarnings('ignore')\n",
    "import logging\n",
    "logging.getLogger('tensorflow').disabled = True\n",
    "# gpu_devices = tf.config.experimental.list_physical_devices('GPU')\n",
    "# tf.config.experimental.set_memory_growth(gpu_devices[0], True)\n",
    "\n",
    "print(tf.test.is_gpu_available())\n",
    "print(tf.test.is_built_with_cuda())\n",
    "\n",
    "os.chdir(\"/home/rangulov/EmotionRecognition\")\n",
    "ROOT_DIR = os.path.abspath(\".\")\n",
    "sys.path.append(ROOT_DIR)\n",
    "import src.config\n",
    "print(src.config.PROCESSED_FRAMES_DATA_DIR)"
   ]
  },
  {
   "cell_type": "code",
   "execution_count": 2,
   "metadata": {},
   "outputs": [
    {
     "name": "stdout",
     "output_type": "stream",
     "text": [
      "Loading GRU model with CCC loss.\n",
      "Model: \"sequential\"\n",
      "_________________________________________________________________\n",
      "Layer (type)                 Output Shape              Param #   \n",
      "=================================================================\n",
      "gru (GRU)                    (None, 100, 100)          120600    \n",
      "_________________________________________________________________\n",
      "gru_1 (GRU)                  (None, 100, 100)          60600     \n",
      "_________________________________________________________________\n",
      "gru_2 (GRU)                  (None, 50)                22800     \n",
      "_________________________________________________________________\n",
      "dense (Dense)                (None, 2)                 102       \n",
      "=================================================================\n",
      "Total params: 204,102\n",
      "Trainable params: 204,102\n",
      "Non-trainable params: 0\n",
      "_________________________________________________________________\n",
      "None\n",
      "Number of sequences for train generator: 1496928\n",
      "Number of sequences for test generator: 319122\n",
      "Epoch 1/100\n",
      "5846/5847 [============================>.] - ETA: 0s - loss: 0.4339 - rmse: 0.3257 - rmse_v: 0.3718 - rmse_a: 0.2796 - cc_v: 0.5899 - cc_a: 0.5795 - ccc_v: 0.5722 - ccc_a: 0.5600\n",
      "Epoch 00001: val_loss improved from inf to 0.77486, saving model to /home/rangulov/EmotionRecognition/data/checkpoints/gru_ccc_loss-epoch:01-loss:0.7749-ccc_v:0.1734-ccc_a:0.2769.hdf5\n",
      "5847/5847 [==============================] - 241s 41ms/step - loss: 0.4339 - rmse: 0.3257 - rmse_v: 0.3718 - rmse_a: 0.2796 - cc_v: 0.5899 - cc_a: 0.5795 - ccc_v: 0.5722 - ccc_a: 0.5600 - val_loss: 0.7749 - val_rmse: 0.4379 - val_rmse_v: 0.5376 - val_rmse_a: 0.3381 - val_cc_v: 0.1840 - val_cc_a: 0.2813 - val_ccc_v: 0.1734 - val_ccc_a: 0.2769\n",
      "Epoch 2/100\n",
      "5847/5847 [==============================] - ETA: 0s - loss: 0.3201 - rmse: 0.2807 - rmse_v: 0.3190 - rmse_a: 0.2424 - cc_v: 0.6995 - cc_a: 0.6838 - ccc_v: 0.6880 - ccc_a: 0.6718\n",
      "Epoch 00002: val_loss improved from 0.77486 to 0.75122, saving model to /home/rangulov/EmotionRecognition/data/checkpoints/gru_ccc_loss-epoch:02-loss:0.7512-ccc_v:0.1733-ccc_a:0.3243.hdf5\n",
      "5847/5847 [==============================] - 235s 40ms/step - loss: 0.3201 - rmse: 0.2807 - rmse_v: 0.3190 - rmse_a: 0.2424 - cc_v: 0.6995 - cc_a: 0.6838 - ccc_v: 0.6880 - ccc_a: 0.6718 - val_loss: 0.7512 - val_rmse: 0.4267 - val_rmse_v: 0.5140 - val_rmse_a: 0.3395 - val_cc_v: 0.1786 - val_cc_a: 0.3316 - val_ccc_v: 0.1733 - val_ccc_a: 0.3243\n",
      "Epoch 3/100\n",
      "5847/5847 [==============================] - ETA: 0s - loss: 0.2681 - rmse: 0.2556 - rmse_v: 0.2860 - rmse_a: 0.2252 - cc_v: 0.7549 - cc_a: 0.7243 - ccc_v: 0.7479 - ccc_a: 0.7158\n",
      "Epoch 00003: val_loss did not improve from 0.75122\n",
      "5847/5847 [==============================] - 231s 40ms/step - loss: 0.2681 - rmse: 0.2556 - rmse_v: 0.2860 - rmse_a: 0.2252 - cc_v: 0.7549 - cc_a: 0.7243 - ccc_v: 0.7479 - ccc_a: 0.7158 - val_loss: 0.7513 - val_rmse: 0.4116 - val_rmse_v: 0.5098 - val_rmse_a: 0.3135 - val_cc_v: 0.1711 - val_cc_a: 0.3380 - val_ccc_v: 0.1678 - val_ccc_a: 0.3297\n",
      "Epoch 4/100\n",
      "5847/5847 [==============================] - ETA: 0s - loss: 0.2329 - rmse: 0.2373 - rmse_v: 0.2618 - rmse_a: 0.2129 - cc_v: 0.7938 - cc_a: 0.7528 - ccc_v: 0.7885 - ccc_a: 0.7457\n",
      "Epoch 00004: val_loss improved from 0.75122 to 0.73872, saving model to /home/rangulov/EmotionRecognition/data/checkpoints/gru_ccc_loss-epoch:04-loss:0.7387-ccc_v:0.1748-ccc_a:0.3478.hdf5\n",
      "5847/5847 [==============================] - 237s 41ms/step - loss: 0.2329 - rmse: 0.2373 - rmse_v: 0.2618 - rmse_a: 0.2129 - cc_v: 0.7938 - cc_a: 0.7528 - ccc_v: 0.7885 - ccc_a: 0.7457 - val_loss: 0.7387 - val_rmse: 0.4129 - val_rmse_v: 0.5216 - val_rmse_a: 0.3043 - val_cc_v: 0.1817 - val_cc_a: 0.3518 - val_ccc_v: 0.1748 - val_ccc_a: 0.3478\n",
      "Epoch 5/100\n",
      "5847/5847 [==============================] - ETA: 0s - loss: 0.2076 - rmse: 0.2235 - rmse_v: 0.2447 - rmse_a: 0.2022 - cc_v: 0.8191 - cc_a: 0.7753 - ccc_v: 0.8149 - ccc_a: 0.7699\n",
      "Epoch 00005: val_loss improved from 0.73872 to 0.72705, saving model to /home/rangulov/EmotionRecognition/data/checkpoints/gru_ccc_loss-epoch:05-loss:0.7271-ccc_v:0.2024-ccc_a:0.3435.hdf5\n",
      "5847/5847 [==============================] - 231s 40ms/step - loss: 0.2076 - rmse: 0.2235 - rmse_v: 0.2447 - rmse_a: 0.2022 - cc_v: 0.8191 - cc_a: 0.7753 - ccc_v: 0.8149 - ccc_a: 0.7699 - val_loss: 0.7271 - val_rmse: 0.3966 - val_rmse_v: 0.5004 - val_rmse_a: 0.2929 - val_cc_v: 0.2116 - val_cc_a: 0.3457 - val_ccc_v: 0.2024 - val_ccc_a: 0.3435\n",
      "Epoch 6/100\n",
      "5563/5847 [===========================>..] - ETA: 9s - loss: 0.1902 - rmse: 0.2136 - rmse_v: 0.2329 - rmse_a: 0.1943 - cc_v: 0.8359 - cc_a: 0.7922 - ccc_v: 0.8322 - ccc_a: 0.7874"
     ]
    },
    {
     "name": "stderr",
     "output_type": "stream",
     "text": [
      "IOPub data rate exceeded.\n",
      "The notebook server will temporarily stop sending output\n",
      "to the client in order to avoid crashing it.\n",
      "To change this limit, set the config variable\n",
      "`--NotebookApp.iopub_data_rate_limit`.\n",
      "\n",
      "Current values:\n",
      "NotebookApp.iopub_data_rate_limit=1000000.0 (bytes/sec)\n",
      "NotebookApp.rate_limit_window=3.0 (secs)\n",
      "\n"
     ]
    },
    {
     "name": "stdout",
     "output_type": "stream",
     "text": [
      "5846/5847 [============================>.] - ETA: 0s - loss: 0.1682 - rmse: 0.2004 - rmse_v: 0.2176 - rmse_a: 0.1832 - cc_v: 0.8560 - cc_a: 0.8149 - ccc_v: 0.8529 - ccc_a: 0.8107\n",
      "Epoch 00008: val_loss did not improve from 0.72506\n",
      "5847/5847 [==============================] - 232s 40ms/step - loss: 0.1682 - rmse: 0.2004 - rmse_v: 0.2176 - rmse_a: 0.1832 - cc_v: 0.8560 - cc_a: 0.8149 - ccc_v: 0.8529 - ccc_a: 0.8107 - val_loss: 0.7454 - val_rmse: 0.4008 - val_rmse_v: 0.5110 - val_rmse_a: 0.2906 - val_cc_v: 0.1693 - val_cc_a: 0.3490 - val_ccc_v: 0.1626 - val_ccc_a: 0.3465\n",
      "Epoch 9/100\n",
      "2623/5847 [============>.................] - ETA: 1:38 - loss: 0.1566 - rmse: 0.1931 - rmse_v: 0.2084 - rmse_a: 0.1778 - cc_v: 0.8683 - cc_a: 0.8248 - ccc_v: 0.8656 - ccc_a: 0.8213"
     ]
    },
    {
     "name": "stderr",
     "output_type": "stream",
     "text": [
      "IOPub data rate exceeded.\n",
      "The notebook server will temporarily stop sending output\n",
      "to the client in order to avoid crashing it.\n",
      "To change this limit, set the config variable\n",
      "`--NotebookApp.iopub_data_rate_limit`.\n",
      "\n",
      "Current values:\n",
      "NotebookApp.iopub_data_rate_limit=1000000.0 (bytes/sec)\n",
      "NotebookApp.rate_limit_window=3.0 (secs)\n",
      "\n"
     ]
    },
    {
     "name": "stdout",
     "output_type": "stream",
     "text": [
      "5847/5847 [==============================] - ETA: 0s - loss: 0.1376 - rmse: 0.1807 - rmse_v: 0.1948 - rmse_a: 0.1667 - cc_v: 0.8842 - cc_a: 0.8459 - ccc_v: 0.8820 - ccc_a: 0.8429\n",
      "Epoch 00011: val_loss did not improve from 0.71103\n",
      "5847/5847 [==============================] - 201s 34ms/step - loss: 0.1376 - rmse: 0.1807 - rmse_v: 0.1948 - rmse_a: 0.1667 - cc_v: 0.8842 - cc_a: 0.8459 - ccc_v: 0.8820 - ccc_a: 0.8429 - val_loss: 0.7226 - val_rmse: 0.3974 - val_rmse_v: 0.4972 - val_rmse_a: 0.2977 - val_cc_v: 0.1978 - val_cc_a: 0.3695 - val_ccc_v: 0.1873 - val_ccc_a: 0.3675\n",
      "Epoch 12/100\n",
      " 578/5847 [=>............................] - ETA: 2:39 - loss: 0.1303 - rmse: 0.1754 - rmse_v: 0.1882 - rmse_a: 0.1627 - cc_v: 0.8922 - cc_a: 0.8520 - ccc_v: 0.8902 - ccc_a: 0.8491"
     ]
    },
    {
     "name": "stderr",
     "output_type": "stream",
     "text": [
      "IOPub data rate exceeded.\n",
      "The notebook server will temporarily stop sending output\n",
      "to the client in order to avoid crashing it.\n",
      "To change this limit, set the config variable\n",
      "`--NotebookApp.iopub_data_rate_limit`.\n",
      "\n",
      "Current values:\n",
      "NotebookApp.iopub_data_rate_limit=1000000.0 (bytes/sec)\n",
      "NotebookApp.rate_limit_window=3.0 (secs)\n",
      "\n"
     ]
    },
    {
     "name": "stdout",
     "output_type": "stream",
     "text": [
      "5847/5847 [==============================] - ETA: 0s - loss: 0.1206 - rmse: 0.1690 - rmse_v: 0.1812 - rmse_a: 0.1569 - cc_v: 0.8998 - cc_a: 0.8632 - ccc_v: 0.8981 - ccc_a: 0.8606\n",
      "Epoch 00013: val_loss did not improve from 0.71103\n",
      "5847/5847 [==============================] - 207s 35ms/step - loss: 0.1206 - rmse: 0.1690 - rmse_v: 0.1812 - rmse_a: 0.1569 - cc_v: 0.8998 - cc_a: 0.8632 - ccc_v: 0.8981 - ccc_a: 0.8606 - val_loss: 0.7367 - val_rmse: 0.4023 - val_rmse_v: 0.4985 - val_rmse_a: 0.3060 - val_cc_v: 0.1961 - val_cc_a: 0.3386 - val_ccc_v: 0.1906 - val_ccc_a: 0.3360\n",
      "Epoch 14/100\n",
      "4451/5847 [=====================>........] - ETA: 43s - loss: 0.1168 - rmse: 0.1663 - rmse_v: 0.1787 - rmse_a: 0.1539 - cc_v: 0.9024 - cc_a: 0.8682 - ccc_v: 0.9006 - ccc_a: 0.8657"
     ]
    },
    {
     "name": "stderr",
     "output_type": "stream",
     "text": [
      "IOPub data rate exceeded.\n",
      "The notebook server will temporarily stop sending output\n",
      "to the client in order to avoid crashing it.\n",
      "To change this limit, set the config variable\n",
      "`--NotebookApp.iopub_data_rate_limit`.\n",
      "\n",
      "Current values:\n",
      "NotebookApp.iopub_data_rate_limit=1000000.0 (bytes/sec)\n",
      "NotebookApp.rate_limit_window=3.0 (secs)\n",
      "\n"
     ]
    },
    {
     "name": "stdout",
     "output_type": "stream",
     "text": [
      "5847/5847 [==============================] - ETA: 0s - loss: 0.1133 - rmse: 0.1611 - rmse_v: 0.1723 - rmse_a: 0.1498 - cc_v: 0.9058 - cc_a: 0.8728 - ccc_v: 0.9034 - ccc_a: 0.8699\n",
      "Epoch 00016: val_loss did not improve from 0.71103\n",
      "5847/5847 [==============================] - 220s 38ms/step - loss: 0.1133 - rmse: 0.1611 - rmse_v: 0.1723 - rmse_a: 0.1498 - cc_v: 0.9058 - cc_a: 0.8728 - ccc_v: 0.9034 - ccc_a: 0.8699 - val_loss: 0.8011 - val_rmse: 0.4799 - val_rmse_v: 0.5157 - val_rmse_a: 0.4441 - val_cc_v: 0.2438 - val_cc_a: 0.2130 - val_ccc_v: 0.2386 - val_ccc_a: 0.1591\n",
      "Epoch 17/100\n",
      "1331/5847 [=====>........................] - ETA: 2:15 - loss: 0.4947 - rmse: 0.3546 - rmse_v: 0.4050 - rmse_a: 0.3042 - cc_v: 0.5439 - cc_a: 0.5418 - ccc_v: 0.5110 - ccc_a: 0.4996"
     ]
    },
    {
     "name": "stderr",
     "output_type": "stream",
     "text": [
      "IOPub data rate exceeded.\n",
      "The notebook server will temporarily stop sending output\n",
      "to the client in order to avoid crashing it.\n",
      "To change this limit, set the config variable\n",
      "`--NotebookApp.iopub_data_rate_limit`.\n",
      "\n",
      "Current values:\n",
      "NotebookApp.iopub_data_rate_limit=1000000.0 (bytes/sec)\n",
      "NotebookApp.rate_limit_window=3.0 (secs)\n",
      "\n"
     ]
    },
    {
     "name": "stdout",
     "output_type": "stream",
     "text": [
      "5847/5847 [==============================] - ETA: 0s - loss: 0.2169 - rmse: 0.2289 - rmse_v: 0.2515 - rmse_a: 0.2063 - cc_v: 0.8132 - cc_a: 0.7708 - ccc_v: 0.8050 - ccc_a: 0.7612\n",
      "Epoch 00018: val_loss did not improve from 0.69126\n",
      "5847/5847 [==============================] - 218s 37ms/step - loss: 0.2169 - rmse: 0.2289 - rmse_v: 0.2515 - rmse_a: 0.2063 - cc_v: 0.8132 - cc_a: 0.7708 - ccc_v: 0.8050 - ccc_a: 0.7612 - val_loss: 0.7155 - val_rmse: 0.4045 - val_rmse_v: 0.5190 - val_rmse_a: 0.2899 - val_cc_v: 0.2081 - val_cc_a: 0.3758 - val_ccc_v: 0.1951 - val_ccc_a: 0.3739\n",
      "Epoch 19/100\n",
      "5077/5847 [=========================>....] - ETA: 23s - loss: 0.1856 - rmse: 0.2112 - rmse_v: 0.2307 - rmse_a: 0.1916 - cc_v: 0.8419 - cc_a: 0.8003 - ccc_v: 0.8357 - ccc_a: 0.7931"
     ]
    },
    {
     "name": "stderr",
     "output_type": "stream",
     "text": [
      "IOPub data rate exceeded.\n",
      "The notebook server will temporarily stop sending output\n",
      "to the client in order to avoid crashing it.\n",
      "To change this limit, set the config variable\n",
      "`--NotebookApp.iopub_data_rate_limit`.\n",
      "\n",
      "Current values:\n",
      "NotebookApp.iopub_data_rate_limit=1000000.0 (bytes/sec)\n",
      "NotebookApp.rate_limit_window=3.0 (secs)\n",
      "\n"
     ]
    },
    {
     "name": "stdout",
     "output_type": "stream",
     "text": [
      "5847/5847 [==============================] - ETA: 0s - loss: 0.1523 - rmse: 0.1906 - rmse_v: 0.2065 - rmse_a: 0.1748 - cc_v: 0.8720 - cc_a: 0.8330 - ccc_v: 0.8680 - ccc_a: 0.8275\n",
      "Epoch 00021: val_loss did not improve from 0.69126\n",
      "5847/5847 [==============================] - 209s 36ms/step - loss: 0.1523 - rmse: 0.1906 - rmse_v: 0.2065 - rmse_a: 0.1748 - cc_v: 0.8720 - cc_a: 0.8330 - ccc_v: 0.8680 - ccc_a: 0.8275 - val_loss: 0.7326 - val_rmse: 0.4010 - val_rmse_v: 0.4724 - val_rmse_a: 0.3296 - val_cc_v: 0.2200 - val_cc_a: 0.3547 - val_ccc_v: 0.2171 - val_ccc_a: 0.3176\n",
      "Epoch 22/100\n",
      "3099/5847 [==============>...............] - ETA: 1:27 - loss: 0.1440 - rmse: 0.1853 - rmse_v: 0.2003 - rmse_a: 0.1703 - cc_v: 0.8797 - cc_a: 0.8413 - ccc_v: 0.8759 - ccc_a: 0.8362"
     ]
    },
    {
     "name": "stderr",
     "output_type": "stream",
     "text": [
      "IOPub data rate exceeded.\n",
      "The notebook server will temporarily stop sending output\n",
      "to the client in order to avoid crashing it.\n",
      "To change this limit, set the config variable\n",
      "`--NotebookApp.iopub_data_rate_limit`.\n",
      "\n",
      "Current values:\n",
      "NotebookApp.iopub_data_rate_limit=1000000.0 (bytes/sec)\n",
      "NotebookApp.rate_limit_window=3.0 (secs)\n",
      "\n"
     ]
    },
    {
     "name": "stdout",
     "output_type": "stream",
     "text": [
      "5846/5847 [============================>.] - ETA: 0s - loss: 0.1252 - rmse: 0.1724 - rmse_v: 0.1854 - rmse_a: 0.1593 - cc_v: 0.8960 - cc_a: 0.8601 - ccc_v: 0.8934 - ccc_a: 0.8562\n",
      "Epoch 00024: val_loss did not improve from 0.69126\n",
      "5847/5847 [==============================] - 220s 38ms/step - loss: 0.1252 - rmse: 0.1724 - rmse_v: 0.1854 - rmse_a: 0.1593 - cc_v: 0.8960 - cc_a: 0.8601 - ccc_v: 0.8934 - ccc_a: 0.8562 - val_loss: 0.7627 - val_rmse: 0.4168 - val_rmse_v: 0.5070 - val_rmse_a: 0.3267 - val_cc_v: 0.1780 - val_cc_a: 0.3019 - val_ccc_v: 0.1753 - val_ccc_a: 0.2993\n",
      "Epoch 25/100\n",
      "1139/5847 [====>.........................] - ETA: 2:24 - loss: 0.1204 - rmse: 0.1693 - rmse_v: 0.1825 - rmse_a: 0.1561 - cc_v: 0.8996 - cc_a: 0.8658 - ccc_v: 0.8969 - ccc_a: 0.8624"
     ]
    },
    {
     "name": "stderr",
     "output_type": "stream",
     "text": [
      "IOPub data rate exceeded.\n",
      "The notebook server will temporarily stop sending output\n",
      "to the client in order to avoid crashing it.\n",
      "To change this limit, set the config variable\n",
      "`--NotebookApp.iopub_data_rate_limit`.\n",
      "\n",
      "Current values:\n",
      "NotebookApp.iopub_data_rate_limit=1000000.0 (bytes/sec)\n",
      "NotebookApp.rate_limit_window=3.0 (secs)\n",
      "\n"
     ]
    },
    {
     "name": "stdout",
     "output_type": "stream",
     "text": [
      "5846/5847 [============================>.] - ETA: 0s - loss: 0.1144 - rmse: 0.1647 - rmse_v: 0.1769 - rmse_a: 0.1525 - cc_v: 0.9053 - cc_a: 0.8715 - ccc_v: 0.9029 - ccc_a: 0.8682\n",
      "Epoch 00026: val_loss did not improve from 0.69126\n",
      "5847/5847 [==============================] - 216s 37ms/step - loss: 0.1144 - rmse: 0.1647 - rmse_v: 0.1769 - rmse_a: 0.1525 - cc_v: 0.9053 - cc_a: 0.8715 - ccc_v: 0.9029 - ccc_a: 0.8682 - val_loss: 0.7669 - val_rmse: 0.4098 - val_rmse_v: 0.4893 - val_rmse_a: 0.3304 - val_cc_v: 0.1897 - val_cc_a: 0.2839 - val_ccc_v: 0.1855 - val_ccc_a: 0.2808\n",
      "Epoch 27/100\n",
      "3732/5847 [==================>...........] - ETA: 1:03 - loss: 0.1101 - rmse: 0.1615 - rmse_v: 0.1734 - rmse_a: 0.1496 - cc_v: 0.9090 - cc_a: 0.8763 - ccc_v: 0.9068 - ccc_a: 0.8731"
     ]
    },
    {
     "name": "stderr",
     "output_type": "stream",
     "text": [
      "IOPub data rate exceeded.\n",
      "The notebook server will temporarily stop sending output\n",
      "to the client in order to avoid crashing it.\n",
      "To change this limit, set the config variable\n",
      "`--NotebookApp.iopub_data_rate_limit`.\n",
      "\n",
      "Current values:\n",
      "NotebookApp.iopub_data_rate_limit=1000000.0 (bytes/sec)\n",
      "NotebookApp.rate_limit_window=3.0 (secs)\n",
      "\n"
     ]
    },
    {
     "name": "stdout",
     "output_type": "stream",
     "text": [
      "5846/5847 [============================>.] - ETA: 0s - loss: 0.1012 - rmse: 0.1547 - rmse_v: 0.1660 - rmse_a: 0.1435 - cc_v: 0.9165 - cc_a: 0.8860 - ccc_v: 0.9145 - ccc_a: 0.8831\n",
      "Epoch 00029: val_loss did not improve from 0.69126\n",
      "5847/5847 [==============================] - 206s 35ms/step - loss: 0.1012 - rmse: 0.1547 - rmse_v: 0.1659 - rmse_a: 0.1435 - cc_v: 0.9165 - cc_a: 0.8860 - ccc_v: 0.9145 - ccc_a: 0.8831 - val_loss: 0.7671 - val_rmse: 0.4212 - val_rmse_v: 0.5039 - val_rmse_a: 0.3385 - val_cc_v: 0.1901 - val_cc_a: 0.2895 - val_ccc_v: 0.1856 - val_ccc_a: 0.2803\n",
      "Epoch 30/100\n",
      "1721/5847 [=======>......................] - ETA: 2:10 - loss: 0.0985 - rmse: 0.1529 - rmse_v: 0.1637 - rmse_a: 0.1420 - cc_v: 0.9190 - cc_a: 0.8891 - ccc_v: 0.9171 - ccc_a: 0.8860"
     ]
    },
    {
     "name": "stderr",
     "output_type": "stream",
     "text": [
      "IOPub data rate exceeded.\n",
      "The notebook server will temporarily stop sending output\n",
      "to the client in order to avoid crashing it.\n",
      "To change this limit, set the config variable\n",
      "`--NotebookApp.iopub_data_rate_limit`.\n",
      "\n",
      "Current values:\n",
      "NotebookApp.iopub_data_rate_limit=1000000.0 (bytes/sec)\n",
      "NotebookApp.rate_limit_window=3.0 (secs)\n",
      "\n"
     ]
    },
    {
     "name": "stdout",
     "output_type": "stream",
     "text": [
      "5846/5847 [============================>.] - ETA: 0s - loss: 0.1198 - rmse: 0.1663 - rmse_v: 0.1807 - rmse_a: 0.1519 - cc_v: 0.8969 - cc_a: 0.8698 - ccc_v: 0.8942 - ccc_a: 0.8662\n",
      "Epoch 00031: val_loss did not improve from 0.69126\n",
      "5847/5847 [==============================] - 223s 38ms/step - loss: 0.1198 - rmse: 0.1663 - rmse_v: 0.1807 - rmse_a: 0.1519 - cc_v: 0.8969 - cc_a: 0.8698 - ccc_v: 0.8942 - ccc_a: 0.8662 - val_loss: 0.7842 - val_rmse: 0.4137 - val_rmse_v: 0.5099 - val_rmse_a: 0.3175 - val_cc_v: 0.1383 - val_cc_a: 0.2999 - val_ccc_v: 0.1334 - val_ccc_a: 0.2982\n",
      "Epoch 32/100\n",
      "5575/5847 [===========================>..] - ETA: 8s - loss: 0.1015 - rmse: 0.1550 - rmse_v: 0.1668 - rmse_a: 0.1432 - cc_v: 0.9155 - cc_a: 0.8865 - ccc_v: 0.9135 - ccc_a: 0.8836"
     ]
    },
    {
     "name": "stderr",
     "output_type": "stream",
     "text": [
      "IOPub data rate exceeded.\n",
      "The notebook server will temporarily stop sending output\n",
      "to the client in order to avoid crashing it.\n",
      "To change this limit, set the config variable\n",
      "`--NotebookApp.iopub_data_rate_limit`.\n",
      "\n",
      "Current values:\n",
      "NotebookApp.iopub_data_rate_limit=1000000.0 (bytes/sec)\n",
      "NotebookApp.rate_limit_window=3.0 (secs)\n",
      "\n"
     ]
    },
    {
     "name": "stdout",
     "output_type": "stream",
     "text": [
      "5846/5847 [============================>.] - ETA: 0s - loss: 0.0885 - rmse: 0.1446 - rmse_v: 0.1549 - rmse_a: 0.1343 - cc_v: 0.9270 - cc_a: 0.8998 - ccc_v: 0.9255 - ccc_a: 0.8975\n",
      "Epoch 00034: val_loss did not improve from 0.69126\n",
      "5847/5847 [==============================] - 225s 39ms/step - loss: 0.0885 - rmse: 0.1446 - rmse_v: 0.1549 - rmse_a: 0.1343 - cc_v: 0.9270 - cc_a: 0.8998 - ccc_v: 0.9255 - ccc_a: 0.8975 - val_loss: 0.7889 - val_rmse: 0.4047 - val_rmse_v: 0.4860 - val_rmse_a: 0.3233 - val_cc_v: 0.1571 - val_cc_a: 0.2740 - val_ccc_v: 0.1522 - val_ccc_a: 0.2700\n",
      "Epoch 35/100\n",
      "3585/5847 [=================>............] - ETA: 1:14 - loss: 0.0864 - rmse: 0.1429 - rmse_v: 0.1532 - rmse_a: 0.1326 - cc_v: 0.9287 - cc_a: 0.9024 - ccc_v: 0.9271 - ccc_a: 0.9001"
     ]
    },
    {
     "name": "stderr",
     "output_type": "stream",
     "text": [
      "IOPub data rate exceeded.\n",
      "The notebook server will temporarily stop sending output\n",
      "to the client in order to avoid crashing it.\n",
      "To change this limit, set the config variable\n",
      "`--NotebookApp.iopub_data_rate_limit`.\n",
      "\n",
      "Current values:\n",
      "NotebookApp.iopub_data_rate_limit=1000000.0 (bytes/sec)\n",
      "NotebookApp.rate_limit_window=3.0 (secs)\n",
      "\n"
     ]
    },
    {
     "name": "stdout",
     "output_type": "stream",
     "text": [
      "5735/5847 [============================>.] - ETA: 3s - loss: 0.0811 - rmse: 0.1384 - rmse_v: 0.1483 - rmse_a: 0.1285 - cc_v: 0.9330 - cc_a: 0.9082 - ccc_v: 0.9317 - ccc_a: 0.9062"
     ]
    },
    {
     "name": "stderr",
     "output_type": "stream",
     "text": [
      "IOPub data rate exceeded.\n",
      "The notebook server will temporarily stop sending output\n",
      "to the client in order to avoid crashing it.\n",
      "To change this limit, set the config variable\n",
      "`--NotebookApp.iopub_data_rate_limit`.\n",
      "\n",
      "Current values:\n",
      "NotebookApp.iopub_data_rate_limit=1000000.0 (bytes/sec)\n",
      "NotebookApp.rate_limit_window=3.0 (secs)\n",
      "\n"
     ]
    },
    {
     "name": "stdout",
     "output_type": "stream",
     "text": [
      "5847/5847 [==============================] - ETA: 0s - loss: 0.0771 - rmse: 0.1348 - rmse_v: 0.1443 - rmse_a: 0.1254 - cc_v: 0.9364 - cc_a: 0.9125 - ccc_v: 0.9352 - ccc_a: 0.9106\n",
      "Epoch 00039: val_loss did not improve from 0.69126\n",
      "5847/5847 [==============================] - 230s 39ms/step - loss: 0.0771 - rmse: 0.1348 - rmse_v: 0.1443 - rmse_a: 0.1254 - cc_v: 0.9364 - cc_a: 0.9125 - ccc_v: 0.9352 - ccc_a: 0.9106 - val_loss: 0.7977 - val_rmse: 0.4237 - val_rmse_v: 0.5075 - val_rmse_a: 0.3399 - val_cc_v: 0.1505 - val_cc_a: 0.2622 - val_ccc_v: 0.1470 - val_ccc_a: 0.2576\n",
      "Epoch 40/100\n",
      "3503/5847 [================>.............] - ETA: 1:16 - loss: 0.0760 - rmse: 0.1339 - rmse_v: 0.1433 - rmse_a: 0.1244 - cc_v: 0.9374 - cc_a: 0.9139 - ccc_v: 0.9361 - ccc_a: 0.9120"
     ]
    },
    {
     "name": "stderr",
     "output_type": "stream",
     "text": [
      "IOPub data rate exceeded.\n",
      "The notebook server will temporarily stop sending output\n",
      "to the client in order to avoid crashing it.\n",
      "To change this limit, set the config variable\n",
      "`--NotebookApp.iopub_data_rate_limit`.\n",
      "\n",
      "Current values:\n",
      "NotebookApp.iopub_data_rate_limit=1000000.0 (bytes/sec)\n",
      "NotebookApp.rate_limit_window=3.0 (secs)\n",
      "\n"
     ]
    },
    {
     "name": "stdout",
     "output_type": "stream",
     "text": [
      "5847/5847 [==============================] - ETA: 0s - loss: 0.0721 - rmse: 0.1304 - rmse_v: 0.1397 - rmse_a: 0.1212 - cc_v: 0.9405 - cc_a: 0.9181 - ccc_v: 0.9394 - ccc_a: 0.9164\n",
      "Epoch 00042: val_loss did not improve from 0.69126\n",
      "5847/5847 [==============================] - 222s 38ms/step - loss: 0.0721 - rmse: 0.1304 - rmse_v: 0.1397 - rmse_a: 0.1212 - cc_v: 0.9405 - cc_a: 0.9181 - ccc_v: 0.9394 - ccc_a: 0.9164 - val_loss: 0.8030 - val_rmse: 0.4313 - val_rmse_v: 0.5159 - val_rmse_a: 0.3467 - val_cc_v: 0.1570 - val_cc_a: 0.2453 - val_ccc_v: 0.1523 - val_ccc_a: 0.2416\n",
      "Epoch 43/100\n",
      "1428/5847 [======>.......................] - ETA: 2:29 - loss: 0.0706 - rmse: 0.1292 - rmse_v: 0.1385 - rmse_a: 0.1199 - cc_v: 0.9415 - cc_a: 0.9201 - ccc_v: 0.9405 - ccc_a: 0.9183"
     ]
    },
    {
     "name": "stderr",
     "output_type": "stream",
     "text": [
      "IOPub data rate exceeded.\n",
      "The notebook server will temporarily stop sending output\n",
      "to the client in order to avoid crashing it.\n",
      "To change this limit, set the config variable\n",
      "`--NotebookApp.iopub_data_rate_limit`.\n",
      "\n",
      "Current values:\n",
      "NotebookApp.iopub_data_rate_limit=1000000.0 (bytes/sec)\n",
      "NotebookApp.rate_limit_window=3.0 (secs)\n",
      "\n"
     ]
    },
    {
     "name": "stdout",
     "output_type": "stream",
     "text": [
      "5846/5847 [============================>.] - ETA: 0s - loss: 0.0700 - rmse: 0.1285 - rmse_v: 0.1377 - rmse_a: 0.1192 - cc_v: 0.9421 - cc_a: 0.9207 - ccc_v: 0.9410 - ccc_a: 0.9190\n",
      "Epoch 00044: val_loss did not improve from 0.69126\n",
      "5847/5847 [==============================] - 225s 38ms/step - loss: 0.0700 - rmse: 0.1285 - rmse_v: 0.1377 - rmse_a: 0.1192 - cc_v: 0.9421 - cc_a: 0.9207 - ccc_v: 0.9410 - ccc_a: 0.9190 - val_loss: 0.7860 - val_rmse: 0.4243 - val_rmse_v: 0.5056 - val_rmse_a: 0.3430 - val_cc_v: 0.1729 - val_cc_a: 0.2613 - val_ccc_v: 0.1701 - val_ccc_a: 0.2580\n",
      "Epoch 45/100\n",
      "5160/5847 [=========================>....] - ETA: 21s - loss: 0.0678 - rmse: 0.1265 - rmse_v: 0.1355 - rmse_a: 0.1175 - cc_v: 0.9439 - cc_a: 0.9229 - ccc_v: 0.9429 - ccc_a: 0.9214"
     ]
    },
    {
     "name": "stderr",
     "output_type": "stream",
     "text": [
      "IOPub data rate exceeded.\n",
      "The notebook server will temporarily stop sending output\n",
      "to the client in order to avoid crashing it.\n",
      "To change this limit, set the config variable\n",
      "`--NotebookApp.iopub_data_rate_limit`.\n",
      "\n",
      "Current values:\n",
      "NotebookApp.iopub_data_rate_limit=1000000.0 (bytes/sec)\n",
      "NotebookApp.rate_limit_window=3.0 (secs)\n",
      "\n"
     ]
    },
    {
     "name": "stdout",
     "output_type": "stream",
     "text": [
      "5846/5847 [============================>.] - ETA: 0s - loss: 0.0656 - rmse: 0.1244 - rmse_v: 0.1333 - rmse_a: 0.1155 - cc_v: 0.9457 - cc_a: 0.9256 - ccc_v: 0.9448 - ccc_a: 0.9241\n",
      "Epoch 00047: val_loss did not improve from 0.69126\n",
      "5847/5847 [==============================] - 224s 38ms/step - loss: 0.0656 - rmse: 0.1244 - rmse_v: 0.1333 - rmse_a: 0.1155 - cc_v: 0.9457 - cc_a: 0.9256 - ccc_v: 0.9448 - ccc_a: 0.9241 - val_loss: 0.7980 - val_rmse: 0.4281 - val_rmse_v: 0.5092 - val_rmse_a: 0.3470 - val_cc_v: 0.1685 - val_cc_a: 0.2420 - val_ccc_v: 0.1656 - val_ccc_a: 0.2385\n",
      "Epoch 48/100\n",
      "3115/5847 [==============>...............] - ETA: 1:29 - loss: 0.0650 - rmse: 0.1237 - rmse_v: 0.1324 - rmse_a: 0.1150 - cc_v: 0.9465 - cc_a: 0.9261 - ccc_v: 0.9454 - ccc_a: 0.9246"
     ]
    },
    {
     "name": "stderr",
     "output_type": "stream",
     "text": [
      "IOPub data rate exceeded.\n",
      "The notebook server will temporarily stop sending output\n",
      "to the client in order to avoid crashing it.\n",
      "To change this limit, set the config variable\n",
      "`--NotebookApp.iopub_data_rate_limit`.\n",
      "\n",
      "Current values:\n",
      "NotebookApp.iopub_data_rate_limit=1000000.0 (bytes/sec)\n",
      "NotebookApp.rate_limit_window=3.0 (secs)\n",
      "\n"
     ]
    },
    {
     "name": "stdout",
     "output_type": "stream",
     "text": [
      "5847/5847 [==============================] - ETA: 0s - loss: 0.0622 - rmse: 0.1212 - rmse_v: 0.1301 - rmse_a: 0.1124 - cc_v: 0.9483 - cc_a: 0.9294 - ccc_v: 0.9474 - ccc_a: 0.9281\n",
      "Epoch 00050: val_loss did not improve from 0.69126\n",
      "5847/5847 [==============================] - 214s 37ms/step - loss: 0.0622 - rmse: 0.1212 - rmse_v: 0.1301 - rmse_a: 0.1124 - cc_v: 0.9483 - cc_a: 0.9294 - ccc_v: 0.9474 - ccc_a: 0.9281 - val_loss: 0.8099 - val_rmse: 0.4284 - val_rmse_v: 0.5115 - val_rmse_a: 0.3454 - val_cc_v: 0.1457 - val_cc_a: 0.2435 - val_ccc_v: 0.1403 - val_ccc_a: 0.2400\n",
      "Epoch 51/100\n",
      " 977/5847 [====>.........................] - ETA: 2:29 - loss: 0.0624 - rmse: 0.1212 - rmse_v: 0.1302 - rmse_a: 0.1122 - cc_v: 0.9480 - cc_a: 0.9295 - ccc_v: 0.9471 - ccc_a: 0.9281"
     ]
    },
    {
     "name": "stderr",
     "output_type": "stream",
     "text": [
      "IOPub data rate exceeded.\n",
      "The notebook server will temporarily stop sending output\n",
      "to the client in order to avoid crashing it.\n",
      "To change this limit, set the config variable\n",
      "`--NotebookApp.iopub_data_rate_limit`.\n",
      "\n",
      "Current values:\n",
      "NotebookApp.iopub_data_rate_limit=1000000.0 (bytes/sec)\n",
      "NotebookApp.rate_limit_window=3.0 (secs)\n",
      "\n"
     ]
    },
    {
     "name": "stdout",
     "output_type": "stream",
     "text": [
      "5847/5847 [==============================] - ETA: 0s - loss: 0.0613 - rmse: 0.1202 - rmse_v: 0.1290 - rmse_a: 0.1115 - cc_v: 0.9491 - cc_a: 0.9305 - ccc_v: 0.9482 - ccc_a: 0.9291\n",
      "Epoch 00052: val_loss did not improve from 0.69126\n",
      "5847/5847 [==============================] - 212s 36ms/step - loss: 0.0613 - rmse: 0.1202 - rmse_v: 0.1290 - rmse_a: 0.1115 - cc_v: 0.9491 - cc_a: 0.9305 - ccc_v: 0.9482 - ccc_a: 0.9291 - val_loss: 0.8034 - val_rmse: 0.4271 - val_rmse_v: 0.5104 - val_rmse_a: 0.3439 - val_cc_v: 0.1607 - val_cc_a: 0.2401 - val_ccc_v: 0.1556 - val_ccc_a: 0.2376\n",
      "Epoch 53/100\n",
      "2831/5847 [=============>................] - ETA: 1:35 - loss: 0.0599 - rmse: 0.1189 - rmse_v: 0.1274 - rmse_a: 0.1103 - cc_v: 0.9503 - cc_a: 0.9321 - ccc_v: 0.9495 - ccc_a: 0.9308"
     ]
    },
    {
     "name": "stderr",
     "output_type": "stream",
     "text": [
      "IOPub data rate exceeded.\n",
      "The notebook server will temporarily stop sending output\n",
      "to the client in order to avoid crashing it.\n",
      "To change this limit, set the config variable\n",
      "`--NotebookApp.iopub_data_rate_limit`.\n",
      "\n",
      "Current values:\n",
      "NotebookApp.iopub_data_rate_limit=1000000.0 (bytes/sec)\n",
      "NotebookApp.rate_limit_window=3.0 (secs)\n",
      "\n"
     ]
    },
    {
     "name": "stdout",
     "output_type": "stream",
     "text": [
      "5846/5847 [============================>.] - ETA: 0s - loss: 0.0580 - rmse: 0.1171 - rmse_v: 0.1257 - rmse_a: 0.1084 - cc_v: 0.9517 - cc_a: 0.9343 - ccc_v: 0.9509 - ccc_a: 0.9331\n",
      "Epoch 00055: val_loss did not improve from 0.69126\n",
      "5847/5847 [==============================] - 218s 37ms/step - loss: 0.0580 - rmse: 0.1171 - rmse_v: 0.1257 - rmse_a: 0.1084 - cc_v: 0.9517 - cc_a: 0.9343 - ccc_v: 0.9509 - ccc_a: 0.9331 - val_loss: 0.8079 - val_rmse: 0.4313 - val_rmse_v: 0.5145 - val_rmse_a: 0.3481 - val_cc_v: 0.1574 - val_cc_a: 0.2367 - val_ccc_v: 0.1512 - val_ccc_a: 0.2329\n",
      "Epoch 56/100\n",
      " 690/5847 [==>...........................] - ETA: 2:43 - loss: 0.0678 - rmse: 0.1251 - rmse_v: 0.1354 - rmse_a: 0.1148 - cc_v: 0.9427 - cc_a: 0.9247 - ccc_v: 0.9414 - ccc_a: 0.9231"
     ]
    },
    {
     "name": "stderr",
     "output_type": "stream",
     "text": [
      "IOPub data rate exceeded.\n",
      "The notebook server will temporarily stop sending output\n",
      "to the client in order to avoid crashing it.\n",
      "To change this limit, set the config variable\n",
      "`--NotebookApp.iopub_data_rate_limit`.\n",
      "\n",
      "Current values:\n",
      "NotebookApp.iopub_data_rate_limit=1000000.0 (bytes/sec)\n",
      "NotebookApp.rate_limit_window=3.0 (secs)\n",
      "\n"
     ]
    },
    {
     "name": "stdout",
     "output_type": "stream",
     "text": [
      "5846/5847 [============================>.] - ETA: 0s - loss: 0.0580 - rmse: 0.1169 - rmse_v: 0.1258 - rmse_a: 0.1080 - cc_v: 0.9514 - cc_a: 0.9345 - ccc_v: 0.9506 - ccc_a: 0.9333\n",
      "Epoch 00057: val_loss did not improve from 0.69126\n",
      "5847/5847 [==============================] - 215s 37ms/step - loss: 0.0580 - rmse: 0.1169 - rmse_v: 0.1258 - rmse_a: 0.1080 - cc_v: 0.9514 - cc_a: 0.9345 - ccc_v: 0.9506 - ccc_a: 0.9333 - val_loss: 0.8047 - val_rmse: 0.4243 - val_rmse_v: 0.5056 - val_rmse_a: 0.3430 - val_cc_v: 0.1611 - val_cc_a: 0.2364 - val_ccc_v: 0.1569 - val_ccc_a: 0.2336\n",
      "Epoch 58/100\n",
      "4293/5847 [=====================>........] - ETA: 48s - loss: 0.0564 - rmse: 0.1153 - rmse_v: 0.1240 - rmse_a: 0.1067 - cc_v: 0.9529 - cc_a: 0.9363 - ccc_v: 0.9522 - ccc_a: 0.9351"
     ]
    },
    {
     "name": "stderr",
     "output_type": "stream",
     "text": [
      "IOPub data rate exceeded.\n",
      "The notebook server will temporarily stop sending output\n",
      "to the client in order to avoid crashing it.\n",
      "To change this limit, set the config variable\n",
      "`--NotebookApp.iopub_data_rate_limit`.\n",
      "\n",
      "Current values:\n",
      "NotebookApp.iopub_data_rate_limit=1000000.0 (bytes/sec)\n",
      "NotebookApp.rate_limit_window=3.0 (secs)\n",
      "\n"
     ]
    },
    {
     "name": "stdout",
     "output_type": "stream",
     "text": [
      "5847/5847 [==============================] - ETA: 0s - loss: 0.0590 - rmse: 0.1170 - rmse_v: 0.1261 - rmse_a: 0.1079 - cc_v: 0.9502 - cc_a: 0.9338 - ccc_v: 0.9494 - ccc_a: 0.9326\n",
      "Epoch 00060: val_loss did not improve from 0.69126\n",
      "5847/5847 [==============================] - 210s 36ms/step - loss: 0.0590 - rmse: 0.1170 - rmse_v: 0.1261 - rmse_a: 0.1079 - cc_v: 0.9502 - cc_a: 0.9338 - ccc_v: 0.9494 - ccc_a: 0.9326 - val_loss: 0.8019 - val_rmse: 0.4244 - val_rmse_v: 0.5010 - val_rmse_a: 0.3477 - val_cc_v: 0.1641 - val_cc_a: 0.2424 - val_ccc_v: 0.1599 - val_ccc_a: 0.2363\n",
      "Epoch 61/100\n",
      "2112/5847 [=========>....................] - ETA: 1:55 - loss: 0.0553 - rmse: 0.1143 - rmse_v: 0.1230 - rmse_a: 0.1056 - cc_v: 0.9536 - cc_a: 0.9377 - ccc_v: 0.9528 - ccc_a: 0.9366"
     ]
    },
    {
     "name": "stderr",
     "output_type": "stream",
     "text": [
      "IOPub data rate exceeded.\n",
      "The notebook server will temporarily stop sending output\n",
      "to the client in order to avoid crashing it.\n",
      "To change this limit, set the config variable\n",
      "`--NotebookApp.iopub_data_rate_limit`.\n",
      "\n",
      "Current values:\n",
      "NotebookApp.iopub_data_rate_limit=1000000.0 (bytes/sec)\n",
      "NotebookApp.rate_limit_window=3.0 (secs)\n",
      "\n"
     ]
    },
    {
     "name": "stdout",
     "output_type": "stream",
     "text": [
      "5847/5847 [==============================] - ETA: 0s - loss: 0.0531 - rmse: 0.1120 - rmse_v: 0.1206 - rmse_a: 0.1034 - cc_v: 0.9554 - cc_a: 0.9401 - ccc_v: 0.9548 - ccc_a: 0.9391\n",
      "Epoch 00063: val_loss did not improve from 0.69126\n",
      "5847/5847 [==============================] - 216s 37ms/step - loss: 0.0531 - rmse: 0.1120 - rmse_v: 0.1206 - rmse_a: 0.1034 - cc_v: 0.9554 - cc_a: 0.9401 - ccc_v: 0.9548 - ccc_a: 0.9391 - val_loss: 0.8087 - val_rmse: 0.4289 - val_rmse_v: 0.5116 - val_rmse_a: 0.3462 - val_cc_v: 0.1556 - val_cc_a: 0.2352 - val_ccc_v: 0.1510 - val_ccc_a: 0.2316\n",
      "Epoch 64/100\n",
      "   1/5847 [..............................] - ETA: 0s - loss: 0.0513 - rmse: 0.1079 - rmse_v: 0.1088 - rmse_a: 0.1071 - cc_v: 0.9593 - cc_a: 0.9389 - ccc_v: 0.9590 - ccc_a: 0.9385"
     ]
    },
    {
     "name": "stderr",
     "output_type": "stream",
     "text": [
      "IOPub data rate exceeded.\n",
      "The notebook server will temporarily stop sending output\n",
      "to the client in order to avoid crashing it.\n",
      "To change this limit, set the config variable\n",
      "`--NotebookApp.iopub_data_rate_limit`.\n",
      "\n",
      "Current values:\n",
      "NotebookApp.iopub_data_rate_limit=1000000.0 (bytes/sec)\n",
      "NotebookApp.rate_limit_window=3.0 (secs)\n",
      "\n"
     ]
    },
    {
     "name": "stdout",
     "output_type": "stream",
     "text": [
      "5847/5847 [==============================] - ETA: 0s - loss: 0.0521 - rmse: 0.1109 - rmse_v: 0.1194 - rmse_a: 0.1025 - cc_v: 0.9563 - cc_a: 0.9412 - ccc_v: 0.9557 - ccc_a: 0.9401\n",
      "Epoch 00065: val_loss did not improve from 0.69126\n",
      "5847/5847 [==============================] - 212s 36ms/step - loss: 0.0521 - rmse: 0.1109 - rmse_v: 0.1194 - rmse_a: 0.1025 - cc_v: 0.9563 - cc_a: 0.9412 - ccc_v: 0.9557 - ccc_a: 0.9401 - val_loss: 0.8072 - val_rmse: 0.4283 - val_rmse_v: 0.5095 - val_rmse_a: 0.3471 - val_cc_v: 0.1587 - val_cc_a: 0.2342 - val_ccc_v: 0.1545 - val_ccc_a: 0.2311\n",
      "Epoch 66/100\n",
      "3784/5847 [==================>...........] - ETA: 1:04 - loss: 0.0517 - rmse: 0.1105 - rmse_v: 0.1190 - rmse_a: 0.1019 - cc_v: 0.9565 - cc_a: 0.9416 - ccc_v: 0.9559 - ccc_a: 0.9407"
     ]
    },
    {
     "name": "stderr",
     "output_type": "stream",
     "text": [
      "IOPub data rate exceeded.\n",
      "The notebook server will temporarily stop sending output\n",
      "to the client in order to avoid crashing it.\n",
      "To change this limit, set the config variable\n",
      "`--NotebookApp.iopub_data_rate_limit`.\n",
      "\n",
      "Current values:\n",
      "NotebookApp.iopub_data_rate_limit=1000000.0 (bytes/sec)\n",
      "NotebookApp.rate_limit_window=3.0 (secs)\n",
      "\n"
     ]
    },
    {
     "name": "stdout",
     "output_type": "stream",
     "text": [
      "5847/5847 [==============================] - ETA: 0s - loss: 0.0509 - rmse: 0.1097 - rmse_v: 0.1182 - rmse_a: 0.1011 - cc_v: 0.9572 - cc_a: 0.9426 - ccc_v: 0.9566 - ccc_a: 0.9417\n",
      "Epoch 00067: val_loss did not improve from 0.69126\n",
      "5847/5847 [==============================] - 210s 36ms/step - loss: 0.0509 - rmse: 0.1097 - rmse_v: 0.1182 - rmse_a: 0.1011 - cc_v: 0.9572 - cc_a: 0.9426 - ccc_v: 0.9566 - ccc_a: 0.9417 - val_loss: 0.8099 - val_rmse: 0.4310 - val_rmse_v: 0.5140 - val_rmse_a: 0.3480 - val_cc_v: 0.1530 - val_cc_a: 0.2343 - val_ccc_v: 0.1487 - val_ccc_a: 0.2314\n",
      "Epoch 68/100\n",
      "5846/5847 [============================>.] - ETA: 0s - loss: 0.0513 - rmse: 0.1101 - rmse_v: 0.1187 - rmse_a: 0.1015 - cc_v: 0.9568 - cc_a: 0.9421 - ccc_v: 0.9561 - ccc_a: 0.9412\n",
      "Epoch 00068: val_loss did not improve from 0.69126\n",
      "5847/5847 [==============================] - 207s 35ms/step - loss: 0.0513 - rmse: 0.1101 - rmse_v: 0.1187 - rmse_a: 0.1015 - cc_v: 0.9568 - cc_a: 0.9421 - ccc_v: 0.9561 - ccc_a: 0.9412 - val_loss: 0.8122 - val_rmse: 0.4311 - val_rmse_v: 0.5123 - val_rmse_a: 0.3499 - val_cc_v: 0.1521 - val_cc_a: 0.2320 - val_ccc_v: 0.1474 - val_ccc_a: 0.2282\n",
      "Epoch 69/100\n",
      "5846/5847 [============================>.] - ETA: 0s - loss: 0.0587 - rmse: 0.1165 - rmse_v: 0.1266 - rmse_a: 0.1065 - cc_v: 0.9495 - cc_a: 0.9351 - ccc_v: 0.9486 - ccc_a: 0.9340\n",
      "Epoch 00069: val_loss did not improve from 0.69126\n",
      "5847/5847 [==============================] - 209s 36ms/step - loss: 0.0587 - rmse: 0.1165 - rmse_v: 0.1266 - rmse_a: 0.1065 - cc_v: 0.9495 - cc_a: 0.9351 - ccc_v: 0.9486 - ccc_a: 0.9340 - val_loss: 0.8024 - val_rmse: 0.4292 - val_rmse_v: 0.5107 - val_rmse_a: 0.3477 - val_cc_v: 0.1675 - val_cc_a: 0.2358 - val_ccc_v: 0.1625 - val_ccc_a: 0.2328\n",
      "Epoch 70/100\n",
      "5846/5847 [============================>.] - ETA: 0s - loss: 0.0496 - rmse: 0.1083 - rmse_v: 0.1168 - rmse_a: 0.0998 - cc_v: 0.9582 - cc_a: 0.9440 - ccc_v: 0.9576 - ccc_a: 0.9432\n",
      "Epoch 00070: val_loss did not improve from 0.69126\n",
      "5847/5847 [==============================] - 210s 36ms/step - loss: 0.0496 - rmse: 0.1083 - rmse_v: 0.1168 - rmse_a: 0.0998 - cc_v: 0.9582 - cc_a: 0.9441 - ccc_v: 0.9576 - ccc_a: 0.9432 - val_loss: 0.8085 - val_rmse: 0.4314 - val_rmse_v: 0.5130 - val_rmse_a: 0.3498 - val_cc_v: 0.1562 - val_cc_a: 0.2331 - val_ccc_v: 0.1530 - val_ccc_a: 0.2299\n",
      "Epoch 71/100\n",
      "5847/5847 [==============================] - ETA: 0s - loss: 0.0519 - rmse: 0.1103 - rmse_v: 0.1191 - rmse_a: 0.1016 - cc_v: 0.9561 - cc_a: 0.9418 - ccc_v: 0.9554 - ccc_a: 0.9407\n",
      "Epoch 00071: val_loss did not improve from 0.69126\n",
      "5847/5847 [==============================] - 212s 36ms/step - loss: 0.0519 - rmse: 0.1103 - rmse_v: 0.1191 - rmse_a: 0.1016 - cc_v: 0.9561 - cc_a: 0.9418 - ccc_v: 0.9554 - ccc_a: 0.9407 - val_loss: 0.8122 - val_rmse: 0.4328 - val_rmse_v: 0.5139 - val_rmse_a: 0.3517 - val_cc_v: 0.1512 - val_cc_a: 0.2352 - val_ccc_v: 0.1454 - val_ccc_a: 0.2302\n",
      "Epoch 72/100\n",
      "5846/5847 [============================>.] - ETA: 0s - loss: 0.0491 - rmse: 0.1077 - rmse_v: 0.1162 - rmse_a: 0.0992 - cc_v: 0.9586 - cc_a: 0.9447 - ccc_v: 0.9580 - ccc_a: 0.9438\n",
      "Epoch 00072: val_loss did not improve from 0.69126\n",
      "5847/5847 [==============================] - 209s 36ms/step - loss: 0.0491 - rmse: 0.1077 - rmse_v: 0.1162 - rmse_a: 0.0992 - cc_v: 0.9586 - cc_a: 0.9447 - ccc_v: 0.9580 - ccc_a: 0.9438 - val_loss: 0.8071 - val_rmse: 0.4287 - val_rmse_v: 0.5084 - val_rmse_a: 0.3490 - val_cc_v: 0.1600 - val_cc_a: 0.2356 - val_ccc_v: 0.1549 - val_ccc_a: 0.2308\n",
      "Epoch 73/100\n",
      "5846/5847 [============================>.] - ETA: 0s - loss: 0.0484 - rmse: 0.1071 - rmse_v: 0.1155 - rmse_a: 0.0986 - cc_v: 0.9591 - cc_a: 0.9455 - ccc_v: 0.9585 - ccc_a: 0.9446\n",
      "Epoch 00073: val_loss did not improve from 0.69126\n",
      "5847/5847 [==============================] - 207s 35ms/step - loss: 0.0484 - rmse: 0.1071 - rmse_v: 0.1155 - rmse_a: 0.0986 - cc_v: 0.9591 - cc_a: 0.9455 - ccc_v: 0.9585 - ccc_a: 0.9446 - val_loss: 0.8092 - val_rmse: 0.4328 - val_rmse_v: 0.5157 - val_rmse_a: 0.3499 - val_cc_v: 0.1502 - val_cc_a: 0.2394 - val_ccc_v: 0.1461 - val_ccc_a: 0.2355\n",
      "Epoch 74/100\n",
      "5846/5847 [============================>.] - ETA: 0s - loss: 0.0481 - rmse: 0.1067 - rmse_v: 0.1151 - rmse_a: 0.0982 - cc_v: 0.9594 - cc_a: 0.9458 - ccc_v: 0.9588 - ccc_a: 0.9450\n",
      "Epoch 00074: val_loss did not improve from 0.69126\n",
      "5847/5847 [==============================] - 212s 36ms/step - loss: 0.0481 - rmse: 0.1067 - rmse_v: 0.1151 - rmse_a: 0.0982 - cc_v: 0.9594 - cc_a: 0.9458 - ccc_v: 0.9588 - ccc_a: 0.9450 - val_loss: 0.8149 - val_rmse: 0.4312 - val_rmse_v: 0.5148 - val_rmse_a: 0.3476 - val_cc_v: 0.1429 - val_cc_a: 0.2349 - val_ccc_v: 0.1383 - val_ccc_a: 0.2319\n",
      "Epoch 75/100\n",
      "5846/5847 [============================>.] - ETA: 0s - loss: 0.0501 - rmse: 0.1082 - rmse_v: 0.1169 - rmse_a: 0.0995 - cc_v: 0.9576 - cc_a: 0.9439 - ccc_v: 0.9569 - ccc_a: 0.9429\n",
      "Epoch 00075: val_loss did not improve from 0.69126\n",
      "5847/5847 [==============================] - 207s 35ms/step - loss: 0.0501 - rmse: 0.1082 - rmse_v: 0.1169 - rmse_a: 0.0995 - cc_v: 0.9576 - cc_a: 0.9439 - ccc_v: 0.9569 - ccc_a: 0.9429 - val_loss: 0.8109 - val_rmse: 0.4305 - val_rmse_v: 0.5094 - val_rmse_a: 0.3516 - val_cc_v: 0.1498 - val_cc_a: 0.2374 - val_ccc_v: 0.1455 - val_ccc_a: 0.2328\n",
      "Epoch 76/100\n",
      "5846/5847 [============================>.] - ETA: 0s - loss: 0.0474 - rmse: 0.1059 - rmse_v: 0.1143 - rmse_a: 0.0975 - cc_v: 0.9599 - cc_a: 0.9467 - ccc_v: 0.9594 - ccc_a: 0.9458\n",
      "Epoch 00076: val_loss did not improve from 0.69126\n",
      "5847/5847 [==============================] - 208s 36ms/step - loss: 0.0474 - rmse: 0.1059 - rmse_v: 0.1143 - rmse_a: 0.0975 - cc_v: 0.9599 - cc_a: 0.9467 - ccc_v: 0.9594 - ccc_a: 0.9458 - val_loss: 0.8089 - val_rmse: 0.4320 - val_rmse_v: 0.5144 - val_rmse_a: 0.3495 - val_cc_v: 0.1552 - val_cc_a: 0.2354 - val_ccc_v: 0.1502 - val_ccc_a: 0.2320\n",
      "Epoch 77/100\n",
      "5847/5847 [==============================] - ETA: 0s - loss: 0.0479 - rmse: 0.1064 - rmse_v: 0.1149 - rmse_a: 0.0979 - cc_v: 0.9595 - cc_a: 0.9462 - ccc_v: 0.9589 - ccc_a: 0.9453\n",
      "Epoch 00077: val_loss did not improve from 0.69126\n",
      "5847/5847 [==============================] - 208s 36ms/step - loss: 0.0479 - rmse: 0.1064 - rmse_v: 0.1149 - rmse_a: 0.0979 - cc_v: 0.9595 - cc_a: 0.9462 - ccc_v: 0.9589 - ccc_a: 0.9453 - val_loss: 0.8082 - val_rmse: 0.4279 - val_rmse_v: 0.5097 - val_rmse_a: 0.3461 - val_cc_v: 0.1587 - val_cc_a: 0.2325 - val_ccc_v: 0.1539 - val_ccc_a: 0.2297\n",
      "Epoch 78/100\n",
      "5847/5847 [==============================] - ETA: 0s - loss: 0.0467 - rmse: 0.1051 - rmse_v: 0.1135 - rmse_a: 0.0967 - cc_v: 0.9605 - cc_a: 0.9474 - ccc_v: 0.9600 - ccc_a: 0.9466\n",
      "Epoch 00078: val_loss did not improve from 0.69126\n",
      "5847/5847 [==============================] - 207s 35ms/step - loss: 0.0467 - rmse: 0.1051 - rmse_v: 0.1135 - rmse_a: 0.0967 - cc_v: 0.9605 - cc_a: 0.9474 - ccc_v: 0.9600 - ccc_a: 0.9466 - val_loss: 0.8097 - val_rmse: 0.4358 - val_rmse_v: 0.5180 - val_rmse_a: 0.3536 - val_cc_v: 0.1542 - val_cc_a: 0.2345 - val_ccc_v: 0.1496 - val_ccc_a: 0.2309\n",
      "Epoch 79/100\n",
      "5847/5847 [==============================] - ETA: 0s - loss: 0.0464 - rmse: 0.1047 - rmse_v: 0.1131 - rmse_a: 0.0963 - cc_v: 0.9607 - cc_a: 0.9479 - ccc_v: 0.9602 - ccc_a: 0.9471"
     ]
    },
    {
     "ename": "KeyboardInterrupt",
     "evalue": "",
     "output_type": "error",
     "traceback": [
      "\u001b[0;31m---------------------------------------------------------------------------\u001b[0m",
      "\u001b[0;31mKeyboardInterrupt\u001b[0m                         Traceback (most recent call last)",
      "\u001b[0;32m~/EmotionRecognition/src/train_rnn.py\u001b[0m in \u001b[0;36m<module>\u001b[0;34m\u001b[0m\n\u001b[1;32m     66\u001b[0m \u001b[0;34m\u001b[0m\u001b[0m\n\u001b[1;32m     67\u001b[0m \u001b[0;32mif\u001b[0m \u001b[0m__name__\u001b[0m \u001b[0;34m==\u001b[0m \u001b[0;34m'__main__'\u001b[0m\u001b[0;34m:\u001b[0m\u001b[0;34m\u001b[0m\u001b[0;34m\u001b[0m\u001b[0m\n\u001b[0;32m---> 68\u001b[0;31m     \u001b[0mmain\u001b[0m\u001b[0;34m(\u001b[0m\u001b[0;34m)\u001b[0m\u001b[0;34m\u001b[0m\u001b[0;34m\u001b[0m\u001b[0m\n\u001b[0m",
      "\u001b[0;32m~/EmotionRecognition/src/train_rnn.py\u001b[0m in \u001b[0;36mmain\u001b[0;34m()\u001b[0m\n\u001b[1;32m     62\u001b[0m \u001b[0;34m\u001b[0m\u001b[0m\n\u001b[1;32m     63\u001b[0m     \u001b[0mgenerators\u001b[0m \u001b[0;34m=\u001b[0m \u001b[0mget_generators\u001b[0m\u001b[0;34m(\u001b[0m\u001b[0;34m)\u001b[0m\u001b[0;34m\u001b[0m\u001b[0;34m\u001b[0m\u001b[0m\n\u001b[0;32m---> 64\u001b[0;31m     \u001b[0mtrain_model\u001b[0m\u001b[0;34m(\u001b[0m\u001b[0mresearch_model\u001b[0m\u001b[0;34m,\u001b[0m \u001b[0;36m100\u001b[0m\u001b[0;34m,\u001b[0m \u001b[0mgenerators\u001b[0m\u001b[0;34m,\u001b[0m \u001b[0;34m[\u001b[0m\u001b[0mcheckpointer\u001b[0m\u001b[0;34m,\u001b[0m \u001b[0mtensorboard_callback\u001b[0m\u001b[0;34m]\u001b[0m\u001b[0;34m)\u001b[0m\u001b[0;34m\u001b[0m\u001b[0;34m\u001b[0m\u001b[0m\n\u001b[0m\u001b[1;32m     65\u001b[0m \u001b[0;34m\u001b[0m\u001b[0m\n\u001b[1;32m     66\u001b[0m \u001b[0;34m\u001b[0m\u001b[0m\n",
      "\u001b[0;32m~/EmotionRecognition/src/train_rnn.py\u001b[0m in \u001b[0;36mtrain_model\u001b[0;34m(research_model, nb_epoch, generators, callbacks)\u001b[0m\n\u001b[1;32m     36\u001b[0m         \u001b[0mvalidation_data\u001b[0m\u001b[0;34m=\u001b[0m\u001b[0mvalidation_generator\u001b[0m\u001b[0;34m,\u001b[0m\u001b[0;34m\u001b[0m\u001b[0;34m\u001b[0m\u001b[0m\n\u001b[1;32m     37\u001b[0m         \u001b[0mepochs\u001b[0m\u001b[0;34m=\u001b[0m\u001b[0mnb_epoch\u001b[0m\u001b[0;34m,\u001b[0m\u001b[0;34m\u001b[0m\u001b[0;34m\u001b[0m\u001b[0m\n\u001b[0;32m---> 38\u001b[0;31m         callbacks=callbacks)\n\u001b[0m\u001b[1;32m     39\u001b[0m \u001b[0;34m\u001b[0m\u001b[0m\n\u001b[1;32m     40\u001b[0m \u001b[0;34m\u001b[0m\u001b[0m\n",
      "\u001b[0;32m~/anaconda3/envs/py37/lib/python3.7/site-packages/tensorflow/python/util/deprecation.py\u001b[0m in \u001b[0;36mnew_func\u001b[0;34m(*args, **kwargs)\u001b[0m\n\u001b[1;32m    322\u001b[0m               \u001b[0;34m'in a future version'\u001b[0m \u001b[0;32mif\u001b[0m \u001b[0mdate\u001b[0m \u001b[0;32mis\u001b[0m \u001b[0;32mNone\u001b[0m \u001b[0;32melse\u001b[0m \u001b[0;34m(\u001b[0m\u001b[0;34m'after %s'\u001b[0m \u001b[0;34m%\u001b[0m \u001b[0mdate\u001b[0m\u001b[0;34m)\u001b[0m\u001b[0;34m,\u001b[0m\u001b[0;34m\u001b[0m\u001b[0;34m\u001b[0m\u001b[0m\n\u001b[1;32m    323\u001b[0m               instructions)\n\u001b[0;32m--> 324\u001b[0;31m       \u001b[0;32mreturn\u001b[0m \u001b[0mfunc\u001b[0m\u001b[0;34m(\u001b[0m\u001b[0;34m*\u001b[0m\u001b[0margs\u001b[0m\u001b[0;34m,\u001b[0m \u001b[0;34m**\u001b[0m\u001b[0mkwargs\u001b[0m\u001b[0;34m)\u001b[0m\u001b[0;34m\u001b[0m\u001b[0;34m\u001b[0m\u001b[0m\n\u001b[0m\u001b[1;32m    325\u001b[0m     return tf_decorator.make_decorator(\n\u001b[1;32m    326\u001b[0m         \u001b[0mfunc\u001b[0m\u001b[0;34m,\u001b[0m \u001b[0mnew_func\u001b[0m\u001b[0;34m,\u001b[0m \u001b[0;34m'deprecated'\u001b[0m\u001b[0;34m,\u001b[0m\u001b[0;34m\u001b[0m\u001b[0;34m\u001b[0m\u001b[0m\n",
      "\u001b[0;32m~/anaconda3/envs/py37/lib/python3.7/site-packages/tensorflow/python/keras/engine/training.py\u001b[0m in \u001b[0;36mfit_generator\u001b[0;34m(self, generator, steps_per_epoch, epochs, verbose, callbacks, validation_data, validation_steps, validation_freq, class_weight, max_queue_size, workers, use_multiprocessing, shuffle, initial_epoch)\u001b[0m\n\u001b[1;32m   1477\u001b[0m         \u001b[0muse_multiprocessing\u001b[0m\u001b[0;34m=\u001b[0m\u001b[0muse_multiprocessing\u001b[0m\u001b[0;34m,\u001b[0m\u001b[0;34m\u001b[0m\u001b[0;34m\u001b[0m\u001b[0m\n\u001b[1;32m   1478\u001b[0m         \u001b[0mshuffle\u001b[0m\u001b[0;34m=\u001b[0m\u001b[0mshuffle\u001b[0m\u001b[0;34m,\u001b[0m\u001b[0;34m\u001b[0m\u001b[0;34m\u001b[0m\u001b[0m\n\u001b[0;32m-> 1479\u001b[0;31m         initial_epoch=initial_epoch)\n\u001b[0m\u001b[1;32m   1480\u001b[0m \u001b[0;34m\u001b[0m\u001b[0m\n\u001b[1;32m   1481\u001b[0m   @deprecation.deprecated(\n",
      "\u001b[0;32m~/anaconda3/envs/py37/lib/python3.7/site-packages/tensorflow/python/keras/engine/training.py\u001b[0m in \u001b[0;36m_method_wrapper\u001b[0;34m(self, *args, **kwargs)\u001b[0m\n\u001b[1;32m     64\u001b[0m   \u001b[0;32mdef\u001b[0m \u001b[0m_method_wrapper\u001b[0m\u001b[0;34m(\u001b[0m\u001b[0mself\u001b[0m\u001b[0;34m,\u001b[0m \u001b[0;34m*\u001b[0m\u001b[0margs\u001b[0m\u001b[0;34m,\u001b[0m \u001b[0;34m**\u001b[0m\u001b[0mkwargs\u001b[0m\u001b[0;34m)\u001b[0m\u001b[0;34m:\u001b[0m\u001b[0;34m\u001b[0m\u001b[0;34m\u001b[0m\u001b[0m\n\u001b[1;32m     65\u001b[0m     \u001b[0;32mif\u001b[0m \u001b[0;32mnot\u001b[0m \u001b[0mself\u001b[0m\u001b[0;34m.\u001b[0m\u001b[0m_in_multi_worker_mode\u001b[0m\u001b[0;34m(\u001b[0m\u001b[0;34m)\u001b[0m\u001b[0;34m:\u001b[0m  \u001b[0;31m# pylint: disable=protected-access\u001b[0m\u001b[0;34m\u001b[0m\u001b[0;34m\u001b[0m\u001b[0m\n\u001b[0;32m---> 66\u001b[0;31m       \u001b[0;32mreturn\u001b[0m \u001b[0mmethod\u001b[0m\u001b[0;34m(\u001b[0m\u001b[0mself\u001b[0m\u001b[0;34m,\u001b[0m \u001b[0;34m*\u001b[0m\u001b[0margs\u001b[0m\u001b[0;34m,\u001b[0m \u001b[0;34m**\u001b[0m\u001b[0mkwargs\u001b[0m\u001b[0;34m)\u001b[0m\u001b[0;34m\u001b[0m\u001b[0;34m\u001b[0m\u001b[0m\n\u001b[0m\u001b[1;32m     67\u001b[0m \u001b[0;34m\u001b[0m\u001b[0m\n\u001b[1;32m     68\u001b[0m     \u001b[0;31m# Running inside `run_distribute_coordinator` already.\u001b[0m\u001b[0;34m\u001b[0m\u001b[0;34m\u001b[0m\u001b[0;34m\u001b[0m\u001b[0m\n",
      "\u001b[0;32m~/anaconda3/envs/py37/lib/python3.7/site-packages/tensorflow/python/keras/engine/training.py\u001b[0m in \u001b[0;36mfit\u001b[0;34m(self, x, y, batch_size, epochs, verbose, callbacks, validation_split, validation_data, shuffle, class_weight, sample_weight, initial_epoch, steps_per_epoch, validation_steps, validation_batch_size, validation_freq, max_queue_size, workers, use_multiprocessing)\u001b[0m\n\u001b[1;32m    870\u001b[0m               \u001b[0mworkers\u001b[0m\u001b[0;34m=\u001b[0m\u001b[0mworkers\u001b[0m\u001b[0;34m,\u001b[0m\u001b[0;34m\u001b[0m\u001b[0;34m\u001b[0m\u001b[0m\n\u001b[1;32m    871\u001b[0m               \u001b[0muse_multiprocessing\u001b[0m\u001b[0;34m=\u001b[0m\u001b[0muse_multiprocessing\u001b[0m\u001b[0;34m,\u001b[0m\u001b[0;34m\u001b[0m\u001b[0;34m\u001b[0m\u001b[0m\n\u001b[0;32m--> 872\u001b[0;31m               return_dict=True)\n\u001b[0m\u001b[1;32m    873\u001b[0m           \u001b[0mval_logs\u001b[0m \u001b[0;34m=\u001b[0m \u001b[0;34m{\u001b[0m\u001b[0;34m'val_'\u001b[0m \u001b[0;34m+\u001b[0m \u001b[0mname\u001b[0m\u001b[0;34m:\u001b[0m \u001b[0mval\u001b[0m \u001b[0;32mfor\u001b[0m \u001b[0mname\u001b[0m\u001b[0;34m,\u001b[0m \u001b[0mval\u001b[0m \u001b[0;32min\u001b[0m \u001b[0mval_logs\u001b[0m\u001b[0;34m.\u001b[0m\u001b[0mitems\u001b[0m\u001b[0;34m(\u001b[0m\u001b[0;34m)\u001b[0m\u001b[0;34m}\u001b[0m\u001b[0;34m\u001b[0m\u001b[0;34m\u001b[0m\u001b[0m\n\u001b[1;32m    874\u001b[0m           \u001b[0mepoch_logs\u001b[0m\u001b[0;34m.\u001b[0m\u001b[0mupdate\u001b[0m\u001b[0;34m(\u001b[0m\u001b[0mval_logs\u001b[0m\u001b[0;34m)\u001b[0m\u001b[0;34m\u001b[0m\u001b[0;34m\u001b[0m\u001b[0m\n",
      "\u001b[0;32m~/anaconda3/envs/py37/lib/python3.7/site-packages/tensorflow/python/keras/engine/training.py\u001b[0m in \u001b[0;36m_method_wrapper\u001b[0;34m(self, *args, **kwargs)\u001b[0m\n\u001b[1;32m     64\u001b[0m   \u001b[0;32mdef\u001b[0m \u001b[0m_method_wrapper\u001b[0m\u001b[0;34m(\u001b[0m\u001b[0mself\u001b[0m\u001b[0;34m,\u001b[0m \u001b[0;34m*\u001b[0m\u001b[0margs\u001b[0m\u001b[0;34m,\u001b[0m \u001b[0;34m**\u001b[0m\u001b[0mkwargs\u001b[0m\u001b[0;34m)\u001b[0m\u001b[0;34m:\u001b[0m\u001b[0;34m\u001b[0m\u001b[0;34m\u001b[0m\u001b[0m\n\u001b[1;32m     65\u001b[0m     \u001b[0;32mif\u001b[0m \u001b[0;32mnot\u001b[0m \u001b[0mself\u001b[0m\u001b[0;34m.\u001b[0m\u001b[0m_in_multi_worker_mode\u001b[0m\u001b[0;34m(\u001b[0m\u001b[0;34m)\u001b[0m\u001b[0;34m:\u001b[0m  \u001b[0;31m# pylint: disable=protected-access\u001b[0m\u001b[0;34m\u001b[0m\u001b[0;34m\u001b[0m\u001b[0m\n\u001b[0;32m---> 66\u001b[0;31m       \u001b[0;32mreturn\u001b[0m \u001b[0mmethod\u001b[0m\u001b[0;34m(\u001b[0m\u001b[0mself\u001b[0m\u001b[0;34m,\u001b[0m \u001b[0;34m*\u001b[0m\u001b[0margs\u001b[0m\u001b[0;34m,\u001b[0m \u001b[0;34m**\u001b[0m\u001b[0mkwargs\u001b[0m\u001b[0;34m)\u001b[0m\u001b[0;34m\u001b[0m\u001b[0;34m\u001b[0m\u001b[0m\n\u001b[0m\u001b[1;32m     67\u001b[0m \u001b[0;34m\u001b[0m\u001b[0m\n\u001b[1;32m     68\u001b[0m     \u001b[0;31m# Running inside `run_distribute_coordinator` already.\u001b[0m\u001b[0;34m\u001b[0m\u001b[0;34m\u001b[0m\u001b[0;34m\u001b[0m\u001b[0m\n",
      "\u001b[0;32m~/anaconda3/envs/py37/lib/python3.7/site-packages/tensorflow/python/keras/engine/training.py\u001b[0m in \u001b[0;36mevaluate\u001b[0;34m(self, x, y, batch_size, verbose, sample_weight, steps, callbacks, max_queue_size, workers, use_multiprocessing, return_dict)\u001b[0m\n\u001b[1;32m   1079\u001b[0m                 step_num=step):\n\u001b[1;32m   1080\u001b[0m               \u001b[0mcallbacks\u001b[0m\u001b[0;34m.\u001b[0m\u001b[0mon_test_batch_begin\u001b[0m\u001b[0;34m(\u001b[0m\u001b[0mstep\u001b[0m\u001b[0;34m)\u001b[0m\u001b[0;34m\u001b[0m\u001b[0;34m\u001b[0m\u001b[0m\n\u001b[0;32m-> 1081\u001b[0;31m               \u001b[0mtmp_logs\u001b[0m \u001b[0;34m=\u001b[0m \u001b[0mtest_function\u001b[0m\u001b[0;34m(\u001b[0m\u001b[0miterator\u001b[0m\u001b[0;34m)\u001b[0m\u001b[0;34m\u001b[0m\u001b[0;34m\u001b[0m\u001b[0m\n\u001b[0m\u001b[1;32m   1082\u001b[0m               \u001b[0;31m# Catch OutOfRangeError for Datasets of unknown size.\u001b[0m\u001b[0;34m\u001b[0m\u001b[0;34m\u001b[0m\u001b[0;34m\u001b[0m\u001b[0m\n\u001b[1;32m   1083\u001b[0m               \u001b[0;31m# This blocks until the batch has finished executing.\u001b[0m\u001b[0;34m\u001b[0m\u001b[0;34m\u001b[0m\u001b[0;34m\u001b[0m\u001b[0m\n",
      "\u001b[0;32m~/anaconda3/envs/py37/lib/python3.7/site-packages/tensorflow/python/eager/def_function.py\u001b[0m in \u001b[0;36m__call__\u001b[0;34m(self, *args, **kwds)\u001b[0m\n\u001b[1;32m    578\u001b[0m         \u001b[0mxla_context\u001b[0m\u001b[0;34m.\u001b[0m\u001b[0mExit\u001b[0m\u001b[0;34m(\u001b[0m\u001b[0;34m)\u001b[0m\u001b[0;34m\u001b[0m\u001b[0;34m\u001b[0m\u001b[0m\n\u001b[1;32m    579\u001b[0m     \u001b[0;32melse\u001b[0m\u001b[0;34m:\u001b[0m\u001b[0;34m\u001b[0m\u001b[0;34m\u001b[0m\u001b[0m\n\u001b[0;32m--> 580\u001b[0;31m       \u001b[0mresult\u001b[0m \u001b[0;34m=\u001b[0m \u001b[0mself\u001b[0m\u001b[0;34m.\u001b[0m\u001b[0m_call\u001b[0m\u001b[0;34m(\u001b[0m\u001b[0;34m*\u001b[0m\u001b[0margs\u001b[0m\u001b[0;34m,\u001b[0m \u001b[0;34m**\u001b[0m\u001b[0mkwds\u001b[0m\u001b[0;34m)\u001b[0m\u001b[0;34m\u001b[0m\u001b[0;34m\u001b[0m\u001b[0m\n\u001b[0m\u001b[1;32m    581\u001b[0m \u001b[0;34m\u001b[0m\u001b[0m\n\u001b[1;32m    582\u001b[0m     \u001b[0;32mif\u001b[0m \u001b[0mtracing_count\u001b[0m \u001b[0;34m==\u001b[0m \u001b[0mself\u001b[0m\u001b[0;34m.\u001b[0m\u001b[0m_get_tracing_count\u001b[0m\u001b[0;34m(\u001b[0m\u001b[0;34m)\u001b[0m\u001b[0;34m:\u001b[0m\u001b[0;34m\u001b[0m\u001b[0;34m\u001b[0m\u001b[0m\n",
      "\u001b[0;32m~/anaconda3/envs/py37/lib/python3.7/site-packages/tensorflow/python/eager/def_function.py\u001b[0m in \u001b[0;36m_call\u001b[0;34m(self, *args, **kwds)\u001b[0m\n\u001b[1;32m    616\u001b[0m       \u001b[0;31m# In this case we have not created variables on the first call. So we can\u001b[0m\u001b[0;34m\u001b[0m\u001b[0;34m\u001b[0m\u001b[0;34m\u001b[0m\u001b[0m\n\u001b[1;32m    617\u001b[0m       \u001b[0;31m# run the first trace but we should fail if variables are created.\u001b[0m\u001b[0;34m\u001b[0m\u001b[0;34m\u001b[0m\u001b[0;34m\u001b[0m\u001b[0m\n\u001b[0;32m--> 618\u001b[0;31m       \u001b[0mresults\u001b[0m \u001b[0;34m=\u001b[0m \u001b[0mself\u001b[0m\u001b[0;34m.\u001b[0m\u001b[0m_stateful_fn\u001b[0m\u001b[0;34m(\u001b[0m\u001b[0;34m*\u001b[0m\u001b[0margs\u001b[0m\u001b[0;34m,\u001b[0m \u001b[0;34m**\u001b[0m\u001b[0mkwds\u001b[0m\u001b[0;34m)\u001b[0m\u001b[0;34m\u001b[0m\u001b[0;34m\u001b[0m\u001b[0m\n\u001b[0m\u001b[1;32m    619\u001b[0m       \u001b[0;32mif\u001b[0m \u001b[0mself\u001b[0m\u001b[0;34m.\u001b[0m\u001b[0m_created_variables\u001b[0m\u001b[0;34m:\u001b[0m\u001b[0;34m\u001b[0m\u001b[0;34m\u001b[0m\u001b[0m\n\u001b[1;32m    620\u001b[0m         raise ValueError(\"Creating variables on a non-first call to a function\"\n",
      "\u001b[0;32m~/anaconda3/envs/py37/lib/python3.7/site-packages/tensorflow/python/eager/function.py\u001b[0m in \u001b[0;36m__call__\u001b[0;34m(self, *args, **kwargs)\u001b[0m\n\u001b[1;32m   2418\u001b[0m     \u001b[0;32mwith\u001b[0m \u001b[0mself\u001b[0m\u001b[0;34m.\u001b[0m\u001b[0m_lock\u001b[0m\u001b[0;34m:\u001b[0m\u001b[0;34m\u001b[0m\u001b[0;34m\u001b[0m\u001b[0m\n\u001b[1;32m   2419\u001b[0m       \u001b[0mgraph_function\u001b[0m\u001b[0;34m,\u001b[0m \u001b[0margs\u001b[0m\u001b[0;34m,\u001b[0m \u001b[0mkwargs\u001b[0m \u001b[0;34m=\u001b[0m \u001b[0mself\u001b[0m\u001b[0;34m.\u001b[0m\u001b[0m_maybe_define_function\u001b[0m\u001b[0;34m(\u001b[0m\u001b[0margs\u001b[0m\u001b[0;34m,\u001b[0m \u001b[0mkwargs\u001b[0m\u001b[0;34m)\u001b[0m\u001b[0;34m\u001b[0m\u001b[0;34m\u001b[0m\u001b[0m\n\u001b[0;32m-> 2420\u001b[0;31m     \u001b[0;32mreturn\u001b[0m \u001b[0mgraph_function\u001b[0m\u001b[0;34m.\u001b[0m\u001b[0m_filtered_call\u001b[0m\u001b[0;34m(\u001b[0m\u001b[0margs\u001b[0m\u001b[0;34m,\u001b[0m \u001b[0mkwargs\u001b[0m\u001b[0;34m)\u001b[0m  \u001b[0;31m# pylint: disable=protected-access\u001b[0m\u001b[0;34m\u001b[0m\u001b[0;34m\u001b[0m\u001b[0m\n\u001b[0m\u001b[1;32m   2421\u001b[0m \u001b[0;34m\u001b[0m\u001b[0m\n\u001b[1;32m   2422\u001b[0m   \u001b[0;34m@\u001b[0m\u001b[0mproperty\u001b[0m\u001b[0;34m\u001b[0m\u001b[0;34m\u001b[0m\u001b[0m\n",
      "\u001b[0;32m~/anaconda3/envs/py37/lib/python3.7/site-packages/tensorflow/python/eager/function.py\u001b[0m in \u001b[0;36m_filtered_call\u001b[0;34m(self, args, kwargs)\u001b[0m\n\u001b[1;32m   1663\u001b[0m          if isinstance(t, (ops.Tensor,\n\u001b[1;32m   1664\u001b[0m                            resource_variable_ops.BaseResourceVariable))),\n\u001b[0;32m-> 1665\u001b[0;31m         self.captured_inputs)\n\u001b[0m\u001b[1;32m   1666\u001b[0m \u001b[0;34m\u001b[0m\u001b[0m\n\u001b[1;32m   1667\u001b[0m   \u001b[0;32mdef\u001b[0m \u001b[0m_call_flat\u001b[0m\u001b[0;34m(\u001b[0m\u001b[0mself\u001b[0m\u001b[0;34m,\u001b[0m \u001b[0margs\u001b[0m\u001b[0;34m,\u001b[0m \u001b[0mcaptured_inputs\u001b[0m\u001b[0;34m,\u001b[0m \u001b[0mcancellation_manager\u001b[0m\u001b[0;34m=\u001b[0m\u001b[0;32mNone\u001b[0m\u001b[0;34m)\u001b[0m\u001b[0;34m:\u001b[0m\u001b[0;34m\u001b[0m\u001b[0;34m\u001b[0m\u001b[0m\n",
      "\u001b[0;32m~/anaconda3/envs/py37/lib/python3.7/site-packages/tensorflow/python/eager/function.py\u001b[0m in \u001b[0;36m_call_flat\u001b[0;34m(self, args, captured_inputs, cancellation_manager)\u001b[0m\n\u001b[1;32m   1744\u001b[0m       \u001b[0;31m# No tape is watching; skip to running the function.\u001b[0m\u001b[0;34m\u001b[0m\u001b[0;34m\u001b[0m\u001b[0;34m\u001b[0m\u001b[0m\n\u001b[1;32m   1745\u001b[0m       return self._build_call_outputs(self._inference_function.call(\n\u001b[0;32m-> 1746\u001b[0;31m           ctx, args, cancellation_manager=cancellation_manager))\n\u001b[0m\u001b[1;32m   1747\u001b[0m     forward_backward = self._select_forward_and_backward_functions(\n\u001b[1;32m   1748\u001b[0m         \u001b[0margs\u001b[0m\u001b[0;34m,\u001b[0m\u001b[0;34m\u001b[0m\u001b[0;34m\u001b[0m\u001b[0m\n",
      "\u001b[0;32m~/anaconda3/envs/py37/lib/python3.7/site-packages/tensorflow/python/eager/function.py\u001b[0m in \u001b[0;36mcall\u001b[0;34m(self, ctx, args, cancellation_manager)\u001b[0m\n\u001b[1;32m    596\u001b[0m               \u001b[0minputs\u001b[0m\u001b[0;34m=\u001b[0m\u001b[0margs\u001b[0m\u001b[0;34m,\u001b[0m\u001b[0;34m\u001b[0m\u001b[0;34m\u001b[0m\u001b[0m\n\u001b[1;32m    597\u001b[0m               \u001b[0mattrs\u001b[0m\u001b[0;34m=\u001b[0m\u001b[0mattrs\u001b[0m\u001b[0;34m,\u001b[0m\u001b[0;34m\u001b[0m\u001b[0;34m\u001b[0m\u001b[0m\n\u001b[0;32m--> 598\u001b[0;31m               ctx=ctx)\n\u001b[0m\u001b[1;32m    599\u001b[0m         \u001b[0;32melse\u001b[0m\u001b[0;34m:\u001b[0m\u001b[0;34m\u001b[0m\u001b[0;34m\u001b[0m\u001b[0m\n\u001b[1;32m    600\u001b[0m           outputs = execute.execute_with_cancellation(\n",
      "\u001b[0;32m~/anaconda3/envs/py37/lib/python3.7/site-packages/tensorflow/python/eager/execute.py\u001b[0m in \u001b[0;36mquick_execute\u001b[0;34m(op_name, num_outputs, inputs, attrs, ctx, name)\u001b[0m\n\u001b[1;32m     58\u001b[0m     \u001b[0mctx\u001b[0m\u001b[0;34m.\u001b[0m\u001b[0mensure_initialized\u001b[0m\u001b[0;34m(\u001b[0m\u001b[0;34m)\u001b[0m\u001b[0;34m\u001b[0m\u001b[0;34m\u001b[0m\u001b[0m\n\u001b[1;32m     59\u001b[0m     tensors = pywrap_tfe.TFE_Py_Execute(ctx._handle, device_name, op_name,\n\u001b[0;32m---> 60\u001b[0;31m                                         inputs, attrs, num_outputs)\n\u001b[0m\u001b[1;32m     61\u001b[0m   \u001b[0;32mexcept\u001b[0m \u001b[0mcore\u001b[0m\u001b[0;34m.\u001b[0m\u001b[0m_NotOkStatusException\u001b[0m \u001b[0;32mas\u001b[0m \u001b[0me\u001b[0m\u001b[0;34m:\u001b[0m\u001b[0;34m\u001b[0m\u001b[0;34m\u001b[0m\u001b[0m\n\u001b[1;32m     62\u001b[0m     \u001b[0;32mif\u001b[0m \u001b[0mname\u001b[0m \u001b[0;32mis\u001b[0m \u001b[0;32mnot\u001b[0m \u001b[0;32mNone\u001b[0m\u001b[0;34m:\u001b[0m\u001b[0;34m\u001b[0m\u001b[0;34m\u001b[0m\u001b[0m\n",
      "\u001b[0;31mKeyboardInterrupt\u001b[0m: "
     ]
    }
   ],
   "source": [
    "%run src/train_rnn.py"
   ]
  },
  {
   "cell_type": "code",
   "execution_count": 3,
   "metadata": {},
   "outputs": [],
   "source": [
    "# import numpy as np\n",
    "\n",
    "# correct_simple_va = np.load('/home/rangulov/sequences_simple_va/video83-features.npy')\n",
    "\n",
    "# print(correct_simple_va)\n"
   ]
  },
  {
   "cell_type": "code",
   "execution_count": null,
   "metadata": {},
   "outputs": [],
   "source": []
  }
 ],
 "metadata": {
  "kernelspec": {
   "display_name": "Python 3",
   "language": "python",
   "name": "python3"
  },
  "language_info": {
   "codemirror_mode": {
    "name": "ipython",
    "version": 3
   },
   "file_extension": ".py",
   "mimetype": "text/x-python",
   "name": "python",
   "nbconvert_exporter": "python",
   "pygments_lexer": "ipython3",
   "version": "3.7.6"
  }
 },
 "nbformat": 4,
 "nbformat_minor": 4
}
